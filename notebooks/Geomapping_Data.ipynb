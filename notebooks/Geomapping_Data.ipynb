{
 "cells": [
  {
   "cell_type": "code",
   "execution_count": 56,
   "metadata": {},
   "outputs": [],
   "source": [
    "import pandas as pd\n",
    "import matplotlib.pyplot as plt\n",
    "import numpy as np\n",
    "%matplotlib inline\n",
    "import gmaps"
   ]
  },
  {
   "cell_type": "code",
   "execution_count": 57,
   "metadata": {},
   "outputs": [],
   "source": [
    "df = pd.read_csv(\"https://data.cityofnewyork.us/resource/wvxf-dwi5.csv?$limit=50000\")"
   ]
  },
  {
   "cell_type": "code",
   "execution_count": 60,
   "metadata": {},
   "outputs": [
    {
     "data": {
      "text/plain": [
       "198"
      ]
     },
     "execution_count": 60,
     "metadata": {},
     "output_type": "execute_result"
    }
   ],
   "source": [
    "len(df)"
   ]
  },
  {
   "cell_type": "code",
   "execution_count": 59,
   "metadata": {},
   "outputs": [
    {
     "data": {
      "text/html": [
       "<div>\n",
       "<style scoped>\n",
       "    .dataframe tbody tr th:only-of-type {\n",
       "        vertical-align: middle;\n",
       "    }\n",
       "\n",
       "    .dataframe tbody tr th {\n",
       "        vertical-align: top;\n",
       "    }\n",
       "\n",
       "    .dataframe thead th {\n",
       "        text-align: right;\n",
       "    }\n",
       "</style>\n",
       "<table border=\"1\" class=\"dataframe\">\n",
       "  <thead>\n",
       "    <tr style=\"text-align: right;\">\n",
       "      <th></th>\n",
       "      <th>violationid</th>\n",
       "      <th>buildingid</th>\n",
       "      <th>registrationid</th>\n",
       "      <th>boroid</th>\n",
       "      <th>boro</th>\n",
       "      <th>housenumber</th>\n",
       "      <th>lowhousenumber</th>\n",
       "      <th>highhousenumber</th>\n",
       "      <th>streetname</th>\n",
       "      <th>streetcode</th>\n",
       "      <th>...</th>\n",
       "      <th>novtype</th>\n",
       "      <th>violationstatus</th>\n",
       "      <th>latitude</th>\n",
       "      <th>longitude</th>\n",
       "      <th>communityboard</th>\n",
       "      <th>councildistrict</th>\n",
       "      <th>censustract</th>\n",
       "      <th>bin</th>\n",
       "      <th>bbl</th>\n",
       "      <th>nta</th>\n",
       "    </tr>\n",
       "  </thead>\n",
       "  <tbody>\n",
       "    <tr>\n",
       "      <th>76</th>\n",
       "      <td>10000394</td>\n",
       "      <td>52006</td>\n",
       "      <td>210581</td>\n",
       "      <td>2</td>\n",
       "      <td>BRONX</td>\n",
       "      <td>2320</td>\n",
       "      <td>2320</td>\n",
       "      <td>2320</td>\n",
       "      <td>BRONX PARK EAST</td>\n",
       "      <td>15220</td>\n",
       "      <td>...</td>\n",
       "      <td>Original</td>\n",
       "      <td>Close</td>\n",
       "      <td>40.860036</td>\n",
       "      <td>-73.870734</td>\n",
       "      <td>11.0</td>\n",
       "      <td>15.0</td>\n",
       "      <td>33201.0</td>\n",
       "      <td>2049747.0</td>\n",
       "      <td>2.043400e+09</td>\n",
       "      <td>Bronxdale</td>\n",
       "    </tr>\n",
       "    <tr>\n",
       "      <th>1072</th>\n",
       "      <td>10003633</td>\n",
       "      <td>343610</td>\n",
       "      <td>303619</td>\n",
       "      <td>3</td>\n",
       "      <td>BROOKLYN</td>\n",
       "      <td>170</td>\n",
       "      <td>170</td>\n",
       "      <td>170</td>\n",
       "      <td>NEW YORK AVENUE</td>\n",
       "      <td>64830</td>\n",
       "      <td>...</td>\n",
       "      <td>Original</td>\n",
       "      <td>Close</td>\n",
       "      <td>40.674488</td>\n",
       "      <td>-73.947294</td>\n",
       "      <td>8.0</td>\n",
       "      <td>36.0</td>\n",
       "      <td>31701.0</td>\n",
       "      <td>3031005.0</td>\n",
       "      <td>3.012270e+09</td>\n",
       "      <td>Crown Heights North</td>\n",
       "    </tr>\n",
       "    <tr>\n",
       "      <th>1073</th>\n",
       "      <td>10003634</td>\n",
       "      <td>343610</td>\n",
       "      <td>303619</td>\n",
       "      <td>3</td>\n",
       "      <td>BROOKLYN</td>\n",
       "      <td>170</td>\n",
       "      <td>170</td>\n",
       "      <td>170</td>\n",
       "      <td>NEW YORK AVENUE</td>\n",
       "      <td>64830</td>\n",
       "      <td>...</td>\n",
       "      <td>Original</td>\n",
       "      <td>Close</td>\n",
       "      <td>40.674488</td>\n",
       "      <td>-73.947294</td>\n",
       "      <td>8.0</td>\n",
       "      <td>36.0</td>\n",
       "      <td>31701.0</td>\n",
       "      <td>3031005.0</td>\n",
       "      <td>3.012270e+09</td>\n",
       "      <td>Crown Heights North</td>\n",
       "    </tr>\n",
       "    <tr>\n",
       "      <th>1074</th>\n",
       "      <td>10003635</td>\n",
       "      <td>343610</td>\n",
       "      <td>303619</td>\n",
       "      <td>3</td>\n",
       "      <td>BROOKLYN</td>\n",
       "      <td>170</td>\n",
       "      <td>170</td>\n",
       "      <td>170</td>\n",
       "      <td>NEW YORK AVENUE</td>\n",
       "      <td>64830</td>\n",
       "      <td>...</td>\n",
       "      <td>Original</td>\n",
       "      <td>Close</td>\n",
       "      <td>40.674488</td>\n",
       "      <td>-73.947294</td>\n",
       "      <td>8.0</td>\n",
       "      <td>36.0</td>\n",
       "      <td>31701.0</td>\n",
       "      <td>3031005.0</td>\n",
       "      <td>3.012270e+09</td>\n",
       "      <td>Crown Heights North</td>\n",
       "    </tr>\n",
       "    <tr>\n",
       "      <th>1075</th>\n",
       "      <td>10003636</td>\n",
       "      <td>343610</td>\n",
       "      <td>303619</td>\n",
       "      <td>3</td>\n",
       "      <td>BROOKLYN</td>\n",
       "      <td>170</td>\n",
       "      <td>170</td>\n",
       "      <td>170</td>\n",
       "      <td>NEW YORK AVENUE</td>\n",
       "      <td>64830</td>\n",
       "      <td>...</td>\n",
       "      <td>Original</td>\n",
       "      <td>Close</td>\n",
       "      <td>40.674488</td>\n",
       "      <td>-73.947294</td>\n",
       "      <td>8.0</td>\n",
       "      <td>36.0</td>\n",
       "      <td>31701.0</td>\n",
       "      <td>3031005.0</td>\n",
       "      <td>3.012270e+09</td>\n",
       "      <td>Crown Heights North</td>\n",
       "    </tr>\n",
       "  </tbody>\n",
       "</table>\n",
       "<p>5 rows × 40 columns</p>\n",
       "</div>"
      ],
      "text/plain": [
       "      violationid  buildingid  registrationid  boroid      boro housenumber  \\\n",
       "76       10000394       52006          210581       2     BRONX        2320   \n",
       "1072     10003633      343610          303619       3  BROOKLYN         170   \n",
       "1073     10003634      343610          303619       3  BROOKLYN         170   \n",
       "1074     10003635      343610          303619       3  BROOKLYN         170   \n",
       "1075     10003636      343610          303619       3  BROOKLYN         170   \n",
       "\n",
       "     lowhousenumber highhousenumber       streetname  streetcode  \\\n",
       "76             2320            2320  BRONX PARK EAST       15220   \n",
       "1072            170             170  NEW YORK AVENUE       64830   \n",
       "1073            170             170  NEW YORK AVENUE       64830   \n",
       "1074            170             170  NEW YORK AVENUE       64830   \n",
       "1075            170             170  NEW YORK AVENUE       64830   \n",
       "\n",
       "             ...            novtype violationstatus   latitude  longitude  \\\n",
       "76           ...           Original           Close  40.860036 -73.870734   \n",
       "1072         ...           Original           Close  40.674488 -73.947294   \n",
       "1073         ...           Original           Close  40.674488 -73.947294   \n",
       "1074         ...           Original           Close  40.674488 -73.947294   \n",
       "1075         ...           Original           Close  40.674488 -73.947294   \n",
       "\n",
       "      communityboard councildistrict censustract        bin           bbl  \\\n",
       "76              11.0            15.0     33201.0  2049747.0  2.043400e+09   \n",
       "1072             8.0            36.0     31701.0  3031005.0  3.012270e+09   \n",
       "1073             8.0            36.0     31701.0  3031005.0  3.012270e+09   \n",
       "1074             8.0            36.0     31701.0  3031005.0  3.012270e+09   \n",
       "1075             8.0            36.0     31701.0  3031005.0  3.012270e+09   \n",
       "\n",
       "                      nta  \n",
       "76              Bronxdale  \n",
       "1072  Crown Heights North  \n",
       "1073  Crown Heights North  \n",
       "1074  Crown Heights North  \n",
       "1075  Crown Heights North  \n",
       "\n",
       "[5 rows x 40 columns]"
      ]
     },
     "execution_count": 59,
     "metadata": {},
     "output_type": "execute_result"
    }
   ],
   "source": [
    "df.dropna(inplace = True)\n",
    "df.head()"
   ]
  },
  {
   "cell_type": "code",
   "execution_count": 51,
   "metadata": {},
   "outputs": [
    {
     "data": {
      "text/plain": [
       "latitude     True\n",
       "longitude    True\n",
       "dtype: bool"
      ]
     },
     "execution_count": 51,
     "metadata": {},
     "output_type": "execute_result"
    }
   ],
   "source": [
    "#locations.isna().any()"
   ]
  },
  {
   "cell_type": "code",
   "execution_count": 61,
   "metadata": {},
   "outputs": [],
   "source": [
    "# Store latitude and longitude in locations\n",
    "locations = df[[\"latitude\", \"longitude\"]]\n",
    "\n",
    "# Fill NaN values and convert to float\n",
    "violations = df[\"violationid\"].astype(float)"
   ]
  },
  {
   "cell_type": "code",
   "execution_count": 65,
   "metadata": {},
   "outputs": [
    {
     "data": {
      "application/vnd.jupyter.widget-view+json": {
       "model_id": "c8ba0fcdcc57467183a22c10f78d2c3c",
       "version_major": 2,
       "version_minor": 0
      },
      "text/plain": [
       "Figure(layout=FigureLayout(height='420px'))"
      ]
     },
     "metadata": {},
     "output_type": "display_data"
    }
   ],
   "source": [
    "# Plot Heatmap\n",
    "fig = gmaps.figure()\n",
    "\n",
    "# Create heat layer\n",
    "heat_layer = gmaps.heatmap_layer(locations, weights=violations, \n",
    "                                 dissipating=False, max_intensity=10,\n",
    "                                 point_radius=1)\n",
    "\n",
    "\n",
    "# Add layer\n",
    "fig.add_layer(heat_layer)\n",
    "\n",
    "# Display figure\n",
    "fig"
   ]
  },
  {
   "cell_type": "code",
   "execution_count": 64,
   "metadata": {},
   "outputs": [
    {
     "data": {
      "application/vnd.jupyter.widget-view+json": {
       "model_id": "b89d52222e374cbf8a2699f62f0dd631",
       "version_major": 2,
       "version_minor": 0
      },
      "text/plain": [
       "Figure(layout=FigureLayout(height='420px'))"
      ]
     },
     "metadata": {},
     "output_type": "display_data"
    }
   ],
   "source": [
    "fig = gmaps.figure(map_type=\"HYBRID\")\n",
    "\n",
    "# Create heat layer\n",
    "heat_layer = gmaps.heatmap_layer(locations, weights=violations, \n",
    "                                 dissipating=False, max_intensity=10,\n",
    "                                 point_radius=1)\n",
    "\n",
    "fig.add_layer(heat_layer)\n",
    "fig"
   ]
  },
  {
   "cell_type": "code",
   "execution_count": null,
   "metadata": {},
   "outputs": [],
   "source": []
  }
 ],
 "metadata": {
  "kernelspec": {
   "display_name": "Python 3",
   "language": "python",
   "name": "python3"
  },
  "language_info": {
   "codemirror_mode": {
    "name": "ipython",
    "version": 3
   },
   "file_extension": ".py",
   "mimetype": "text/x-python",
   "name": "python",
   "nbconvert_exporter": "python",
   "pygments_lexer": "ipython3",
   "version": "3.6.5"
  }
 },
 "nbformat": 4,
 "nbformat_minor": 2
}

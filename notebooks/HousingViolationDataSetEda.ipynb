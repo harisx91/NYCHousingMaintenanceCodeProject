{
 "cells": [
  {
   "cell_type": "markdown",
   "metadata": {},
   "source": [
    "### Housing Violations Dataset Exploration\n"
   ]
  },
  {
   "cell_type": "markdown",
   "metadata": {},
   "source": [
    "Now that we have all of our data, we want to start finding trends and visualizing it. We come into this asking some very elementary questions; Where are incidents most common? What time of year do most incidents occur in? Are there any peculiar trends? First though, we need to see the shape of our data."
   ]
  },
  {
   "cell_type": "code",
   "execution_count": 1,
   "metadata": {},
   "outputs": [],
   "source": [
    "import pandas as pd\n",
    "import matplotlib.pyplot as plt\n",
    "import numpy as np\n",
    "%matplotlib inline\n"
   ]
  },
  {
   "cell_type": "code",
   "execution_count": 2,
   "metadata": {},
   "outputs": [],
   "source": [
    "#import our data\n",
    "df = pd.read_csv('../data/clean.csv', parse_dates = ['inspectiondate',\n",
    "                                                     'currentstatusdate']).drop('newcorrectbydate',axis=1)"
   ]
  },
  {
   "cell_type": "code",
   "execution_count": 3,
   "metadata": {},
   "outputs": [
    {
     "data": {
      "text/plain": [
       "violationid              49377\n",
       "buildingid               49377\n",
       "boro                     49377\n",
       "zip                      49375\n",
       "inspectiondate           49377\n",
       "originalcorrectbydate    48730\n",
       "novdescription           49377\n",
       "class                    49377\n",
       "currentstatus            49377\n",
       "currentstatusdate        49377\n",
       "currentstatusdate        49377\n",
       "dtype: int64"
      ]
     },
     "execution_count": 3,
     "metadata": {},
     "output_type": "execute_result"
    }
   ],
   "source": [
    "df.count()"
   ]
  },
  {
   "cell_type": "markdown",
   "metadata": {},
   "source": [
    "So we see we have a lot of rows to work with. Now on a most basic level we want to see what the status of these violations are"
   ]
  },
  {
   "cell_type": "code",
   "execution_count": 4,
   "metadata": {},
   "outputs": [
    {
     "data": {
      "text/plain": [
       "VIOLATION CLOSED                            41461\n",
       "VIOLATION DISMISSED                          4110\n",
       "FIRST NO ACCESS TO RE- INSPECT VIOLATION     1410\n",
       "NOT COMPLIED WITH                            1265\n",
       "NOV SENT OUT                                  556\n",
       "DEFECT LETTER ISSUED                          175\n",
       "NOV CERTIFIED LATE                            171\n",
       "SECOND NO ACCESS TO RE-INSPECT VIOLATION      134\n",
       "VIOLATION WILL BE REINSPECTED                  28\n",
       "INVALID CERTIFICATION                          22\n",
       "INFO NOV SENT OUT                              20\n",
       "FALSE CERTIFICATION                            19\n",
       "NOTICE OF ISSUANCE SENT TO TENANT               3\n",
       "CIV14 MAILED                                    2\n",
       "VIOLATION REOPEN                                1\n",
       "Name: currentstatus, dtype: int64"
      ]
     },
     "execution_count": 4,
     "metadata": {},
     "output_type": "execute_result"
    }
   ],
   "source": [
    "statusCounts = df.currentstatus.value_counts()\n",
    "statusCounts"
   ]
  },
  {
   "cell_type": "markdown",
   "metadata": {},
   "source": [
    "Interestingly enough, most of the cases are closed. Now what can cause a violation to be closed? According to the dataset description... `The violation status is closed when the violation is observed/verified as corrected by HPD or as certified by the landlord.`"
   ]
  },
  {
   "cell_type": "markdown",
   "metadata": {},
   "source": [
    "This leads to a noteworthy first observation: *Most violations are in fact corrected for*."
   ]
  },
  {
   "cell_type": "markdown",
   "metadata": {},
   "source": [
    "Now of the ones that aren't... some have been dissmissed. Some were not complied with, and others are still in the early stages of processing. Let's normalize these numbers by turning them into percents so that they are easier to look at. "
   ]
  },
  {
   "cell_type": "code",
   "execution_count": 5,
   "metadata": {},
   "outputs": [
    {
     "data": {
      "text/plain": [
       "VIOLATION CLOSED                            83.968244\n",
       "VIOLATION DISMISSED                          8.323713\n",
       "FIRST NO ACCESS TO RE- INSPECT VIOLATION     2.855581\n",
       "NOT COMPLIED WITH                            2.561922\n",
       "NOV SENT OUT                                 1.126030\n",
       "DEFECT LETTER ISSUED                         0.354416\n",
       "NOV CERTIFIED LATE                           0.346315\n",
       "SECOND NO ACCESS TO RE-INSPECT VIOLATION     0.271381\n",
       "VIOLATION WILL BE REINSPECTED                0.056707\n",
       "INVALID CERTIFICATION                        0.044555\n",
       "INFO NOV SENT OUT                            0.040505\n",
       "FALSE CERTIFICATION                          0.038479\n",
       "NOTICE OF ISSUANCE SENT TO TENANT            0.006076\n",
       "CIV14 MAILED                                 0.004050\n",
       "VIOLATION REOPEN                             0.002025\n",
       "Name: currentstatus, dtype: float64"
      ]
     },
     "execution_count": 5,
     "metadata": {},
     "output_type": "execute_result"
    }
   ],
   "source": [
    "total = df.currentstatus.value_counts().sum()\n",
    "statusCounts/total * 100"
   ]
  },
  {
   "cell_type": "markdown",
   "metadata": {},
   "source": [
    "Viewing the numbers like this makes it really clear that most cases were closed, a whopping 80 percent."
   ]
  },
  {
   "cell_type": "markdown",
   "metadata": {},
   "source": [
    "Now this begs the obvious question: Why?\n",
    "Here are a couple of possibilities...\n",
    "1. Records tend to only be entered into the system when they are closed. \n",
    "2. We are looking at data from a very narrow time span."
   ]
  },
  {
   "cell_type": "markdown",
   "metadata": {},
   "source": [
    "Now 1 would be a data entry problem. 2 though we could really easily verify. Let's graph number of incidents per month..."
   ]
  },
  {
   "cell_type": "code",
   "execution_count": 6,
   "metadata": {},
   "outputs": [],
   "source": [
    "df['monthCurrentStatus'] = df.currentstatusdate.dt.to_period('M') #First we extract the months/year\n",
    "sorted_df = df.sort_values('monthCurrentStatus') "
   ]
  },
  {
   "cell_type": "code",
   "execution_count": 7,
   "metadata": {},
   "outputs": [
    {
     "data": {
      "text/plain": [
       "monthCurrentStatus\n",
       "2008-06    286\n",
       "2008-07     11\n",
       "2008-08     11\n",
       "2008-09     44\n",
       "2008-10     22\n",
       "Freq: M, dtype: int64"
      ]
     },
     "execution_count": 7,
     "metadata": {},
     "output_type": "execute_result"
    }
   ],
   "source": [
    "counts = sorted_df.groupby('monthCurrentStatus').count().sum(axis=1) #Yes we could use value_counts but then we have to resort\n",
    "counts.head()"
   ]
  },
  {
   "cell_type": "code",
   "execution_count": 8,
   "metadata": {},
   "outputs": [
    {
     "data": {
      "text/plain": [
       "Text(0.5, 1.0, 'Number of Incidents Statuses over Time')"
      ]
     },
     "execution_count": 8,
     "metadata": {},
     "output_type": "execute_result"
    },
    {
     "data": {
      "image/png": "[encoded data removed]",
      "text/plain": [
       "<Figure size 432x288 with 1 Axes>"
      ]
     },
     "metadata": {
      "needs_background": "light"
     },
     "output_type": "display_data"
    }
   ],
   "source": [
    "counts.plot()\n",
    "plt.title(\"Number of Incidents Statuses over Time\")"
   ]
  },
  {
   "cell_type": "markdown",
   "metadata": {},
   "source": [
    "Now we immediatly see that a lot our incidents were torwards the end of 2014 and less were reported since then. \n",
    "This doesn't iteself answer our original question of why are almost all the statuses closed but it seems like most of the data was entered during this period when the data was marked as completed."
   ]
  },
  {
   "cell_type": "markdown",
   "metadata": {},
   "source": [
    "Now this is really odd... This is why. Remember how at the botumn of the previous <a href = https://github.com/harisx91/NYCHousingMaintenanceCodeProject/blob/master/notebooks/HousingCleaning.ipynb> notebook </a> I said that the Socrata API was not giving us a random sample? We can prove it here..."
   ]
  },
  {
   "cell_type": "markdown",
   "metadata": {},
   "source": [
    "We have a count of how many incidents occured in 2016, 2017, and 2018 from the previous notebook Let's eyeglance (not using statistics) if the numbers match these. "
   ]
  },
  {
   "cell_type": "code",
   "execution_count": 43,
   "metadata": {},
   "outputs": [],
   "source": [
    "df_2018 = pd.read_csv('../data/inspection_2018.csv')\n",
    "df_2017 = pd.read_csv('../data/inspection_2017.csv')\n",
    "df_2016 = pd.read_csv('../data/inspection_2016.csv')\n",
    "df_2015 = pd.read_csv('../data/inspection_2015.csv')\n",
    "df_2014 = pd.read_csv('../data/inspection_2014.csv')\n",
    "df_2013 = pd.read_csv('../data/inspection_2013.csv')\n",
    "df_2012 = pd.read_csv('../data/inspection_2012.csv')"
   ]
  },
  {
   "cell_type": "code",
   "execution_count": 44,
   "metadata": {},
   "outputs": [
    {
     "name": "stdout",
     "output_type": "stream",
     "text": [
      "There are 513534 records in 2016 \n",
      "There are 556883 records in 2017 \n",
      "There are 642850 records in 2018 \n",
      "There are 397234 records in 2014 \n"
     ]
    }
   ],
   "source": [
    "print('There are {:d} records in 2016 '.format(len(df_2016)))\n",
    "print('There are {:d} records in 2017 '.format(len(df_2017)))\n",
    "print('There are {:d} records in 2018 '.format(len(df_2018)))\n",
    "print('There are {:d} records in 2014 '.format(len(df_2014)))"
   ]
  },
  {
   "cell_type": "markdown",
   "metadata": {},
   "source": [
    "And by inspection on the graph... we can clearly see that this ratio does not hold. 2018 should have the most. Instead we have the increase in 2014. This is why in order to answer the question about what season incidents occur in we can't actually use this data. We can note something interesting, namely that `the number of incidents are increasing per year`. In 2018 642849 incidents occured while in 2014 only 299592. This number is abnormally large so we suspect there is inconsistency with how incidents were recorded during 2014. Let's see if this is true also by class."
   ]
  },
  {
   "cell_type": "code",
   "execution_count": 45,
   "metadata": {},
   "outputs": [],
   "source": [
    "df = pd.concat([df_2012, df_2013, df_2014,df_2015, df_2016, df_2017, df_2018])\n",
    "df.rename(columns={'boro': 'borough'}, inplace=True) # rename since it is spelled wrong\n",
    "df['inspectiondate'] = pd.to_datetime(df['inspectiondate'])\n",
    "df['year'] = df.inspectiondate.dt.to_period('Y')"
   ]
  },
  {
   "cell_type": "code",
   "execution_count": 46,
   "metadata": {},
   "outputs": [],
   "source": [
    "group = df.groupby(['year', 'class']).size()\n"
   ]
  },
  {
   "cell_type": "code",
   "execution_count": 48,
   "metadata": {},
   "outputs": [],
   "source": [
    "years = ['2012','2013','2014','2015','2016','2017','2018']\n",
    "a = []\n",
    "b = []\n",
    "c = []\n",
    "for i in range(2012,2019,1):\n",
    "    a.append(group[str(i)]['A'])\n",
    "    b.append(group[str(i)]['B'])\n",
    "    c.append(group[str(i)]['C'])"
   ]
  },
  {
   "cell_type": "code",
   "execution_count": 49,
   "metadata": {},
   "outputs": [
    {
     "data": {
      "text/plain": [
       "Text(0.5, 1.0, 'Incidents Per Year')"
      ]
     },
     "execution_count": 49,
     "metadata": {},
     "output_type": "execute_result"
    },
    {
     "data": {
      "image/png": "[encoded data removed]",
      "text/plain": [
       "<Figure size 432x288 with 1 Axes>"
      ]
     },
     "metadata": {
      "needs_background": "light"
     },
     "output_type": "display_data"
    }
   ],
   "source": [
    "plt.plot(years,a)\n",
    "plt.plot(years,b)\n",
    "plt.plot(years,c)\n",
    "plt.legend(['A','B','C'])\n",
    "plt.title('Incidents Per Year')"
   ]
  },
  {
   "cell_type": "markdown",
   "metadata": {},
   "source": [
    "Let's calculate the percentage of difference per year for each class."
   ]
  },
  {
   "cell_type": "code",
   "execution_count": 50,
   "metadata": {},
   "outputs": [
    {
     "data": {
      "text/html": [
       "<div>\n",
       "<style scoped>\n",
       "    .dataframe tbody tr th:only-of-type {\n",
       "        vertical-align: middle;\n",
       "    }\n",
       "\n",
       "    .dataframe tbody tr th {\n",
       "        vertical-align: top;\n",
       "    }\n",
       "\n",
       "    .dataframe thead th {\n",
       "        text-align: right;\n",
       "    }\n",
       "</style>\n",
       "<table border=\"1\" class=\"dataframe\">\n",
       "  <thead>\n",
       "    <tr style=\"text-align: right;\">\n",
       "      <th></th>\n",
       "      <th>class</th>\n",
       "      <th>0</th>\n",
       "      <th>difff</th>\n",
       "    </tr>\n",
       "    <tr>\n",
       "      <th>year</th>\n",
       "      <th></th>\n",
       "      <th></th>\n",
       "      <th></th>\n",
       "    </tr>\n",
       "  </thead>\n",
       "  <tbody>\n",
       "    <tr>\n",
       "      <th>2012</th>\n",
       "      <td>A</td>\n",
       "      <td>54913</td>\n",
       "      <td>NaN</td>\n",
       "    </tr>\n",
       "    <tr>\n",
       "      <th>2012</th>\n",
       "      <td>B</td>\n",
       "      <td>178451</td>\n",
       "      <td>NaN</td>\n",
       "    </tr>\n",
       "    <tr>\n",
       "      <th>2012</th>\n",
       "      <td>C</td>\n",
       "      <td>56724</td>\n",
       "      <td>NaN</td>\n",
       "    </tr>\n",
       "    <tr>\n",
       "      <th>2012</th>\n",
       "      <td>I</td>\n",
       "      <td>1173</td>\n",
       "      <td>NaN</td>\n",
       "    </tr>\n",
       "    <tr>\n",
       "      <th>2013</th>\n",
       "      <td>A</td>\n",
       "      <td>67412</td>\n",
       "      <td>0.227615</td>\n",
       "    </tr>\n",
       "    <tr>\n",
       "      <th>2013</th>\n",
       "      <td>B</td>\n",
       "      <td>221219</td>\n",
       "      <td>0.239662</td>\n",
       "    </tr>\n",
       "    <tr>\n",
       "      <th>2013</th>\n",
       "      <td>C</td>\n",
       "      <td>89438</td>\n",
       "      <td>0.576722</td>\n",
       "    </tr>\n",
       "    <tr>\n",
       "      <th>2013</th>\n",
       "      <td>I</td>\n",
       "      <td>1627</td>\n",
       "      <td>0.387042</td>\n",
       "    </tr>\n",
       "    <tr>\n",
       "      <th>2014</th>\n",
       "      <td>A</td>\n",
       "      <td>67622</td>\n",
       "      <td>0.003115</td>\n",
       "    </tr>\n",
       "    <tr>\n",
       "      <th>2014</th>\n",
       "      <td>B</td>\n",
       "      <td>236104</td>\n",
       "      <td>0.067286</td>\n",
       "    </tr>\n",
       "    <tr>\n",
       "      <th>2014</th>\n",
       "      <td>C</td>\n",
       "      <td>92285</td>\n",
       "      <td>0.031832</td>\n",
       "    </tr>\n",
       "    <tr>\n",
       "      <th>2014</th>\n",
       "      <td>I</td>\n",
       "      <td>1223</td>\n",
       "      <td>-0.248310</td>\n",
       "    </tr>\n",
       "    <tr>\n",
       "      <th>2015</th>\n",
       "      <td>A</td>\n",
       "      <td>95127</td>\n",
       "      <td>0.406746</td>\n",
       "    </tr>\n",
       "    <tr>\n",
       "      <th>2015</th>\n",
       "      <td>B</td>\n",
       "      <td>249947</td>\n",
       "      <td>0.058631</td>\n",
       "    </tr>\n",
       "    <tr>\n",
       "      <th>2015</th>\n",
       "      <td>C</td>\n",
       "      <td>90872</td>\n",
       "      <td>-0.015311</td>\n",
       "    </tr>\n",
       "    <tr>\n",
       "      <th>2015</th>\n",
       "      <td>I</td>\n",
       "      <td>114210</td>\n",
       "      <td>92.385119</td>\n",
       "    </tr>\n",
       "    <tr>\n",
       "      <th>2016</th>\n",
       "      <td>A</td>\n",
       "      <td>92759</td>\n",
       "      <td>-0.024893</td>\n",
       "    </tr>\n",
       "    <tr>\n",
       "      <th>2016</th>\n",
       "      <td>B</td>\n",
       "      <td>264723</td>\n",
       "      <td>0.059117</td>\n",
       "    </tr>\n",
       "    <tr>\n",
       "      <th>2016</th>\n",
       "      <td>C</td>\n",
       "      <td>93054</td>\n",
       "      <td>0.024012</td>\n",
       "    </tr>\n",
       "    <tr>\n",
       "      <th>2016</th>\n",
       "      <td>I</td>\n",
       "      <td>62998</td>\n",
       "      <td>-0.448402</td>\n",
       "    </tr>\n",
       "    <tr>\n",
       "      <th>2017</th>\n",
       "      <td>A</td>\n",
       "      <td>124632</td>\n",
       "      <td>0.343611</td>\n",
       "    </tr>\n",
       "    <tr>\n",
       "      <th>2017</th>\n",
       "      <td>B</td>\n",
       "      <td>285201</td>\n",
       "      <td>0.077356</td>\n",
       "    </tr>\n",
       "    <tr>\n",
       "      <th>2017</th>\n",
       "      <td>C</td>\n",
       "      <td>97402</td>\n",
       "      <td>0.046726</td>\n",
       "    </tr>\n",
       "    <tr>\n",
       "      <th>2017</th>\n",
       "      <td>I</td>\n",
       "      <td>49648</td>\n",
       "      <td>-0.211911</td>\n",
       "    </tr>\n",
       "    <tr>\n",
       "      <th>2018</th>\n",
       "      <td>A</td>\n",
       "      <td>139015</td>\n",
       "      <td>0.115404</td>\n",
       "    </tr>\n",
       "    <tr>\n",
       "      <th>2018</th>\n",
       "      <td>B</td>\n",
       "      <td>324454</td>\n",
       "      <td>0.137633</td>\n",
       "    </tr>\n",
       "    <tr>\n",
       "      <th>2018</th>\n",
       "      <td>C</td>\n",
       "      <td>104749</td>\n",
       "      <td>0.075430</td>\n",
       "    </tr>\n",
       "    <tr>\n",
       "      <th>2018</th>\n",
       "      <td>I</td>\n",
       "      <td>74632</td>\n",
       "      <td>0.503223</td>\n",
       "    </tr>\n",
       "  </tbody>\n",
       "</table>\n",
       "</div>"
      ],
      "text/plain": [
       "     class       0      difff\n",
       "year                         \n",
       "2012  A     54913  NaN       \n",
       "2012  B     178451 NaN       \n",
       "2012  C     56724  NaN       \n",
       "2012  I     1173   NaN       \n",
       "2013  A     67412   0.227615 \n",
       "2013  B     221219  0.239662 \n",
       "2013  C     89438   0.576722 \n",
       "2013  I     1627    0.387042 \n",
       "2014  A     67622   0.003115 \n",
       "2014  B     236104  0.067286 \n",
       "2014  C     92285   0.031832 \n",
       "2014  I     1223   -0.248310 \n",
       "2015  A     95127   0.406746 \n",
       "2015  B     249947  0.058631 \n",
       "2015  C     90872  -0.015311 \n",
       "2015  I     114210  92.385119\n",
       "2016  A     92759  -0.024893 \n",
       "2016  B     264723  0.059117 \n",
       "2016  C     93054   0.024012 \n",
       "2016  I     62998  -0.448402 \n",
       "2017  A     124632  0.343611 \n",
       "2017  B     285201  0.077356 \n",
       "2017  C     97402   0.046726 \n",
       "2017  I     49648  -0.211911 \n",
       "2018  A     139015  0.115404 \n",
       "2018  B     324454  0.137633 \n",
       "2018  C     104749  0.075430 \n",
       "2018  I     74632   0.503223 "
      ]
     },
     "execution_count": 50,
     "metadata": {},
     "output_type": "execute_result"
    }
   ],
   "source": [
    "f = df.groupby(['year', 'class']).size()\n",
    "f = f.reset_index().set_index('year')\n",
    "f = pd.DataFrame(f)\n",
    "f['difff'] = f.iloc[:,1\n",
    "      ].pct_change(periods=4)\n",
    "f"
   ]
  },
  {
   "cell_type": "markdown",
   "metadata": {},
   "source": [
    "And now let's see the min and max"
   ]
  },
  {
   "cell_type": "code",
   "execution_count": 51,
   "metadata": {},
   "outputs": [
    {
     "data": {
      "text/html": [
       "<div>\n",
       "<style scoped>\n",
       "    .dataframe tbody tr th:only-of-type {\n",
       "        vertical-align: middle;\n",
       "    }\n",
       "\n",
       "    .dataframe tbody tr th {\n",
       "        vertical-align: top;\n",
       "    }\n",
       "\n",
       "    .dataframe thead tr th {\n",
       "        text-align: left;\n",
       "    }\n",
       "\n",
       "    .dataframe thead tr:last-of-type th {\n",
       "        text-align: right;\n",
       "    }\n",
       "</style>\n",
       "<table border=\"1\" class=\"dataframe\">\n",
       "  <thead>\n",
       "    <tr>\n",
       "      <th></th>\n",
       "      <th colspan=\"2\" halign=\"left\">difff</th>\n",
       "    </tr>\n",
       "    <tr>\n",
       "      <th></th>\n",
       "      <th>min</th>\n",
       "      <th>max</th>\n",
       "    </tr>\n",
       "    <tr>\n",
       "      <th>class</th>\n",
       "      <th></th>\n",
       "      <th></th>\n",
       "    </tr>\n",
       "  </thead>\n",
       "  <tbody>\n",
       "    <tr>\n",
       "      <th>A</th>\n",
       "      <td>-0.024893</td>\n",
       "      <td>0.406746</td>\n",
       "    </tr>\n",
       "    <tr>\n",
       "      <th>B</th>\n",
       "      <td>0.058631</td>\n",
       "      <td>0.239662</td>\n",
       "    </tr>\n",
       "    <tr>\n",
       "      <th>C</th>\n",
       "      <td>-0.015311</td>\n",
       "      <td>0.576722</td>\n",
       "    </tr>\n",
       "    <tr>\n",
       "      <th>I</th>\n",
       "      <td>-0.448402</td>\n",
       "      <td>92.385119</td>\n",
       "    </tr>\n",
       "  </tbody>\n",
       "</table>\n",
       "</div>"
      ],
      "text/plain": [
       "          difff           \n",
       "            min        max\n",
       "class                     \n",
       "A     -0.024893  0.406746 \n",
       "B      0.058631  0.239662 \n",
       "C     -0.015311  0.576722 \n",
       "I     -0.448402  92.385119"
      ]
     },
     "execution_count": 51,
     "metadata": {},
     "output_type": "execute_result"
    }
   ],
   "source": [
    "f.groupby('class').agg({'difff':['min','max']})"
   ]
  },
  {
   "cell_type": "markdown",
   "metadata": {},
   "source": [
    "Even though the number of incident B is the highest one but its maximum of the changes is the lowest,  the highest changes is for incident I but since it does not have that number of incidents maybe it is not worth it to investigate more but the changes of incident C is markable and need more attentions!"
   ]
  },
  {
   "cell_type": "markdown",
   "metadata": {},
   "source": [
    "Now going back... Are most incidents really closed or is this just how they are indexed?"
   ]
  },
  {
   "cell_type": "code",
   "execution_count": 11,
   "metadata": {},
   "outputs": [
    {
     "data": {
      "text/plain": [
       "VIOLATION CLOSED                            0.491214\n",
       "VIOLATION DISMISSED                         0.295137\n",
       "NOV SENT OUT                                0.111928\n",
       "INFO NOV SENT OUT                           0.030781\n",
       "NOT COMPLIED WITH                           0.026431\n",
       "FIRST NO ACCESS TO RE- INSPECT VIOLATION    0.022628\n",
       "INVALID CERTIFICATION                       0.007076\n",
       "NOV CERTIFIED LATE                          0.006268\n",
       "SECOND NO ACCESS TO RE-INSPECT VIOLATION    0.002434\n",
       "VIOLATION WILL BE REINSPECTED               0.001579\n",
       "DEFECT LETTER ISSUED                        0.001386\n",
       "FALSE CERTIFICATION                         0.001209\n",
       "CERTIFICATION POSTPONMENT DENIED            0.000831\n",
       "CERTIFICATION POSTPONMENT GRANTED           0.000672\n",
       "CIV14 MAILED                                0.000269\n",
       "NOV CERTIFIED ON TIME                       0.000127\n",
       "VIOLATION REOPEN                            0.000018\n",
       "VIOLATION OPEN                              0.000012\n",
       "Name: currentstatus, dtype: float64"
      ]
     },
     "execution_count": 11,
     "metadata": {},
     "output_type": "execute_result"
    }
   ],
   "source": [
    "counts = df_2016.currentstatus.value_counts()\n",
    "counts/counts.sum()"
   ]
  },
  {
   "cell_type": "markdown",
   "metadata": {},
   "source": [
    "This confirms that most violations are indeed closed. A large number also tend to be dismissed. Only 2 percent are not complied with which is good. Very few get postpowned which we already knew from the first notebook. See the data description for the details of each one of these as this is not very important. We should question `why are so many incidents being raised only to be dismissed`. Answering this requires information outside of our control since the data does not tell us why incidents are dismissed.The most we can do is look at the nov description for some of these. We need to use the clean.csv since this file became too big to add the nov description."
   ]
  },
  {
   "cell_type": "code",
   "execution_count": 12,
   "metadata": {},
   "outputs": [
    {
     "data": {
      "text/plain": [
       "0    SECTION 27-2098 ADM CODE  FILE WITH THIS DEPAR...\n",
       "1    SECTION 27-2098 ADM CODE  FILE WITH THIS DEPAR...\n",
       "Name: novdescription, dtype: object"
      ]
     },
     "execution_count": 12,
     "metadata": {},
     "output_type": "execute_result"
    }
   ],
   "source": [
    "dismiss = df[df.currentstatus == 'VIOLATION DISMISSED'].reset_index()\n",
    "dismiss.novdescription.head(2)"
   ]
  },
  {
   "cell_type": "markdown",
   "metadata": {},
   "source": [
    "It's so lovely how these are being cut off...\n",
    "Let's directly get the codes. They seem very googalable. \n",
    "See https://up.codes/viewer/new_york_city/nyc-housing-maintenance-code/chapter/3/physical-and-occupancy-standards-for-dwelling-units#3_6"
   ]
  },
  {
   "cell_type": "code",
   "execution_count": 13,
   "metadata": {},
   "outputs": [
    {
     "data": {
      "text/html": [
       "<div>\n",
       "<style scoped>\n",
       "    .dataframe tbody tr th:only-of-type {\n",
       "        vertical-align: middle;\n",
       "    }\n",
       "\n",
       "    .dataframe tbody tr th {\n",
       "        vertical-align: top;\n",
       "    }\n",
       "\n",
       "    .dataframe thead th {\n",
       "        text-align: right;\n",
       "    }\n",
       "</style>\n",
       "<table border=\"1\" class=\"dataframe\">\n",
       "  <thead>\n",
       "    <tr style=\"text-align: right;\">\n",
       "      <th></th>\n",
       "      <th>0</th>\n",
       "    </tr>\n",
       "  </thead>\n",
       "  <tbody>\n",
       "    <tr>\n",
       "      <th>0</th>\n",
       "      <td>SECTION 27-2098</td>\n",
       "    </tr>\n",
       "    <tr>\n",
       "      <th>1</th>\n",
       "      <td>SECTION 27-2098</td>\n",
       "    </tr>\n",
       "    <tr>\n",
       "      <th>2</th>\n",
       "      <td>SECTION 27-2098</td>\n",
       "    </tr>\n",
       "    <tr>\n",
       "      <th>3</th>\n",
       "      <td>NaN</td>\n",
       "    </tr>\n",
       "    <tr>\n",
       "      <th>4</th>\n",
       "      <td>SECTION 27-2005</td>\n",
       "    </tr>\n",
       "    <tr>\n",
       "      <th>5</th>\n",
       "      <td>SECTION 27-2013</td>\n",
       "    </tr>\n",
       "    <tr>\n",
       "      <th>6</th>\n",
       "      <td>SECTION 27-2098</td>\n",
       "    </tr>\n",
       "    <tr>\n",
       "      <th>7</th>\n",
       "      <td>NaN</td>\n",
       "    </tr>\n",
       "    <tr>\n",
       "      <th>8</th>\n",
       "      <td>NaN</td>\n",
       "    </tr>\n",
       "    <tr>\n",
       "      <th>9</th>\n",
       "      <td>SECTION 27-2098</td>\n",
       "    </tr>\n",
       "  </tbody>\n",
       "</table>\n",
       "</div>"
      ],
      "text/plain": [
       "                 0\n",
       "0  SECTION 27-2098\n",
       "1  SECTION 27-2098\n",
       "2  SECTION 27-2098\n",
       "3              NaN\n",
       "4  SECTION 27-2005\n",
       "5  SECTION 27-2013\n",
       "6  SECTION 27-2098\n",
       "7              NaN\n",
       "8              NaN\n",
       "9  SECTION 27-2098"
      ]
     },
     "execution_count": 13,
     "metadata": {},
     "output_type": "execute_result"
    }
   ],
   "source": [
    "dismiss.novdescription.str.extract('(SECTION [0-9]{2}-[0-9]{4})').head(10)"
   ]
  },
  {
   "cell_type": "markdown",
   "metadata": {},
   "source": [
    "A couple don't seem to match... Let's see why"
   ]
  },
  {
   "cell_type": "code",
   "execution_count": 14,
   "metadata": {},
   "outputs": [
    {
     "data": {
      "text/html": [
       "<div>\n",
       "<style scoped>\n",
       "    .dataframe tbody tr th:only-of-type {\n",
       "        vertical-align: middle;\n",
       "    }\n",
       "\n",
       "    .dataframe tbody tr th {\n",
       "        vertical-align: top;\n",
       "    }\n",
       "\n",
       "    .dataframe thead th {\n",
       "        text-align: right;\n",
       "    }\n",
       "</style>\n",
       "<table border=\"1\" class=\"dataframe\">\n",
       "  <thead>\n",
       "    <tr style=\"text-align: right;\">\n",
       "      <th></th>\n",
       "      <th>index</th>\n",
       "      <th>violationid</th>\n",
       "      <th>buildingid</th>\n",
       "      <th>boro</th>\n",
       "      <th>zip</th>\n",
       "      <th>inspectiondate</th>\n",
       "      <th>originalcorrectbydate</th>\n",
       "      <th>novdescription</th>\n",
       "      <th>class</th>\n",
       "      <th>currentstatus</th>\n",
       "      <th>currentstatusdate</th>\n",
       "      <th>currentstatusdate</th>\n",
       "      <th>monthCurrentStatus</th>\n",
       "    </tr>\n",
       "  </thead>\n",
       "  <tbody>\n",
       "    <tr>\n",
       "      <th>0</th>\n",
       "      <td>45</td>\n",
       "      <td>1001061</td>\n",
       "      <td>141606</td>\n",
       "      <td>BROOKLYN</td>\n",
       "      <td>11215.0</td>\n",
       "      <td>1997-04-11</td>\n",
       "      <td>2009-12-05</td>\n",
       "      <td>SECTION 27-2098 ADM CODE  FILE WITH THIS DEPAR...</td>\n",
       "      <td>A</td>\n",
       "      <td>VIOLATION DISMISSED</td>\n",
       "      <td>2015-03-10</td>\n",
       "      <td>2015-03-10</td>\n",
       "      <td>2015-03</td>\n",
       "    </tr>\n",
       "    <tr>\n",
       "      <th>1</th>\n",
       "      <td>46</td>\n",
       "      <td>1001065</td>\n",
       "      <td>141608</td>\n",
       "      <td>BROOKLYN</td>\n",
       "      <td>11215.0</td>\n",
       "      <td>1997-04-11</td>\n",
       "      <td>2009-12-05</td>\n",
       "      <td>SECTION 27-2098 ADM CODE  FILE WITH THIS DEPAR...</td>\n",
       "      <td>A</td>\n",
       "      <td>VIOLATION DISMISSED</td>\n",
       "      <td>2015-03-10</td>\n",
       "      <td>2015-03-10</td>\n",
       "      <td>2015-03</td>\n",
       "    </tr>\n",
       "    <tr>\n",
       "      <th>2</th>\n",
       "      <td>137</td>\n",
       "      <td>1002346</td>\n",
       "      <td>141792</td>\n",
       "      <td>BROOKLYN</td>\n",
       "      <td>11215.0</td>\n",
       "      <td>1996-11-06</td>\n",
       "      <td>2006-11-24</td>\n",
       "      <td>SECTION 27-2098 ADM CODE  FILE WITH THIS DEPAR...</td>\n",
       "      <td>A</td>\n",
       "      <td>VIOLATION DISMISSED</td>\n",
       "      <td>2015-03-10</td>\n",
       "      <td>2015-03-10</td>\n",
       "      <td>2015-03</td>\n",
       "    </tr>\n",
       "    <tr>\n",
       "      <th>3</th>\n",
       "      <td>144</td>\n",
       "      <td>1002429</td>\n",
       "      <td>141835</td>\n",
       "      <td>BROOKLYN</td>\n",
       "      <td>11204.0</td>\n",
       "      <td>1990-09-12</td>\n",
       "      <td>2008-06-26</td>\n",
       "      <td>D26-10.01 ADM CODE &amp; 309 M/D LAW  ABATE THE NU...</td>\n",
       "      <td>B</td>\n",
       "      <td>VIOLATION DISMISSED</td>\n",
       "      <td>2014-08-20</td>\n",
       "      <td>2014-08-20</td>\n",
       "      <td>2014-08</td>\n",
       "    </tr>\n",
       "    <tr>\n",
       "      <th>4</th>\n",
       "      <td>155</td>\n",
       "      <td>1002480</td>\n",
       "      <td>141835</td>\n",
       "      <td>BROOKLYN</td>\n",
       "      <td>11204.0</td>\n",
       "      <td>1990-09-12</td>\n",
       "      <td>2008-06-26</td>\n",
       "      <td>SECTION 27-2005 ADM CODE  PROPERLY REPAIR THE ...</td>\n",
       "      <td>B</td>\n",
       "      <td>VIOLATION DISMISSED</td>\n",
       "      <td>2014-08-20</td>\n",
       "      <td>2014-08-20</td>\n",
       "      <td>2014-08</td>\n",
       "    </tr>\n",
       "    <tr>\n",
       "      <th>5</th>\n",
       "      <td>156</td>\n",
       "      <td>1002481</td>\n",
       "      <td>141835</td>\n",
       "      <td>BROOKLYN</td>\n",
       "      <td>11204.0</td>\n",
       "      <td>1990-09-12</td>\n",
       "      <td>2008-08-25</td>\n",
       "      <td>SECTION 27-2013 ADM CODE  PAINT WITH LIGHT COL...</td>\n",
       "      <td>A</td>\n",
       "      <td>VIOLATION DISMISSED</td>\n",
       "      <td>2014-08-20</td>\n",
       "      <td>2014-08-20</td>\n",
       "      <td>2014-08</td>\n",
       "    </tr>\n",
       "    <tr>\n",
       "      <th>6</th>\n",
       "      <td>183</td>\n",
       "      <td>1002597</td>\n",
       "      <td>141853</td>\n",
       "      <td>BROOKLYN</td>\n",
       "      <td>11204.0</td>\n",
       "      <td>1997-04-11</td>\n",
       "      <td>2006-11-24</td>\n",
       "      <td>SECTION 27-2098 ADM CODE  FILE WITH THIS DEPAR...</td>\n",
       "      <td>A</td>\n",
       "      <td>VIOLATION DISMISSED</td>\n",
       "      <td>2015-03-10</td>\n",
       "      <td>2015-03-10</td>\n",
       "      <td>2015-03</td>\n",
       "    </tr>\n",
       "    <tr>\n",
       "      <th>7</th>\n",
       "      <td>184</td>\n",
       "      <td>1002602</td>\n",
       "      <td>141855</td>\n",
       "      <td>BROOKLYN</td>\n",
       "      <td>11204.0</td>\n",
       "      <td>1980-04-23</td>\n",
       "      <td>2009-09-10</td>\n",
       "      <td>D26-41.05 ADM CODE  FILE WITH THIS DEPARTMENT ...</td>\n",
       "      <td>B</td>\n",
       "      <td>VIOLATION DISMISSED</td>\n",
       "      <td>2015-03-10</td>\n",
       "      <td>2015-03-10</td>\n",
       "      <td>2015-03</td>\n",
       "    </tr>\n",
       "    <tr>\n",
       "      <th>8</th>\n",
       "      <td>185</td>\n",
       "      <td>1002604</td>\n",
       "      <td>141855</td>\n",
       "      <td>BROOKLYN</td>\n",
       "      <td>11204.0</td>\n",
       "      <td>1982-05-07</td>\n",
       "      <td>2009-11-09</td>\n",
       "      <td>D26-41.03 ADM CODE  FILE WITH THIS DEPARTMENT ...</td>\n",
       "      <td>A</td>\n",
       "      <td>VIOLATION DISMISSED</td>\n",
       "      <td>2015-03-10</td>\n",
       "      <td>2015-03-10</td>\n",
       "      <td>2015-03</td>\n",
       "    </tr>\n",
       "    <tr>\n",
       "      <th>9</th>\n",
       "      <td>186</td>\n",
       "      <td>1002608</td>\n",
       "      <td>141855</td>\n",
       "      <td>BROOKLYN</td>\n",
       "      <td>11204.0</td>\n",
       "      <td>1990-10-19</td>\n",
       "      <td>2009-11-09</td>\n",
       "      <td>SECTION 27-2098 ADM CODE  FILE WITH THIS DEPAR...</td>\n",
       "      <td>A</td>\n",
       "      <td>VIOLATION DISMISSED</td>\n",
       "      <td>2015-03-10</td>\n",
       "      <td>2015-03-10</td>\n",
       "      <td>2015-03</td>\n",
       "    </tr>\n",
       "  </tbody>\n",
       "</table>\n",
       "</div>"
      ],
      "text/plain": [
       "   index  violationid  buildingid      boro      zip inspectiondate  \\\n",
       "0     45      1001061      141606  BROOKLYN  11215.0     1997-04-11   \n",
       "1     46      1001065      141608  BROOKLYN  11215.0     1997-04-11   \n",
       "2    137      1002346      141792  BROOKLYN  11215.0     1996-11-06   \n",
       "3    144      1002429      141835  BROOKLYN  11204.0     1990-09-12   \n",
       "4    155      1002480      141835  BROOKLYN  11204.0     1990-09-12   \n",
       "5    156      1002481      141835  BROOKLYN  11204.0     1990-09-12   \n",
       "6    183      1002597      141853  BROOKLYN  11204.0     1997-04-11   \n",
       "7    184      1002602      141855  BROOKLYN  11204.0     1980-04-23   \n",
       "8    185      1002604      141855  BROOKLYN  11204.0     1982-05-07   \n",
       "9    186      1002608      141855  BROOKLYN  11204.0     1990-10-19   \n",
       "\n",
       "  originalcorrectbydate                                     novdescription  \\\n",
       "0            2009-12-05  SECTION 27-2098 ADM CODE  FILE WITH THIS DEPAR...   \n",
       "1            2009-12-05  SECTION 27-2098 ADM CODE  FILE WITH THIS DEPAR...   \n",
       "2            2006-11-24  SECTION 27-2098 ADM CODE  FILE WITH THIS DEPAR...   \n",
       "3            2008-06-26  D26-10.01 ADM CODE & 309 M/D LAW  ABATE THE NU...   \n",
       "4            2008-06-26  SECTION 27-2005 ADM CODE  PROPERLY REPAIR THE ...   \n",
       "5            2008-08-25  SECTION 27-2013 ADM CODE  PAINT WITH LIGHT COL...   \n",
       "6            2006-11-24  SECTION 27-2098 ADM CODE  FILE WITH THIS DEPAR...   \n",
       "7            2009-09-10  D26-41.05 ADM CODE  FILE WITH THIS DEPARTMENT ...   \n",
       "8            2009-11-09  D26-41.03 ADM CODE  FILE WITH THIS DEPARTMENT ...   \n",
       "9            2009-11-09  SECTION 27-2098 ADM CODE  FILE WITH THIS DEPAR...   \n",
       "\n",
       "  class        currentstatus currentstatusdate currentstatusdate   \\\n",
       "0     A  VIOLATION DISMISSED        2015-03-10         2015-03-10   \n",
       "1     A  VIOLATION DISMISSED        2015-03-10         2015-03-10   \n",
       "2     A  VIOLATION DISMISSED        2015-03-10         2015-03-10   \n",
       "3     B  VIOLATION DISMISSED        2014-08-20         2014-08-20   \n",
       "4     B  VIOLATION DISMISSED        2014-08-20         2014-08-20   \n",
       "5     A  VIOLATION DISMISSED        2014-08-20         2014-08-20   \n",
       "6     A  VIOLATION DISMISSED        2015-03-10         2015-03-10   \n",
       "7     B  VIOLATION DISMISSED        2015-03-10         2015-03-10   \n",
       "8     A  VIOLATION DISMISSED        2015-03-10         2015-03-10   \n",
       "9     A  VIOLATION DISMISSED        2015-03-10         2015-03-10   \n",
       "\n",
       "  monthCurrentStatus  \n",
       "0            2015-03  \n",
       "1            2015-03  \n",
       "2            2015-03  \n",
       "3            2014-08  \n",
       "4            2014-08  \n",
       "5            2014-08  \n",
       "6            2015-03  \n",
       "7            2015-03  \n",
       "8            2015-03  \n",
       "9            2015-03  "
      ]
     },
     "execution_count": 14,
     "metadata": {},
     "output_type": "execute_result"
    }
   ],
   "source": [
    "dismiss.head(10)"
   ]
  },
  {
   "cell_type": "markdown",
   "metadata": {},
   "source": [
    "They seem to be written in this D## Format. Let's change our regex."
   ]
  },
  {
   "cell_type": "code",
   "execution_count": 15,
   "metadata": {},
   "outputs": [],
   "source": [
    "codes = dismiss.novdescription.str.extract('((SECTION [0-9]{2}-[0-9]{4})|D[0-9]{2}-[0-9]{2}\\.[0-9]{2})')[0]"
   ]
  },
  {
   "cell_type": "code",
   "execution_count": 16,
   "metadata": {},
   "outputs": [
    {
     "data": {
      "text/plain": [
       "713"
      ]
     },
     "execution_count": 16,
     "metadata": {},
     "output_type": "execute_result"
    }
   ],
   "source": [
    "codes.isnull().sum()"
   ]
  },
  {
   "cell_type": "markdown",
   "metadata": {},
   "source": [
    "We still have nulls but I'm not going to go crazy matching every single one. Let's see if some incidents are more common than others. "
   ]
  },
  {
   "cell_type": "code",
   "execution_count": 17,
   "metadata": {},
   "outputs": [
    {
     "data": {
      "text/plain": [
       "SECTION 27-2029    1213\n",
       "SECTION 27-2005     910\n",
       "SECTION 27-2028     325\n",
       "SECTION 27-2018     174\n",
       "SECTION 27-2045     139\n",
       "SECTION 27-2026     139\n",
       "SECTION 27-2046     129\n",
       "SECTION 27-2013     119\n",
       "SECTION 27-2098      37\n",
       "SECTION 27-2040      32\n",
       "SECTION 27-2031      28\n",
       "SECTION 27-2043      19\n",
       "SECTION 27-2024      15\n",
       "D26-41.03            12\n",
       "SECTION 26-1103      11\n",
       "SECTION 27-2070      11\n",
       "SECTION 27-2053      10\n",
       "D26-10.01             9\n",
       "SECTION 27-2104       7\n",
       "SECTION 27-2037       7\n",
       "SECTION 27-2056       6\n",
       "SECTION 27-2073       5\n",
       "SECTION 27-2087       5\n",
       "SECTION 27-2010       4\n",
       "SECTION 27-2039       2\n",
       "SECTION 27-2041       2\n",
       "D26-17.10             2\n",
       "SECTION 27-2050       2\n",
       "D26-21.03             1\n",
       "SECTION 27-2011       1\n",
       "D26-20.08             1\n",
       "SECTION 27-2142       1\n",
       "SECTION 27-2065       1\n",
       "SECTION 27-2047       1\n",
       "SECTION 27-2100       1\n",
       "SECTION 27-2032       1\n",
       "D26-19.07             1\n",
       "SECTION 27-2101       1\n",
       "SECTION 27-2023       1\n",
       "D26-41.05             1\n",
       "SECTION 27-2077       1\n",
       "SECTION 27-2089       1\n",
       "SECTION 27-2022       1\n",
       "D26-19.05             1\n",
       "SECTION 27-2096       1\n",
       "SECTION 27-2049       1\n",
       "SECTION 27-2081       1\n",
       "SECTION 27-2044       1\n",
       "D26-17.07             1\n",
       "SECTION 27-2091       1\n",
       "SECTION 27-2048       1\n",
       "Name: 0, dtype: int64"
      ]
     },
     "execution_count": 17,
     "metadata": {},
     "output_type": "execute_result"
    }
   ],
   "source": [
    "codes.value_counts()"
   ]
  },
  {
   "cell_type": "markdown",
   "metadata": {},
   "source": [
    "We can google each of these violations but it's not very exciting. SECTION 27-2029 has to do with the minimum temperature a house has to have. See https://nyclaws.readthedocs.io/nycadmincode/t27/c02/sch02/art08/\n",
    "Section 205 has to do with the owner needing to keep the apartment in good repair. https://nyclaws.readthedocs.io/nycadmincode/t27/c02/sch02/art01/"
   ]
  },
  {
   "cell_type": "markdown",
   "metadata": {},
   "source": [
    "Let's now see how severe dismissed incidents are..."
   ]
  },
  {
   "cell_type": "code",
   "execution_count": 18,
   "metadata": {},
   "outputs": [
    {
     "data": {
      "text/plain": [
       "C    1875\n",
       "B    1240\n",
       "A     521\n",
       "I     474\n",
       "Name: class, dtype: int64"
      ]
     },
     "execution_count": 18,
     "metadata": {},
     "output_type": "execute_result"
    }
   ],
   "source": [
    "dismiss['class'].value_counts()"
   ]
  },
  {
   "cell_type": "markdown",
   "metadata": {},
   "source": [
    "This is actually really interesting. Most dismissed incidents are of high severity. We will see below in Elham's analysis that this ratio is different than the general ratio. "
   ]
  },
  {
   "cell_type": "markdown",
   "metadata": {},
   "source": [
    "While we are doing, let's also see what incidents are most common amung closed incidents."
   ]
  },
  {
   "cell_type": "code",
   "execution_count": 19,
   "metadata": {},
   "outputs": [],
   "source": [
    "closed = df[df.currentstatus == 'VIOLATION CLOSED'].reset_index()"
   ]
  },
  {
   "cell_type": "code",
   "execution_count": 20,
   "metadata": {},
   "outputs": [],
   "source": [
    "codes = closed.novdescription.str.extract('((SECTION [0-9]{2}-[0-9]{4})|D[0-9]{2}-[0-9]{2}\\.[0-9]{2})')[0]"
   ]
  },
  {
   "cell_type": "code",
   "execution_count": 21,
   "metadata": {},
   "outputs": [
    {
     "data": {
      "text/plain": [
       "SECTION 27-2005    19696\n",
       "SECTION 27-2026     3962\n",
       "SECTION 27-2013     2667\n",
       "SECTION 27-2046     2546\n",
       "SECTION 27-2045     2382\n",
       "Name: 0, dtype: int64"
      ]
     },
     "execution_count": 21,
     "metadata": {},
     "output_type": "execute_result"
    }
   ],
   "source": [
    "codes.value_counts().head(5)"
   ]
  },
  {
   "cell_type": "markdown",
   "metadata": {},
   "source": [
    "It's interesting that a large majority fall under SECTION 27-2005. We've already seen that this is a general violation of an owner not keeping his apartment in good repair. It is not surprising that this law is most violated since this law is the most general. Note multiple violation codes are inserted in one cell and it is hard to find all the codes violated within each string so I'm only selecting the first. It would be helpful if the data was normalized into a violation table with an incident_id column and a violation_code column... rather than one giant string of violations along with descriptions which I don't know who in the world would think is a good idea because as it is now that column is one big garbage dump. \n",
    "\n",
    "Either way, next on the list is 2026 which has to do with plumbing. 2013 has to do with the owner not painting properly. 2046 has to do with Carbon Monoxide detectors. These seem to be the things to look out for the most when selecting apartments with the caveat a lot of aparments have owners that don't 'keep their apartment in good repair' whatever that means.\n"
   ]
  },
  {
   "cell_type": "markdown",
   "metadata": {},
   "source": [
    "#### Are there buildings with more than one incident"
   ]
  },
  {
   "cell_type": "code",
   "execution_count": 22,
   "metadata": {},
   "outputs": [
    {
     "data": {
      "text/plain": [
       "57762     207\n",
       "116935    187\n",
       "7206      173\n",
       "97967     109\n",
       "81719     109\n",
       "Name: buildingid, dtype: int64"
      ]
     },
     "execution_count": 22,
     "metadata": {},
     "output_type": "execute_result"
    }
   ],
   "source": [
    "df.buildingid.value_counts().head(5)"
   ]
  },
  {
   "cell_type": "markdown",
   "metadata": {},
   "source": [
    "Yes... but why? We know that some buildings are composed of more than one houses. Still 207 incidents seems like a lot. Let's look at the nov descriptions for some of these. I'm also curious about how many incidents this building has had in total"
   ]
  },
  {
   "cell_type": "code",
   "execution_count": 23,
   "metadata": {},
   "outputs": [],
   "source": [
    "building = pd.read_csv(\"https://data.cityofnewyork.us/resource/wvxf-dwi5.csv?$query=Select%20inspectiondate,novdescription,currentstatus%20where%20buildingid=57762\", parse_dates = ['inspectiondate'])"
   ]
  },
  {
   "cell_type": "code",
   "execution_count": 24,
   "metadata": {},
   "outputs": [
    {
     "data": {
      "text/plain": [
       "975"
      ]
     },
     "execution_count": 24,
     "metadata": {},
     "output_type": "execute_result"
    }
   ],
   "source": [
    "pd.set_option('display.max_colwidth', -1)\n",
    "len(building)"
   ]
  },
  {
   "cell_type": "markdown",
   "metadata": {},
   "source": [
    "Nice... This building has close to 1,000 incidents. "
   ]
  },
  {
   "cell_type": "code",
   "execution_count": 25,
   "metadata": {},
   "outputs": [
    {
     "data": {
      "text/html": [
       "<div>\n",
       "<style scoped>\n",
       "    .dataframe tbody tr th:only-of-type {\n",
       "        vertical-align: middle;\n",
       "    }\n",
       "\n",
       "    .dataframe tbody tr th {\n",
       "        vertical-align: top;\n",
       "    }\n",
       "\n",
       "    .dataframe thead th {\n",
       "        text-align: right;\n",
       "    }\n",
       "</style>\n",
       "<table border=\"1\" class=\"dataframe\">\n",
       "  <thead>\n",
       "    <tr style=\"text-align: right;\">\n",
       "      <th></th>\n",
       "      <th>inspectiondate</th>\n",
       "      <th>novdescription</th>\n",
       "      <th>currentstatus</th>\n",
       "    </tr>\n",
       "  </thead>\n",
       "  <tbody>\n",
       "    <tr>\n",
       "      <th>0</th>\n",
       "      <td>2019-08-14</td>\n",
       "      <td>SECTION 27-2046.1 HMC: REPAIR OR REPLACE THE CARBON MONOXIDE DETECTING DEVICE(S). MISSING  LOCATED AT APT 25, 2nd STORY, 1st APARTMENT FROM NORTH AT EAST</td>\n",
       "      <td>VIOLATION DISMISSED</td>\n",
       "    </tr>\n",
       "    <tr>\n",
       "      <th>1</th>\n",
       "      <td>2019-08-14</td>\n",
       "      <td>SECTION 27-2045 ADM CODE  REPAIR OR REPLACE THE SMOKE DETECTOR MISSING  LOCATED AT APT 25, 2nd STORY, 1st APARTMENT FROM NORTH AT EAST</td>\n",
       "      <td>VIOLATION DISMISSED</td>\n",
       "    </tr>\n",
       "    <tr>\n",
       "      <th>2</th>\n",
       "      <td>2019-08-14</td>\n",
       "      <td>SECTION 27-2026, 2027 HMC: PROPERLY REPAIR THE SOURCE AND ABATE THE EVIDENCE OF A WATER LEAK AT CEILING  IN THE  2nd ROOM  FROM NORTH LOCATED AT APT 25, 2nd STORY, 1st APARTMENT FROM NORTH AT EAST</td>\n",
       "      <td>VIOLATION DISMISSED</td>\n",
       "    </tr>\n",
       "    <tr>\n",
       "      <th>3</th>\n",
       "      <td>2019-08-14</td>\n",
       "      <td>SECTION 27-2026, 2027 HMC: PROPERLY REPAIR THE SOURCE AND ABATE THE EVIDENCE OF A WATER LEAK AT            CEILING IN THE  BATHROOM  LOCATED AT APT 25, 2nd STORY, 1st APARTMENT FROM NORTH AT EAST</td>\n",
       "      <td>VIOLATION DISMISSED</td>\n",
       "    </tr>\n",
       "    <tr>\n",
       "      <th>4</th>\n",
       "      <td>2019-08-14</td>\n",
       "      <td>SECTION 27-2026 ADM CODE  REPAIR THE BROKEN OR DEFECTIVE CONNECTION  WASTE LINE   AT SINK.  IN THE  KITCHEN  LOCATED AT APT 25, 2nd STORY, 1st APARTMENT FROM NORTH AT EAST</td>\n",
       "      <td>VIOLATION DISMISSED</td>\n",
       "    </tr>\n",
       "    <tr>\n",
       "      <th>5</th>\n",
       "      <td>2019-08-14</td>\n",
       "      <td>SECTION 27-2005 ADM CODE  REPLACE WITH NEW THE BROKEN OR DEFECTIVE ELECTRICAL OUTLET AT NORTH WALL  IN THE  KITCHEN  LOCATED AT APT 25, 2nd STORY, 1st APARTMENT FROM NORTH AT EAST</td>\n",
       "      <td>VIOLATION DISMISSED</td>\n",
       "    </tr>\n",
       "    <tr>\n",
       "      <th>6</th>\n",
       "      <td>2019-08-14</td>\n",
       "      <td>SECTION 27-2005 ADM CODE  PROPERLY REPAIR WITH SIMILAR MATERIAL THE BROKEN OR DEFECTIVE WOOD FLOOR  IN THE  2nd ROOM  FROM NORTH LOCATED AT APT 25, 2nd STORY, 1st APARTMENT FROM NORTH AT EAST</td>\n",
       "      <td>VIOLATION DISMISSED</td>\n",
       "    </tr>\n",
       "    <tr>\n",
       "      <th>7</th>\n",
       "      <td>2019-06-24</td>\n",
       "      <td>SECTION 62 M/D LAW  REARRANGE TELEVISION AND/OR RADIO ANTENNA TO BE AT LEAST 10 FEET ABOVE ROOF AND NOT ATTACHED TO ANY FIRE ESCAPE OR SOIL OR VENT LINE AT 5HT STORY BULCONY AT BUILDING FRONT AT EAST AT NORTH  AT FIRE ESCAPE</td>\n",
       "      <td>VIOLATION DISMISSED</td>\n",
       "    </tr>\n",
       "    <tr>\n",
       "      <th>8</th>\n",
       "      <td>2019-06-24</td>\n",
       "      <td>SECTION 62 M/D LAW  REARRANGE TELEVISION AND/OR RADIO ANTENNA TO BE AT LEAST 10 FEET ABOVE ROOF AND NOT ATTACHED TO ANY FIRE ESCAPE OR SOIL OR VENT LINE AT 4TH STORY BULCONY AT BUILDING FRONT AT EAST AT NORTH  AT FIRE ESCAPE</td>\n",
       "      <td>VIOLATION DISMISSED</td>\n",
       "    </tr>\n",
       "    <tr>\n",
       "      <th>9</th>\n",
       "      <td>2019-06-24</td>\n",
       "      <td>SECTION 62 M/D LAW  REARRANGE TELEVISION AND/OR RADIO ANTENNA TO BE AT LEAST 10 FEET ABOVE ROOF AND NOT ATTACHED TO ANY FIRE ESCAPE OR SOIL OR VENT LINE AT 3RD STORY BULCONY AT BUILDING FRONT AT EAST AT NORTH  AT FIRE ESCAPE</td>\n",
       "      <td>VIOLATION DISMISSED</td>\n",
       "    </tr>\n",
       "    <tr>\n",
       "      <th>10</th>\n",
       "      <td>2019-06-12</td>\n",
       "      <td>SECTION 62 M/D LAW  REARRANGE TELEVISION AND/OR RADIO ANTENNA TO BE AT LEAST 10 FEET ABOVE ROOF AND NOT ATTACHED TO ANY FIRE ESCAPE OR SOIL OR VENT LINE AT 5TH STORY BALCONY AT BUILDING FRONT AT EAST AT NORTH   AT FIRE ESCAPE</td>\n",
       "      <td>VIOLATION DISMISSED</td>\n",
       "    </tr>\n",
       "    <tr>\n",
       "      <th>11</th>\n",
       "      <td>2019-06-12</td>\n",
       "      <td>SECTION 62 M/D LAW  REARRANGE TELEVISION AND/OR RADIO ANTENNA TO BE AT LEAST 10 FEET ABOVE ROOF AND NOT ATTACHED TO ANY FIRE ESCAPE OR SOIL OR VENT LINE AT 4TH STORY BALCONY AT BUILDING FRONT AT EAST AT NORTH   AT FIRE ESCAPE</td>\n",
       "      <td>VIOLATION DISMISSED</td>\n",
       "    </tr>\n",
       "    <tr>\n",
       "      <th>12</th>\n",
       "      <td>2019-06-12</td>\n",
       "      <td>SECTION 62 M/D LAW  REARRANGE TELEVISION AND/OR RADIO ANTENNA TO BE AT LEAST 10 FEET ABOVE ROOF AND NOT ATTACHED TO ANY FIRE ESCAPE OR SOIL OR VENT LINE AT 3RD STORY BALCONY AT BUILDING FRONT AT EAST AT NORTH   AT FIRE ESCAPE</td>\n",
       "      <td>VIOLATION DISMISSED</td>\n",
       "    </tr>\n",
       "    <tr>\n",
       "      <th>13</th>\n",
       "      <td>2019-06-12</td>\n",
       "      <td>SECTION 62 M/D LAW  REARRANGE TELEVISION AND/OR RADIO ANTENNA TO BE AT LEAST 10 FEET ABOVE ROOF AND NOT ATTACHED TO ANY FIRE ESCAPE OR SOIL OR VENT LINE AT 4TH  STORY BALCONY AT BUILDING FRONT AT EAST AT SOUTH  AT FIRE ESCAPE</td>\n",
       "      <td>VIOLATION DISMISSED</td>\n",
       "    </tr>\n",
       "    <tr>\n",
       "      <th>14</th>\n",
       "      <td>2019-06-12</td>\n",
       "      <td>SECTION 62 M/D LAW  REARRANGE TELEVISION AND/OR RADIO ANTENNA TO BE AT LEAST 10 FEET ABOVE ROOF AND NOT ATTACHED TO ANY FIRE ESCAPE OR SOIL OR VENT LINE AT 2ND STORY BALCONY AT BUILDING FRONT AT EAST AT SOUTH  AT FIRE ESCAPE</td>\n",
       "      <td>VIOLATION DISMISSED</td>\n",
       "    </tr>\n",
       "    <tr>\n",
       "      <th>15</th>\n",
       "      <td>2019-08-16</td>\n",
       "      <td>SECTION 27-2005 ADM CODE  REPLACE WITH NEW THE BROKEN OR DEFECTIVE GLASS AT LOWER SASH WINDOW  IN THE  1st ROOM  FROM NORTH LOCATED AT APT 25, 2nd STORY, 1st APARTMENT FROM NORTH AT EAST</td>\n",
       "      <td>NOV SENT OUT</td>\n",
       "    </tr>\n",
       "    <tr>\n",
       "      <th>16</th>\n",
       "      <td>2019-08-14</td>\n",
       "      <td>SECTION 27-2026 ADM CODE  REMOVE ALL OBSTRUCTIONS AND REPAIR ALL DEFECTS IN DRAIN PIPE AT BATHTUB  IN THE  BATHROOM  LOCATED AT APT 25, 2nd STORY, 1st APARTMENT FROM NORTH AT EAST</td>\n",
       "      <td>NOV SENT OUT</td>\n",
       "    </tr>\n",
       "    <tr>\n",
       "      <th>17</th>\n",
       "      <td>2019-05-03</td>\n",
       "      <td>SECTION 27-2013 ADM CODE  PAINT WITH LIGHT COLORED PAINT TO THE SATISFACTION OF THIS DEPARTMENT THE NORTH WALL, VESTIBULE  AT PUBLIC HALL, 1st STORY</td>\n",
       "      <td>VIOLATION DISMISSED</td>\n",
       "    </tr>\n",
       "    <tr>\n",
       "      <th>18</th>\n",
       "      <td>2019-05-03</td>\n",
       "      <td>SECTION 27-2017.3 HMC: TRACE AND REPAIR THE SOURCE AND ABATE THE VISIBLE MOLD CONDITION... AT CEILING ( 4 SQ FT )  IN THE  BATHROOM  LOCATED AT APT 56, 5th STORY, 2nd APARTMENT FROM WEST AT NORTH</td>\n",
       "      <td>VIOLATION DISMISSED</td>\n",
       "    </tr>\n",
       "    <tr>\n",
       "      <th>19</th>\n",
       "      <td>2019-05-03</td>\n",
       "      <td>SECTION 27-2013 ADM CODE  PAINT WITH LIGHT COLORED PAINT TO THE SATISFACTION OF THIS DEPARTMENT CEILING  IN THE  BATHROOM  LOCATED AT APT 56, 5th STORY, 2nd APARTMENT FROM WEST AT NORTH</td>\n",
       "      <td>VIOLATION DISMISSED</td>\n",
       "    </tr>\n",
       "  </tbody>\n",
       "</table>\n",
       "</div>"
      ],
      "text/plain": [
       "   inspectiondate  \\\n",
       "0  2019-08-14       \n",
       "1  2019-08-14       \n",
       "2  2019-08-14       \n",
       "3  2019-08-14       \n",
       "4  2019-08-14       \n",
       "5  2019-08-14       \n",
       "6  2019-08-14       \n",
       "7  2019-06-24       \n",
       "8  2019-06-24       \n",
       "9  2019-06-24       \n",
       "10 2019-06-12       \n",
       "11 2019-06-12       \n",
       "12 2019-06-12       \n",
       "13 2019-06-12       \n",
       "14 2019-06-12       \n",
       "15 2019-08-16       \n",
       "16 2019-08-14       \n",
       "17 2019-05-03       \n",
       "18 2019-05-03       \n",
       "19 2019-05-03       \n",
       "\n",
       "                                                                                                                                                                                                                       novdescription  \\\n",
       "0   SECTION 27-2046.1 HMC: REPAIR OR REPLACE THE CARBON MONOXIDE DETECTING DEVICE(S). MISSING  LOCATED AT APT 25, 2nd STORY, 1st APARTMENT FROM NORTH AT EAST                                                                           \n",
       "1   SECTION 27-2045 ADM CODE  REPAIR OR REPLACE THE SMOKE DETECTOR MISSING  LOCATED AT APT 25, 2nd STORY, 1st APARTMENT FROM NORTH AT EAST                                                                                              \n",
       "2   SECTION 27-2026, 2027 HMC: PROPERLY REPAIR THE SOURCE AND ABATE THE EVIDENCE OF A WATER LEAK AT CEILING  IN THE  2nd ROOM  FROM NORTH LOCATED AT APT 25, 2nd STORY, 1st APARTMENT FROM NORTH AT EAST                                \n",
       "3   SECTION 27-2026, 2027 HMC: PROPERLY REPAIR THE SOURCE AND ABATE THE EVIDENCE OF A WATER LEAK AT            CEILING IN THE  BATHROOM  LOCATED AT APT 25, 2nd STORY, 1st APARTMENT FROM NORTH AT EAST                                 \n",
       "4   SECTION 27-2026 ADM CODE  REPAIR THE BROKEN OR DEFECTIVE CONNECTION  WASTE LINE   AT SINK.  IN THE  KITCHEN  LOCATED AT APT 25, 2nd STORY, 1st APARTMENT FROM NORTH AT EAST                                                         \n",
       "5   SECTION 27-2005 ADM CODE  REPLACE WITH NEW THE BROKEN OR DEFECTIVE ELECTRICAL OUTLET AT NORTH WALL  IN THE  KITCHEN  LOCATED AT APT 25, 2nd STORY, 1st APARTMENT FROM NORTH AT EAST                                                 \n",
       "6   SECTION 27-2005 ADM CODE  PROPERLY REPAIR WITH SIMILAR MATERIAL THE BROKEN OR DEFECTIVE WOOD FLOOR  IN THE  2nd ROOM  FROM NORTH LOCATED AT APT 25, 2nd STORY, 1st APARTMENT FROM NORTH AT EAST                                     \n",
       "7   SECTION 62 M/D LAW  REARRANGE TELEVISION AND/OR RADIO ANTENNA TO BE AT LEAST 10 FEET ABOVE ROOF AND NOT ATTACHED TO ANY FIRE ESCAPE OR SOIL OR VENT LINE AT 5HT STORY BULCONY AT BUILDING FRONT AT EAST AT NORTH  AT FIRE ESCAPE    \n",
       "8   SECTION 62 M/D LAW  REARRANGE TELEVISION AND/OR RADIO ANTENNA TO BE AT LEAST 10 FEET ABOVE ROOF AND NOT ATTACHED TO ANY FIRE ESCAPE OR SOIL OR VENT LINE AT 4TH STORY BULCONY AT BUILDING FRONT AT EAST AT NORTH  AT FIRE ESCAPE    \n",
       "9   SECTION 62 M/D LAW  REARRANGE TELEVISION AND/OR RADIO ANTENNA TO BE AT LEAST 10 FEET ABOVE ROOF AND NOT ATTACHED TO ANY FIRE ESCAPE OR SOIL OR VENT LINE AT 3RD STORY BULCONY AT BUILDING FRONT AT EAST AT NORTH  AT FIRE ESCAPE    \n",
       "10  SECTION 62 M/D LAW  REARRANGE TELEVISION AND/OR RADIO ANTENNA TO BE AT LEAST 10 FEET ABOVE ROOF AND NOT ATTACHED TO ANY FIRE ESCAPE OR SOIL OR VENT LINE AT 5TH STORY BALCONY AT BUILDING FRONT AT EAST AT NORTH   AT FIRE ESCAPE   \n",
       "11  SECTION 62 M/D LAW  REARRANGE TELEVISION AND/OR RADIO ANTENNA TO BE AT LEAST 10 FEET ABOVE ROOF AND NOT ATTACHED TO ANY FIRE ESCAPE OR SOIL OR VENT LINE AT 4TH STORY BALCONY AT BUILDING FRONT AT EAST AT NORTH   AT FIRE ESCAPE   \n",
       "12  SECTION 62 M/D LAW  REARRANGE TELEVISION AND/OR RADIO ANTENNA TO BE AT LEAST 10 FEET ABOVE ROOF AND NOT ATTACHED TO ANY FIRE ESCAPE OR SOIL OR VENT LINE AT 3RD STORY BALCONY AT BUILDING FRONT AT EAST AT NORTH   AT FIRE ESCAPE   \n",
       "13  SECTION 62 M/D LAW  REARRANGE TELEVISION AND/OR RADIO ANTENNA TO BE AT LEAST 10 FEET ABOVE ROOF AND NOT ATTACHED TO ANY FIRE ESCAPE OR SOIL OR VENT LINE AT 4TH  STORY BALCONY AT BUILDING FRONT AT EAST AT SOUTH  AT FIRE ESCAPE   \n",
       "14  SECTION 62 M/D LAW  REARRANGE TELEVISION AND/OR RADIO ANTENNA TO BE AT LEAST 10 FEET ABOVE ROOF AND NOT ATTACHED TO ANY FIRE ESCAPE OR SOIL OR VENT LINE AT 2ND STORY BALCONY AT BUILDING FRONT AT EAST AT SOUTH  AT FIRE ESCAPE    \n",
       "15  SECTION 27-2005 ADM CODE  REPLACE WITH NEW THE BROKEN OR DEFECTIVE GLASS AT LOWER SASH WINDOW  IN THE  1st ROOM  FROM NORTH LOCATED AT APT 25, 2nd STORY, 1st APARTMENT FROM NORTH AT EAST                                          \n",
       "16  SECTION 27-2026 ADM CODE  REMOVE ALL OBSTRUCTIONS AND REPAIR ALL DEFECTS IN DRAIN PIPE AT BATHTUB  IN THE  BATHROOM  LOCATED AT APT 25, 2nd STORY, 1st APARTMENT FROM NORTH AT EAST                                                 \n",
       "17  SECTION 27-2013 ADM CODE  PAINT WITH LIGHT COLORED PAINT TO THE SATISFACTION OF THIS DEPARTMENT THE NORTH WALL, VESTIBULE  AT PUBLIC HALL, 1st STORY                                                                                \n",
       "18  SECTION 27-2017.3 HMC: TRACE AND REPAIR THE SOURCE AND ABATE THE VISIBLE MOLD CONDITION... AT CEILING ( 4 SQ FT )  IN THE  BATHROOM  LOCATED AT APT 56, 5th STORY, 2nd APARTMENT FROM WEST AT NORTH                                 \n",
       "19  SECTION 27-2013 ADM CODE  PAINT WITH LIGHT COLORED PAINT TO THE SATISFACTION OF THIS DEPARTMENT CEILING  IN THE  BATHROOM  LOCATED AT APT 56, 5th STORY, 2nd APARTMENT FROM WEST AT NORTH                                           \n",
       "\n",
       "          currentstatus  \n",
       "0   VIOLATION DISMISSED  \n",
       "1   VIOLATION DISMISSED  \n",
       "2   VIOLATION DISMISSED  \n",
       "3   VIOLATION DISMISSED  \n",
       "4   VIOLATION DISMISSED  \n",
       "5   VIOLATION DISMISSED  \n",
       "6   VIOLATION DISMISSED  \n",
       "7   VIOLATION DISMISSED  \n",
       "8   VIOLATION DISMISSED  \n",
       "9   VIOLATION DISMISSED  \n",
       "10  VIOLATION DISMISSED  \n",
       "11  VIOLATION DISMISSED  \n",
       "12  VIOLATION DISMISSED  \n",
       "13  VIOLATION DISMISSED  \n",
       "14  VIOLATION DISMISSED  \n",
       "15  NOV SENT OUT         \n",
       "16  NOV SENT OUT         \n",
       "17  VIOLATION DISMISSED  \n",
       "18  VIOLATION DISMISSED  \n",
       "19  VIOLATION DISMISSED  "
      ]
     },
     "execution_count": 25,
     "metadata": {},
     "output_type": "execute_result"
    }
   ],
   "source": [
    "building.head(20)"
   ]
  },
  {
   "cell_type": "code",
   "execution_count": 26,
   "metadata": {},
   "outputs": [
    {
     "data": {
      "text/plain": [
       "SECTION 27-2026, 2027 HMC: PROPERLY REPAIR THE SOURCE AND ABATE THE EVIDENCE OF A WATER LEAK AT CEILING  IN THE 3rd ROOM  FROM EAST AT SOUTH LOCATED AT APT 11, 1st STORY, 1st APARTMENT FROM EAST AT SOUTH                                7\n",
       "SECTION 27-2043.1 HMC INSTALL THE MISSING OR REPAIR/REPLACE THE DEFECTIVE WINDOW GUARD(S) THROUGHOUT THE PUBLIC AREAS IN ACCORDANCE WITH THE SPECIFICATIONS OF THE NEW YORK CITY HEALTH CODE SECTION 24 RCNY CHAPTER 12. AT PUBLIC HALL    5\n",
       "SECTION 27-2005 ADM CODE  REPAIR THE BROKEN OR DEFECTIVE PLASTERED SURFACES AND PAINT IN A UNIFORM COLOR THE CEILING  IN THE 3rd ROOM  FROM EAST AT SOUTH LOCATED AT APT 11, 1st STORY, 1st APARTMENT FROM EAST AT SOUTH                   4\n",
       "SECTION 27-2026, 2027 HMC: PROPERLY REPAIR THE SOURCE AND ABATE THE EVIDENCE OF A WATER LEAK AT CEILING  IN THE 3rd ROOM  FROM EAST AT NORTH LOCATED AT APT 11, 1st STORY, 1st APARTMENT FROM EAST AT SOUTH                                3\n",
       "SECTION 27-2005 ADM CODE  PROPERLY REPAIR WITH SIMILAR MATERIAL THE BROKEN OR DEFECTIVE REGLAZED BATHTUB  IN THE BATHROOM  LOCATED AT APT 31, 3rd STORY, 1st APARTMENT FROM WEST AT NORTH                                                  3\n",
       "Name: novdescription, dtype: int64"
      ]
     },
     "execution_count": 26,
     "metadata": {},
     "output_type": "execute_result"
    }
   ],
   "source": [
    "building.novdescription.value_counts().head(5)"
   ]
  },
  {
   "cell_type": "markdown",
   "metadata": {},
   "source": [
    "It's unclear why the same description is listed so many times. Are they both updating old rows with the violation status and creating a new row every time they update the status? Are they just duplicating the rows? This is really unclear. It's unlikely though that a single building has this many incidents are we attribute buildings having multiple incidents to a data collection problem. \n",
    "\n",
    "I'm inclined to believe they are updating old rows. That would explain why so many violations are closed and so few are open but there seems to be some inconsistency with what they are doing since if that is true then why are there duplicates? How are they treating incidents that are reopened. This is really vague. "
   ]
  },
  {
   "cell_type": "markdown",
   "metadata": {},
   "source": [
    "#### What season do most incidents occur in"
   ]
  },
  {
   "cell_type": "markdown",
   "metadata": {},
   "source": [
    "From the city's perspective, this is very important. It can help with planning how much staff is needed. From a building owner's viewpoint, it is important to know when issues arise so that they can be prepared to fix the issues."
   ]
  },
  {
   "cell_type": "markdown",
   "metadata": {},
   "source": [
    "Let's create simple plots to try to visualize this"
   ]
  },
  {
   "cell_type": "code",
   "execution_count": 27,
   "metadata": {},
   "outputs": [
    {
     "data": {
      "text/plain": [
       "<matplotlib.axes._subplots.AxesSubplot at 0x20ad16b4ba8>"
      ]
     },
     "execution_count": 27,
     "metadata": {},
     "output_type": "execute_result"
    },
    {
     "data": {
      "image/png": "[encoded data removed]",
      "text/plain": [
       "<Figure size 432x288 with 1 Axes>"
      ]
     },
     "metadata": {
      "needs_background": "light"
     },
     "output_type": "display_data"
    }
   ],
   "source": [
    "series = df_2018.inspectiondate.dt.to_period('M')\n",
    "sortedcounts = series.value_counts().sort_index()\n",
    "sortedcounts.plot()"
   ]
  },
  {
   "cell_type": "code",
   "execution_count": 28,
   "metadata": {},
   "outputs": [
    {
     "data": {
      "text/plain": [
       "<matplotlib.axes._subplots.AxesSubplot at 0x20ad62a6780>"
      ]
     },
     "execution_count": 28,
     "metadata": {},
     "output_type": "execute_result"
    },
    {
     "data": {
      "image/png": "[encoded data removed]",
      "text/plain": [
       "<Figure size 432x288 with 1 Axes>"
      ]
     },
     "metadata": {
      "needs_background": "light"
     },
     "output_type": "display_data"
    }
   ],
   "source": [
    "series = df_2017.inspectiondate.dt.to_period('M')\n",
    "sortedcounts = series.value_counts().sort_index()\n",
    "sortedcounts.plot()"
   ]
  },
  {
   "cell_type": "code",
   "execution_count": 29,
   "metadata": {},
   "outputs": [
    {
     "data": {
      "text/plain": [
       "<matplotlib.axes._subplots.AxesSubplot at 0x20ad5f75400>"
      ]
     },
     "execution_count": 29,
     "metadata": {},
     "output_type": "execute_result"
    },
    {
     "data": {
      "image/png": "[encoded data removed]",
      "text/plain": [
       "<Figure size 432x288 with 1 Axes>"
      ]
     },
     "metadata": {
      "needs_background": "light"
     },
     "output_type": "display_data"
    }
   ],
   "source": [
    "series = df_2016.inspectiondate.dt.to_period('M')\n",
    "sortedcounts = series.value_counts().sort_index()\n",
    "sortedcounts.plot()"
   ]
  },
  {
   "cell_type": "markdown",
   "metadata": {},
   "source": [
    "It appears that most incidents are raised during the Fall, in either October and Novemeber"
   ]
  },
  {
   "cell_type": "markdown",
   "metadata": {},
   "source": [
    "Let's take 2016 as an example. Although it appears that November has an overwhelming majority of incidents, we can do a statistical test to see if it is possible that this is just do to chance. "
   ]
  },
  {
   "cell_type": "markdown",
   "metadata": {},
   "source": [
    "Let's model this as a bernoulli random variable since there are 2 possibilities here. Either an inspection was in November or it wasn't. If all months had an equal number of incidents per month we would expect that each month would have 100/12 or 25/3 (8.3) percent of the incidents each month. Let's get what the percentage of incidents in November."
   ]
  },
  {
   "cell_type": "code",
   "execution_count": 30,
   "metadata": {},
   "outputs": [
    {
     "data": {
      "text/plain": [
       "0.1538612827972442"
      ]
     },
     "execution_count": 30,
     "metadata": {},
     "output_type": "execute_result"
    }
   ],
   "source": [
    "n = sortedcounts.sum()\n",
    "p = sortedcounts['2016-11']/n\n",
    "q = 1-p\n",
    "p"
   ]
  },
  {
   "cell_type": "markdown",
   "metadata": {},
   "source": [
    "We see that November had 15.4 percent of the incidents... Almost twice as much as what we would expect the avg month to have.  \n",
    "Now let's see the Probability that we would get this 15.4 percent if really there was no significant difference. We can state this in another way with a hypothesis test. \n",
    "\n",
    "Our null hypthosis is there is no significant difference\n",
    "Our alternate hypothesis is that there is... That is, P(incident in November) >= 8.3%. \n"
   ]
  },
  {
   "cell_type": "markdown",
   "metadata": {},
   "source": [
    "An easy approach we can take is to make a confidence interval. This interval would give us a range of possible values that the true probability is."
   ]
  },
  {
   "cell_type": "markdown",
   "metadata": {},
   "source": [
    "We know from basic statistics we have the point estimator for target `p` with standord error `sqrt(pq/n`)`"
   ]
  },
  {
   "cell_type": "code",
   "execution_count": 31,
   "metadata": {},
   "outputs": [
    {
     "data": {
      "text/plain": [
       "0.000503501602425762"
      ]
     },
     "execution_count": 31,
     "metadata": {},
     "output_type": "execute_result"
    }
   ],
   "source": [
    "import math\n",
    "standordError = math.sqrt(p * q /n)\n",
    "standordError"
   ]
  },
  {
   "cell_type": "code",
   "execution_count": 32,
   "metadata": {},
   "outputs": [
    {
     "data": {
      "text/plain": [
       "(0.1528744196564897, 0.1548481459379987)"
      ]
     },
     "execution_count": 32,
     "metadata": {},
     "output_type": "execute_result"
    }
   ],
   "source": [
    "er = 1.96 * standordError\n",
    "lowerBound,upperBound = (p - er, p+er)\n",
    "lowerBound,upperBound\n"
   ]
  },
  {
   "cell_type": "markdown",
   "metadata": {},
   "source": [
    "These numbers tell us that there is a 95% chance that the true value is between .1528, and .1548. Since 8.3 is not in the interval, we can say with 95 percent accuracy that there is a significant difference and more incidents are indeed opened in November. Moreover, from how far away this range is from 8.3, it is pretty clear that there is a wide gap."
   ]
  },
  {
   "cell_type": "markdown",
   "metadata": {},
   "source": [
    "So what do we gain from knowing this? Firstly, we reccomend that the city have lots of staff around for inspecting buildings during this period. We also recomend that building owners look to correct the issues in their buildings before fall so that they can be prepared for inspections."
   ]
  },
  {
   "cell_type": "markdown",
   "metadata": {},
   "source": [
    "#### Where do incidents take place"
   ]
  },
  {
   "cell_type": "markdown",
   "metadata": {},
   "source": [
    "So now we contextualized our data a bit more... We know when the data was from and we know the what: that most of the rows show that the incidents were resolved. Let's now focus more on how severe the incidents were and where most incidents take place."
   ]
  },
  {
   "cell_type": "code",
   "execution_count": 33,
   "metadata": {},
   "outputs": [
    {
     "data": {
      "text/plain": [
       "Text(0.5, 1.0, 'Incidents per boro')"
      ]
     },
     "execution_count": 33,
     "metadata": {},
     "output_type": "execute_result"
    },
    {
     "data": {
      "image/png": "[encoded data removed]",
      "text/plain": [
       "<Figure size 432x288 with 1 Axes>"
      ]
     },
     "metadata": {
      "needs_background": "light"
     },
     "output_type": "display_data"
    }
   ],
   "source": [
    "plt.bar(df['boro'].unique(), df['boro'].value_counts())\n",
    "plt.title(\"Incidents per boro\")"
   ]
  },
  {
   "cell_type": "markdown",
   "metadata": {},
   "source": [
    "Queens has the most number of incidents and Staten Island the least.\n",
    "It's not just that there are more incidents though. The ratio of incidents between Queens and Brooklyn and the other boros is significantly more. We should investigate why this is. Is there something problematic about these buildings like are they older?"
   ]
  },
  {
   "cell_type": "markdown",
   "metadata": {},
   "source": [
    "It's also important though to see how severe these incidents are..."
   ]
  },
  {
   "cell_type": "code",
   "execution_count": 34,
   "metadata": {},
   "outputs": [
    {
     "data": {
      "text/plain": [
       "B    30368\n",
       "C    9301 \n",
       "A    9061 \n",
       "I    647  \n",
       "Name: class, dtype: int64"
      ]
     },
     "execution_count": 34,
     "metadata": {},
     "output_type": "execute_result"
    }
   ],
   "source": [
    "df['class'].value_counts()"
   ]
  },
  {
   "cell_type": "code",
   "execution_count": 35,
   "metadata": {},
   "outputs": [
    {
     "data": {
      "text/plain": [
       "<matplotlib.axes._subplots.AxesSubplot at 0x20ad62d9c50>"
      ]
     },
     "execution_count": 35,
     "metadata": {},
     "output_type": "execute_result"
    },
    {
     "data": {
      "image/png": "[encoded data removed]",
      "text/plain": [
       "<Figure size 432x288 with 1 Axes>"
      ]
     },
     "metadata": {
      "needs_background": "light"
     },
     "output_type": "display_data"
    }
   ],
   "source": [
    "class_counts = df['class'].value_counts()\n",
    "class_counts.plot.bar()"
   ]
  },
  {
   "cell_type": "markdown",
   "metadata": {},
   "source": [
    "As we can see class B(which is medium severe) has the highest number. C is high severity and is about equal with A (low severity). I incidents aren't really violations but simply notifications. Now let's see if there are overly many severe incidents in any boros"
   ]
  },
  {
   "cell_type": "code",
   "execution_count": 36,
   "metadata": {},
   "outputs": [
    {
     "data": {
      "text/plain": [
       "boro           class\n",
       "BRONX          A        3127 \n",
       "               B        10480\n",
       "               C        2806 \n",
       "               I        108  \n",
       "BROOKLYN       A        3438 \n",
       "               B        11404\n",
       "               C        3697 \n",
       "               I        309  \n",
       "MANHATTAN      A        1753 \n",
       "               B        5765 \n",
       "               C        1840 \n",
       "               I        87   \n",
       "QUEENS         A        645  \n",
       "               B        2246 \n",
       "               C        827  \n",
       "               I        137  \n",
       "STATEN ISLAND  A        98   \n",
       "               B        473  \n",
       "               C        131  \n",
       "               I        6    \n",
       "dtype: int64"
      ]
     },
     "execution_count": 36,
     "metadata": {},
     "output_type": "execute_result"
    }
   ],
   "source": [
    "df.groupby(['boro','class']).size()"
   ]
  },
  {
   "cell_type": "markdown",
   "metadata": {},
   "source": [
    "Since Brooklyn has the highest number of incident, it makes sense that largest class incident happens there. "
   ]
  },
  {
   "cell_type": "markdown",
   "metadata": {},
   "source": [
    "It is easier to read if sorted"
   ]
  },
  {
   "cell_type": "code",
   "execution_count": 37,
   "metadata": {},
   "outputs": [
    {
     "data": {
      "text/plain": [
       "boro           class\n",
       "BROOKLYN       B        11404\n",
       "BRONX          B        10480\n",
       "MANHATTAN      B        5765 \n",
       "BROOKLYN       C        3697 \n",
       "               A        3438 \n",
       "BRONX          A        3127 \n",
       "               C        2806 \n",
       "QUEENS         B        2246 \n",
       "MANHATTAN      C        1840 \n",
       "               A        1753 \n",
       "QUEENS         C        827  \n",
       "               A        645  \n",
       "STATEN ISLAND  B        473  \n",
       "BROOKLYN       I        309  \n",
       "QUEENS         I        137  \n",
       "STATEN ISLAND  C        131  \n",
       "BRONX          I        108  \n",
       "STATEN ISLAND  A        98   \n",
       "MANHATTAN      I        87   \n",
       "STATEN ISLAND  I        6    \n",
       "dtype: int64"
      ]
     },
     "execution_count": 37,
     "metadata": {},
     "output_type": "execute_result"
    }
   ],
   "source": [
    "df.groupby(['boro','class']).size().sort_values(ascending=False)"
   ]
  },
  {
   "cell_type": "code",
   "execution_count": 38,
   "metadata": {},
   "outputs": [
    {
     "data": {
      "text/plain": [
       "<matplotlib.axes._subplots.AxesSubplot at 0x20ad635cef0>"
      ]
     },
     "execution_count": 38,
     "metadata": {},
     "output_type": "execute_result"
    },
    {
     "data": {
      "image/png": "[encoded data removed]",
      "text/plain": [
       "<Figure size 432x288 with 1 Axes>"
      ]
     },
     "metadata": {
      "needs_background": "light"
     },
     "output_type": "display_data"
    }
   ],
   "source": [
    "df.groupby(['boro','class']).size().plot.bar()"
   ]
  },
  {
   "cell_type": "markdown",
   "metadata": {},
   "source": [
    "We don't see any boro which violates this ratio of having more class B incidents. Because of this we don't feel a need to propose any immediate action, however we do think this situation should be monitored in case it gets worse. "
   ]
  },
  {
   "cell_type": "markdown",
   "metadata": {},
   "source": [
    "It might be usefull to see what this data looks like on a map. Let's create a map with dots representing how many incidents there were in certain zip codes. This will let us put more data into our graphs since the bar graph above already is bordering on the max number of bars"
   ]
  },
  {
   "cell_type": "code",
   "execution_count": 39,
   "metadata": {},
   "outputs": [],
   "source": [
    "zipCounts = pd.read_csv(r'../data/zip_count.csv')"
   ]
  },
  {
   "cell_type": "code",
   "execution_count": 41,
   "metadata": {},
   "outputs": [
    {
     "data": {
      "text/html": [
       "        <script type=\"text/javascript\">\n",
       "        window.PlotlyConfig = {MathJaxConfig: 'local'};\n",
       "        if (window.MathJax) {MathJax.Hub.Config({SVG: {font: \"STIX-Web\"}});}\n",
       "        if (typeof require !== 'undefined') {\n",
       "        require.undef(\"plotly\");\n",
       "        requirejs.config({\n",
       "            paths: {\n",
       "                'plotly': ['https://cdn.plot.ly/plotly-latest.min']\n",
       "            }\n",
       "        });\n",
       "        require(['plotly'], function(Plotly) {\n",
       "            window._Plotly = Plotly;\n",
       "        });\n",
       "        }\n",
       "        </script>\n",
       "        "
      ]
     },
     "metadata": {},
     "output_type": "display_data"
    },
    {
     "data": {
      "application/vnd.plotly.v1+json": {
       "config": {
        "linkText": "Export to plot.ly",
        "plotlyServerURL": "https://plot.ly",
        "showLink": false
       },
       "data": [
        {
         "customdata": [
          [
           11226,
           1897
          ],
          [
           10453,
           1737
          ],
          [
           10458,
           1537
          ],
          [
           10457,
           1504
          ],
          [
           11221,
           1489
          ],
          [
           10467,
           1389
          ],
          [
           10456,
           1386
          ],
          [
           10468,
           1382
          ],
          [
           11207,
           1337
          ],
          [
           11233,
           1301
          ],
          [
           10452,
           1184
          ],
          [
           11213,
           1168
          ],
          [
           11212,
           1029
          ],
          [
           10031,
           1015
          ],
          [
           10032,
           1014
          ],
          [
           10459,
           949
          ],
          [
           11225,
           946
          ],
          [
           10460,
           928
          ],
          [
           11237,
           928
          ],
          [
           11216,
           919
          ],
          [
           10472,
           880
          ],
          [
           11203,
           839
          ],
          [
           10033,
           815
          ],
          [
           10451,
           779
          ],
          [
           10040,
           702
          ],
          [
           10027,
           699
          ],
          [
           10030,
           658
          ],
          [
           11208,
           654
          ],
          [
           10034,
           605
          ],
          [
           11215,
           567
          ],
          [
           11238,
           560
          ],
          [
           11220,
           546
          ],
          [
           10466,
           534
          ],
          [
           10462,
           531
          ],
          [
           11206,
           498
          ],
          [
           10035,
           490
          ],
          [
           11218,
           471
          ],
          [
           10455,
           458
          ],
          [
           11385,
           418
          ],
          [
           10026,
           409
          ],
          [
           11204,
           389
          ],
          [
           10454,
           384
          ],
          [
           11230,
           372
          ],
          [
           10029,
           359
          ],
          [
           11214,
           355
          ],
          [
           10025,
           345
          ],
          [
           11691,
           304
          ],
          [
           10463,
           302
          ],
          [
           11211,
           297
          ],
          [
           11222,
           279
          ],
          [
           10039,
           265
          ],
          [
           11232,
           264
          ],
          [
           11210,
           258
          ],
          [
           11367,
           242
          ],
          [
           11373,
           237
          ],
          [
           11377,
           223
          ],
          [
           11236,
           207
          ],
          [
           11223,
           194
          ],
          [
           11219,
           193
          ],
          [
           10002,
           191
          ],
          [
           10301,
           190
          ],
          [
           10011,
           190
          ],
          [
           10461,
           181
          ],
          [
           10474,
           176
          ],
          [
           10028,
           174
          ],
          [
           11217,
           173
          ],
          [
           11368,
           168
          ],
          [
           10009,
           166
          ],
          [
           10024,
           164
          ],
          [
           10304,
           162
          ],
          [
           11235,
           159
          ],
          [
           10469,
           146
          ],
          [
           10470,
           142
          ],
          [
           10012,
           139
          ],
          [
           11224,
           139
          ],
          [
           10003,
           134
          ],
          [
           11372,
           133
          ],
          [
           11418,
           123
          ],
          [
           11105,
           122
          ],
          [
           11229,
           121
          ],
          [
           11209,
           113
          ],
          [
           10019,
           111
          ],
          [
           11432,
           107
          ],
          [
           10303,
           107
          ],
          [
           10473,
           106
          ],
          [
           10001,
           105
          ],
          [
           11201,
           101
          ],
          [
           11106,
           96
          ],
          [
           10037,
           96
          ],
          [
           11249,
           92
          ],
          [
           11355,
           92
          ],
          [
           10128,
           91
          ],
          [
           11412,
           91
          ],
          [
           11375,
           89
          ],
          [
           10036,
           85
          ],
          [
           11435,
           83
          ],
          [
           11434,
           83
          ],
          [
           11205,
           81
          ],
          [
           10302,
           81
          ],
          [
           11433,
           78
          ],
          [
           11427,
           76
          ],
          [
           11102,
           76
          ],
          [
           11416,
           75
          ],
          [
           11413,
           72
          ],
          [
           11101,
           72
          ],
          [
           10465,
           70
          ],
          [
           11104,
           68
          ],
          [
           10014,
           65
          ],
          [
           10016,
           65
          ],
          [
           10310,
           60
          ],
          [
           10010,
           59
          ],
          [
           11374,
           58
          ],
          [
           11231,
           55
          ],
          [
           11369,
           55
          ],
          [
           11420,
           55
          ],
          [
           11423,
           52
          ],
          [
           10021,
           52
          ],
          [
           11692,
           51
          ],
          [
           11429,
           51
          ],
          [
           10023,
           44
          ],
          [
           11356,
           44
          ],
          [
           10314,
           40
          ],
          [
           11103,
           40
          ],
          [
           11414,
           39
          ],
          [
           11436,
           38
          ],
          [
           11419,
           38
          ],
          [
           11694,
           36
          ],
          [
           11421,
           35
          ],
          [
           11365,
           34
          ],
          [
           10013,
           32
          ],
          [
           10022,
           32
          ],
          [
           10312,
           31
          ],
          [
           11234,
           31
          ],
          [
           11415,
           29
          ],
          [
           11379,
           25
          ],
          [
           11228,
           25
          ],
          [
           10038,
           24
          ],
          [
           11378,
           23
          ],
          [
           11422,
           22
          ],
          [
           10306,
           21
          ],
          [
           11361,
           20
          ],
          [
           11354,
           19
          ],
          [
           10305,
           18
          ],
          [
           10044,
           18
          ],
          [
           11364,
           17
          ],
          [
           10471,
           16
          ],
          [
           10018,
           13
          ],
          [
           11358,
           12
          ],
          [
           10280,
           12
          ],
          [
           11693,
           11
          ],
          [
           10017,
           10
          ],
          [
           11239,
           10
          ],
          [
           11370,
           8
          ],
          [
           11428,
           7
          ],
          [
           11411,
           7
          ],
          [
           10129,
           7
          ],
          [
           11417,
           6
          ],
          [
           11357,
           4
          ],
          [
           10464,
           3
          ],
          [
           11366,
           3
          ],
          [
           10309,
           2
          ],
          [
           10475,
           2
          ],
          [
           10307,
           1
          ],
          [
           10005,
           1
          ],
          [
           11426,
           1
          ],
          [
           11360,
           1
          ]
         ],
         "hoverlabel": {
          "namelength": 0
         },
         "hovertemplate": "<b>%{hovertext}</b><br><br>count=%{customdata[1]}<br>zip=%{customdata[0]}<br>long=%{lat}<br>lat=%{lon}",
         "hovertext": [
          "Brooklyn",
          "Bronx",
          "Bronx",
          "Bronx",
          "Brooklyn",
          "Bronx",
          "Bronx",
          "Bronx",
          "Brooklyn",
          "Brooklyn",
          "Bronx",
          "Brooklyn",
          "Brooklyn",
          "New York",
          "New York",
          "Bronx",
          "Brooklyn",
          "Bronx",
          "Brooklyn",
          "Brooklyn",
          "Bronx",
          "Brooklyn",
          "New York",
          "Bronx",
          "New York",
          "New York",
          "New York",
          "Brooklyn",
          "New York",
          "Brooklyn",
          "Brooklyn",
          "Brooklyn",
          "Bronx",
          "Bronx",
          "Brooklyn",
          "New York",
          "Brooklyn",
          "Bronx",
          "Ridgewood",
          "New York",
          "Brooklyn",
          "Bronx",
          "Brooklyn",
          "New York",
          "Brooklyn",
          "New York",
          "Far Rockaway",
          "Bronx",
          "Brooklyn",
          "Brooklyn",
          "New York",
          "Brooklyn",
          "Brooklyn",
          "Flushing",
          "Elmhurst",
          "Woodside",
          "Brooklyn",
          "Brooklyn",
          "Brooklyn",
          "New York",
          "Staten Island",
          "New York",
          "Bronx",
          "Bronx",
          "New York",
          "Brooklyn",
          "Corona",
          "New York",
          "New York",
          "Staten Island",
          "Brooklyn",
          "Bronx",
          "Bronx",
          "New York",
          "Brooklyn",
          "New York",
          "Jackson Heights",
          "Richmond Hill",
          "Astoria",
          "Brooklyn",
          "Brooklyn",
          "New York",
          "Jamaica",
          "Staten Island",
          "Bronx",
          "New York",
          "Brooklyn",
          "Astoria",
          "New York",
          "Brooklyn",
          "Flushing",
          "New York",
          "Saint Albans",
          "Forest Hills",
          "New York",
          "Jamaica",
          "Jamaica",
          "Brooklyn",
          "Staten Island",
          "Jamaica",
          "Queens Village",
          "Astoria",
          "Ozone Park",
          "Springfield Gardens",
          "Long Island City",
          "Bronx",
          "Sunnyside",
          "New York",
          "New York",
          "Staten Island",
          "New York",
          "Rego Park",
          "Brooklyn",
          "East Elmhurst",
          "South Ozone Park",
          "Hollis",
          "New York",
          "Arverne",
          "Queens Village",
          "New York",
          "College Point",
          "Staten Island",
          "Astoria",
          "Howard Beach",
          "Jamaica",
          "South Richmond Hill",
          "Rockaway Park",
          "Woodhaven",
          "Fresh Meadows",
          "New York",
          "New York",
          "Staten Island",
          "Brooklyn",
          "Kew Gardens",
          "Middle Village",
          "Brooklyn",
          "New York",
          "Maspeth",
          "Rosedale",
          "Staten Island",
          "Bayside",
          "Flushing",
          "Staten Island",
          "New York",
          "Oakland Gardens",
          "Bronx",
          "New York",
          "Flushing",
          "New York",
          "Far Rockaway",
          "New York",
          "Brooklyn",
          "East Elmhurst",
          "Queens Village",
          "Cambria Heights",
          "New York",
          "Ozone Park",
          "Whitestone",
          "Bronx",
          "Fresh Meadows",
          "Staten Island",
          "Bronx",
          "Staten Island",
          "New York",
          "Bellerose",
          "Bayside"
         ],
         "lat": [
          40.645255999999996,
          40.853017,
          40.864166,
          40.846745,
          40.691234,
          40.872265000000006,
          40.829676,
          40.867107,
          40.670874,
          40.676938,
          40.838745,
          40.670937,
          40.662191,
          40.826201,
          40.840686,
          40.825432,
          40.662892,
          40.84095,
          40.703355,
          40.680398,
          40.830409,
          40.649059,
          40.848764,
          40.819728999999995,
          40.858703999999996,
          40.812665,
          40.818151,
          40.672666,
          40.867653000000004,
          40.667508000000005,
          40.680145,
          40.641436,
          40.89095,
          40.842172999999995,
          40.702348,
          40.802395000000004,
          40.644552000000004,
          40.815559,
          40.703069,
          40.802853000000006,
          40.618944,
          40.805968,
          40.622994,
          40.791585999999995,
          40.598994,
          40.798502,
          40.60002,
          40.881085999999996,
          40.71209,
          40.726302000000004,
          40.826181,
          40.655481,
          40.627946,
          40.728614,
          40.736076000000004,
          40.742869,
          40.640527,
          40.598141999999996,
          40.632449,
          40.717040000000004,
          40.631775,
          40.741012,
          40.842917,
          40.81321,
          40.776777,
          40.68209,
          40.747106,
          40.727093,
          40.786387,
          40.60787,
          40.583803,
          40.868643,
          40.900628999999995,
          40.72596,
          40.576589,
          40.732509,
          40.750146,
          40.698485,
          40.774685999999996,
          40.599256,
          40.62327,
          40.765714,
          40.714144,
          40.629448,
          40.818514,
          40.750741999999995,
          40.695285999999996,
          40.762012,
          40.813385,
          40.645099,
          40.749463,
          40.781894,
          40.697188,
          40.720535,
          40.759510999999996,
          40.700068,
          40.674888,
          40.694214,
          40.631127,
          40.696538000000004,
          40.728235,
          40.771285999999996,
          40.683301,
          40.670138,
          40.745340999999996,
          40.825727,
          40.743796,
          40.734718,
          40.746179999999995,
          40.63212,
          40.739022,
          40.724945,
          40.6788,
          40.762854,
          40.673138,
          40.714261,
          40.76842,
          40.592939,
          40.708833,
          40.776099,
          40.785462,
          40.606336999999996,
          40.762968,
          40.658188,
          40.674146,
          40.688688,
          40.57649,
          40.690870000000004,
          40.738983000000005,
          40.720665999999994,
          40.759015000000005,
          40.543116999999995,
          40.618561,
          40.706903000000004,
          40.716028,
          40.617563,
          40.709677,
          40.724096,
          40.662538,
          40.569394,
          40.763177,
          40.767969,
          40.599021,
          40.762174,
          40.746718,
          40.900819,
          40.755101,
          40.760521999999995,
          40.707467,
          40.596959000000005,
          40.752159000000006,
          40.645848,
          40.763015,
          40.719981,
          40.693538000000004,
          40.780751,
          40.675534000000006,
          40.784453000000006,
          40.857017,
          40.726137,
          40.529749,
          40.878522,
          40.508274,
          40.706019,
          40.732239,
          40.780386
         ],
         "legendgroup": "",
         "lon": [
          -73.95553000000001,
          -73.91214000000001,
          -73.88880999999999,
          -73.89860999999999,
          -73.92636999999999,
          -73.86936999999999,
          -73.90856,
          -73.89916,
          -73.89424,
          -73.91858,
          -73.92234,
          -73.93459,
          -73.91328,
          -73.94879,
          -73.94154,
          -73.89327,
          -73.95509,
          -73.88036,
          -73.91993000000001,
          -73.94824,
          -73.86845,
          -73.93304,
          -73.93496,
          -73.9223,
          -73.92853000000001,
          -73.95499000000001,
          -73.94351,
          -73.87248000000001,
          -73.92,
          -73.9856,
          -73.96257,
          -74.01574000000001,
          -73.84702,
          -73.85862,
          -73.94288,
          -73.93359,
          -73.97595,
          -73.90771,
          -73.89285,
          -73.95470999999999,
          -73.98473,
          -73.91628,
          -73.96427,
          -73.94575,
          -73.99611,
          -73.96811,
          -73.75962,
          -73.90749,
          -73.95427,
          -73.94559,
          -73.9371,
          -74.00424,
          -73.94552,
          -73.82145,
          -73.87804,
          -73.90377,
          -73.90361999999999,
          -73.97229,
          -73.99629,
          -73.987,
          -74.09432,
          -74.00012,
          -73.83819,
          -73.88755,
          -73.9541,
          -73.97783000000001,
          -73.85838000000001,
          -73.97864,
          -73.97709,
          -74.08991,
          -73.95019,
          -73.84735,
          -73.86072,
          -73.99834,
          -73.99172,
          -73.98935,
          -73.88433,
          -73.83365,
          -73.90816,
          -73.94118,
          -74.0295,
          -73.9856,
          -73.79324,
          -74.16239,
          -73.85893,
          -73.99653,
          -73.98907,
          -73.93146999999999,
          -73.93616,
          -73.945032,
          -73.81940999999999,
          -73.95039,
          -73.75948000000001,
          -73.84581999999999,
          -73.99019,
          -73.80986,
          -73.7727,
          -73.96529,
          -74.13715,
          -73.78734,
          -73.74781999999999,
          -73.92461999999999,
          -73.8503,
          -73.75140999999999,
          -73.93907,
          -73.81752,
          -73.91949,
          -74.00532,
          -73.97759,
          -74.11551,
          -73.98205,
          -73.8609,
          -74.00254,
          -73.87051,
          -73.81443,
          -73.76824,
          -73.96045,
          -73.79568,
          -73.73903,
          -73.98285,
          -73.84366,
          -74.14513000000001,
          -73.91091,
          -73.84321,
          -73.79687,
          -73.82216,
          -73.84721,
          -73.85828000000001,
          -73.79209,
          -74.00525999999999,
          -73.96732,
          -74.17628,
          -73.9216,
          -73.82973,
          -73.87925,
          -74.01168,
          -74.00365,
          -73.90271,
          -73.73514,
          -74.11785,
          -73.77391999999999,
          -73.82496,
          -74.07503,
          -73.94917,
          -73.75994,
          -73.90347,
          -73.99337,
          -73.79612,
          -74.0178,
          -73.81978000000001,
          -73.97231,
          -73.87919000000001,
          -73.89052,
          -73.74127,
          -73.73574,
          -73.977182,
          -73.84476,
          -73.80922,
          -73.78903000000001,
          -73.79502,
          -74.21304,
          -73.82540999999999,
          -74.24387,
          -74.00858000000001,
          -73.72108,
          -73.78005
         ],
         "marker": {
          "color": "#636efa",
          "size": [
           1897,
           1737,
           1537,
           1504,
           1489,
           1389,
           1386,
           1382,
           1337,
           1301,
           1184,
           1168,
           1029,
           1015,
           1014,
           949,
           946,
           928,
           928,
           919,
           880,
           839,
           815,
           779,
           702,
           699,
           658,
           654,
           605,
           567,
           560,
           546,
           534,
           531,
           498,
           490,
           471,
           458,
           418,
           409,
           389,
           384,
           372,
           359,
           355,
           345,
           304,
           302,
           297,
           279,
           265,
           264,
           258,
           242,
           237,
           223,
           207,
           194,
           193,
           191,
           190,
           190,
           181,
           176,
           174,
           173,
           168,
           166,
           164,
           162,
           159,
           146,
           142,
           139,
           139,
           134,
           133,
           123,
           122,
           121,
           113,
           111,
           107,
           107,
           106,
           105,
           101,
           96,
           96,
           92,
           92,
           91,
           91,
           89,
           85,
           83,
           83,
           81,
           81,
           78,
           76,
           76,
           75,
           72,
           72,
           70,
           68,
           65,
           65,
           60,
           59,
           58,
           55,
           55,
           55,
           52,
           52,
           51,
           51,
           44,
           44,
           40,
           40,
           39,
           38,
           38,
           36,
           35,
           34,
           32,
           32,
           31,
           31,
           29,
           25,
           25,
           24,
           23,
           22,
           21,
           20,
           19,
           18,
           18,
           17,
           16,
           13,
           12,
           12,
           11,
           10,
           10,
           8,
           7,
           7,
           7,
           6,
           4,
           3,
           3,
           2,
           2,
           1,
           1,
           1,
           1
          ],
          "sizemode": "area",
          "sizeref": 4.7425
         },
         "mode": "markers",
         "name": "",
         "showlegend": false,
         "subplot": "mapbox",
         "type": "scattermapbox"
        }
       ],
       "layout": {
        "height": 600,
        "legend": {
         "itemsizing": "constant",
         "tracegroupgap": 0
        },
        "mapbox": {
         "accesstoken": "pk.eyJ1IjoiYmNvaGVuOSIsImEiOiJjazMyYWF5OHYwYTZ3M25ubzFmMTRiNnNtIn0.8Kusg2VIJV3-cV2L2V7uHA",
         "center": {
          "lat": 40.726114692771105,
          "lon": -73.9173353253012
         },
         "domain": {
          "x": [
           0,
           1
          ],
          "y": [
           0,
           1
          ]
         },
         "style": "light",
         "zoom": 8
        },
        "margin": {
         "b": 0,
         "l": 0,
         "r": 0,
         "t": 100
        },
        "template": {
         "data": {
          "bar": [
           {
            "error_x": {
             "color": "#2a3f5f"
            },
            "error_y": {
             "color": "#2a3f5f"
            },
            "marker": {
             "line": {
              "color": "#E5ECF6",
              "width": 0.5
             }
            },
            "type": "bar"
           }
          ],
          "barpolar": [
           {
            "marker": {
             "line": {
              "color": "#E5ECF6",
              "width": 0.5
             }
            },
            "type": "barpolar"
           }
          ],
          "carpet": [
           {
            "aaxis": {
             "endlinecolor": "#2a3f5f",
             "gridcolor": "white",
             "linecolor": "white",
             "minorgridcolor": "white",
             "startlinecolor": "#2a3f5f"
            },
            "baxis": {
             "endlinecolor": "#2a3f5f",
             "gridcolor": "white",
             "linecolor": "white",
             "minorgridcolor": "white",
             "startlinecolor": "#2a3f5f"
            },
            "type": "carpet"
           }
          ],
          "choropleth": [
           {
            "colorbar": {
             "outlinewidth": 0,
             "ticks": ""
            },
            "type": "choropleth"
           }
          ],
          "contour": [
           {
            "colorbar": {
             "outlinewidth": 0,
             "ticks": ""
            },
            "colorscale": [
             [
              0,
              "#0d0887"
             ],
             [
              0.1111111111111111,
              "#46039f"
             ],
             [
              0.2222222222222222,
              "#7201a8"
             ],
             [
              0.3333333333333333,
              "#9c179e"
             ],
             [
              0.4444444444444444,
              "#bd3786"
             ],
             [
              0.5555555555555556,
              "#d8576b"
             ],
             [
              0.6666666666666666,
              "#ed7953"
             ],
             [
              0.7777777777777778,
              "#fb9f3a"
             ],
             [
              0.8888888888888888,
              "#fdca26"
             ],
             [
              1,
              "#f0f921"
             ]
            ],
            "type": "contour"
           }
          ],
          "contourcarpet": [
           {
            "colorbar": {
             "outlinewidth": 0,
             "ticks": ""
            },
            "type": "contourcarpet"
           }
          ],
          "heatmap": [
           {
            "colorbar": {
             "outlinewidth": 0,
             "ticks": ""
            },
            "colorscale": [
             [
              0,
              "#0d0887"
             ],
             [
              0.1111111111111111,
              "#46039f"
             ],
             [
              0.2222222222222222,
              "#7201a8"
             ],
             [
              0.3333333333333333,
              "#9c179e"
             ],
             [
              0.4444444444444444,
              "#bd3786"
             ],
             [
              0.5555555555555556,
              "#d8576b"
             ],
             [
              0.6666666666666666,
              "#ed7953"
             ],
             [
              0.7777777777777778,
              "#fb9f3a"
             ],
             [
              0.8888888888888888,
              "#fdca26"
             ],
             [
              1,
              "#f0f921"
             ]
            ],
            "type": "heatmap"
           }
          ],
          "heatmapgl": [
           {
            "colorbar": {
             "outlinewidth": 0,
             "ticks": ""
            },
            "colorscale": [
             [
              0,
              "#0d0887"
             ],
             [
              0.1111111111111111,
              "#46039f"
             ],
             [
              0.2222222222222222,
              "#7201a8"
             ],
             [
              0.3333333333333333,
              "#9c179e"
             ],
             [
              0.4444444444444444,
              "#bd3786"
             ],
             [
              0.5555555555555556,
              "#d8576b"
             ],
             [
              0.6666666666666666,
              "#ed7953"
             ],
             [
              0.7777777777777778,
              "#fb9f3a"
             ],
             [
              0.8888888888888888,
              "#fdca26"
             ],
             [
              1,
              "#f0f921"
             ]
            ],
            "type": "heatmapgl"
           }
          ],
          "histogram": [
           {
            "marker": {
             "colorbar": {
              "outlinewidth": 0,
              "ticks": ""
             }
            },
            "type": "histogram"
           }
          ],
          "histogram2d": [
           {
            "colorbar": {
             "outlinewidth": 0,
             "ticks": ""
            },
            "colorscale": [
             [
              0,
              "#0d0887"
             ],
             [
              0.1111111111111111,
              "#46039f"
             ],
             [
              0.2222222222222222,
              "#7201a8"
             ],
             [
              0.3333333333333333,
              "#9c179e"
             ],
             [
              0.4444444444444444,
              "#bd3786"
             ],
             [
              0.5555555555555556,
              "#d8576b"
             ],
             [
              0.6666666666666666,
              "#ed7953"
             ],
             [
              0.7777777777777778,
              "#fb9f3a"
             ],
             [
              0.8888888888888888,
              "#fdca26"
             ],
             [
              1,
              "#f0f921"
             ]
            ],
            "type": "histogram2d"
           }
          ],
          "histogram2dcontour": [
           {
            "colorbar": {
             "outlinewidth": 0,
             "ticks": ""
            },
            "colorscale": [
             [
              0,
              "#0d0887"
             ],
             [
              0.1111111111111111,
              "#46039f"
             ],
             [
              0.2222222222222222,
              "#7201a8"
             ],
             [
              0.3333333333333333,
              "#9c179e"
             ],
             [
              0.4444444444444444,
              "#bd3786"
             ],
             [
              0.5555555555555556,
              "#d8576b"
             ],
             [
              0.6666666666666666,
              "#ed7953"
             ],
             [
              0.7777777777777778,
              "#fb9f3a"
             ],
             [
              0.8888888888888888,
              "#fdca26"
             ],
             [
              1,
              "#f0f921"
             ]
            ],
            "type": "histogram2dcontour"
           }
          ],
          "mesh3d": [
           {
            "colorbar": {
             "outlinewidth": 0,
             "ticks": ""
            },
            "type": "mesh3d"
           }
          ],
          "parcoords": [
           {
            "line": {
             "colorbar": {
              "outlinewidth": 0,
              "ticks": ""
             }
            },
            "type": "parcoords"
           }
          ],
          "pie": [
           {
            "automargin": true,
            "type": "pie"
           }
          ],
          "scatter": [
           {
            "marker": {
             "colorbar": {
              "outlinewidth": 0,
              "ticks": ""
             }
            },
            "type": "scatter"
           }
          ],
          "scatter3d": [
           {
            "line": {
             "colorbar": {
              "outlinewidth": 0,
              "ticks": ""
             }
            },
            "marker": {
             "colorbar": {
              "outlinewidth": 0,
              "ticks": ""
             }
            },
            "type": "scatter3d"
           }
          ],
          "scattercarpet": [
           {
            "marker": {
             "colorbar": {
              "outlinewidth": 0,
              "ticks": ""
             }
            },
            "type": "scattercarpet"
           }
          ],
          "scattergeo": [
           {
            "marker": {
             "colorbar": {
              "outlinewidth": 0,
              "ticks": ""
             }
            },
            "type": "scattergeo"
           }
          ],
          "scattergl": [
           {
            "marker": {
             "colorbar": {
              "outlinewidth": 0,
              "ticks": ""
             }
            },
            "type": "scattergl"
           }
          ],
          "scattermapbox": [
           {
            "marker": {
             "colorbar": {
              "outlinewidth": 0,
              "ticks": ""
             }
            },
            "type": "scattermapbox"
           }
          ],
          "scatterpolar": [
           {
            "marker": {
             "colorbar": {
              "outlinewidth": 0,
              "ticks": ""
             }
            },
            "type": "scatterpolar"
           }
          ],
          "scatterpolargl": [
           {
            "marker": {
             "colorbar": {
              "outlinewidth": 0,
              "ticks": ""
             }
            },
            "type": "scatterpolargl"
           }
          ],
          "scatterternary": [
           {
            "marker": {
             "colorbar": {
              "outlinewidth": 0,
              "ticks": ""
             }
            },
            "type": "scatterternary"
           }
          ],
          "surface": [
           {
            "colorbar": {
             "outlinewidth": 0,
             "ticks": ""
            },
            "colorscale": [
             [
              0,
              "#0d0887"
             ],
             [
              0.1111111111111111,
              "#46039f"
             ],
             [
              0.2222222222222222,
              "#7201a8"
             ],
             [
              0.3333333333333333,
              "#9c179e"
             ],
             [
              0.4444444444444444,
              "#bd3786"
             ],
             [
              0.5555555555555556,
              "#d8576b"
             ],
             [
              0.6666666666666666,
              "#ed7953"
             ],
             [
              0.7777777777777778,
              "#fb9f3a"
             ],
             [
              0.8888888888888888,
              "#fdca26"
             ],
             [
              1,
              "#f0f921"
             ]
            ],
            "type": "surface"
           }
          ],
          "table": [
           {
            "cells": {
             "fill": {
              "color": "#EBF0F8"
             },
             "line": {
              "color": "white"
             }
            },
            "header": {
             "fill": {
              "color": "#C8D4E3"
             },
             "line": {
              "color": "white"
             }
            },
            "type": "table"
           }
          ]
         },
         "layout": {
          "annotationdefaults": {
           "arrowcolor": "#2a3f5f",
           "arrowhead": 0,
           "arrowwidth": 1
          },
          "coloraxis": {
           "colorbar": {
            "outlinewidth": 0,
            "ticks": ""
           }
          },
          "colorscale": {
           "diverging": [
            [
             0,
             "#8e0152"
            ],
            [
             0.1,
             "#c51b7d"
            ],
            [
             0.2,
             "#de77ae"
            ],
            [
             0.3,
             "#f1b6da"
            ],
            [
             0.4,
             "#fde0ef"
            ],
            [
             0.5,
             "#f7f7f7"
            ],
            [
             0.6,
             "#e6f5d0"
            ],
            [
             0.7,
             "#b8e186"
            ],
            [
             0.8,
             "#7fbc41"
            ],
            [
             0.9,
             "#4d9221"
            ],
            [
             1,
             "#276419"
            ]
           ],
           "sequential": [
            [
             0,
             "#0d0887"
            ],
            [
             0.1111111111111111,
             "#46039f"
            ],
            [
             0.2222222222222222,
             "#7201a8"
            ],
            [
             0.3333333333333333,
             "#9c179e"
            ],
            [
             0.4444444444444444,
             "#bd3786"
            ],
            [
             0.5555555555555556,
             "#d8576b"
            ],
            [
             0.6666666666666666,
             "#ed7953"
            ],
            [
             0.7777777777777778,
             "#fb9f3a"
            ],
            [
             0.8888888888888888,
             "#fdca26"
            ],
            [
             1,
             "#f0f921"
            ]
           ],
           "sequentialminus": [
            [
             0,
             "#0d0887"
            ],
            [
             0.1111111111111111,
             "#46039f"
            ],
            [
             0.2222222222222222,
             "#7201a8"
            ],
            [
             0.3333333333333333,
             "#9c179e"
            ],
            [
             0.4444444444444444,
             "#bd3786"
            ],
            [
             0.5555555555555556,
             "#d8576b"
            ],
            [
             0.6666666666666666,
             "#ed7953"
            ],
            [
             0.7777777777777778,
             "#fb9f3a"
            ],
            [
             0.8888888888888888,
             "#fdca26"
            ],
            [
             1,
             "#f0f921"
            ]
           ]
          },
          "colorway": [
           "#636efa",
           "#EF553B",
           "#00cc96",
           "#ab63fa",
           "#FFA15A",
           "#19d3f3",
           "#FF6692",
           "#B6E880",
           "#FF97FF",
           "#FECB52"
          ],
          "font": {
           "color": "#2a3f5f"
          },
          "geo": {
           "bgcolor": "white",
           "lakecolor": "white",
           "landcolor": "#E5ECF6",
           "showlakes": true,
           "showland": true,
           "subunitcolor": "white"
          },
          "hoverlabel": {
           "align": "left"
          },
          "hovermode": "closest",
          "mapbox": {
           "style": "light"
          },
          "paper_bgcolor": "white",
          "plot_bgcolor": "#E5ECF6",
          "polar": {
           "angularaxis": {
            "gridcolor": "white",
            "linecolor": "white",
            "ticks": ""
           },
           "bgcolor": "#E5ECF6",
           "radialaxis": {
            "gridcolor": "white",
            "linecolor": "white",
            "ticks": ""
           }
          },
          "scene": {
           "xaxis": {
            "backgroundcolor": "#E5ECF6",
            "gridcolor": "white",
            "gridwidth": 2,
            "linecolor": "white",
            "showbackground": true,
            "ticks": "",
            "zerolinecolor": "white"
           },
           "yaxis": {
            "backgroundcolor": "#E5ECF6",
            "gridcolor": "white",
            "gridwidth": 2,
            "linecolor": "white",
            "showbackground": true,
            "ticks": "",
            "zerolinecolor": "white"
           },
           "zaxis": {
            "backgroundcolor": "#E5ECF6",
            "gridcolor": "white",
            "gridwidth": 2,
            "linecolor": "white",
            "showbackground": true,
            "ticks": "",
            "zerolinecolor": "white"
           }
          },
          "shapedefaults": {
           "line": {
            "color": "#2a3f5f"
           }
          },
          "ternary": {
           "aaxis": {
            "gridcolor": "white",
            "linecolor": "white",
            "ticks": ""
           },
           "baxis": {
            "gridcolor": "white",
            "linecolor": "white",
            "ticks": ""
           },
           "bgcolor": "#E5ECF6",
           "caxis": {
            "gridcolor": "white",
            "linecolor": "white",
            "ticks": ""
           }
          },
          "title": {
           "x": 0.05
          },
          "xaxis": {
           "automargin": true,
           "gridcolor": "white",
           "linecolor": "white",
           "ticks": "",
           "title": {
            "standoff": 15
           },
           "zerolinecolor": "white",
           "zerolinewidth": 2
          },
          "yaxis": {
           "automargin": true,
           "gridcolor": "white",
           "linecolor": "white",
           "ticks": "",
           "title": {
            "standoff": 15
           },
           "zerolinecolor": "white",
           "zerolinewidth": 2
          }
         }
        },
        "title": {
         "text": "Incidents per Zip"
        }
       }
      },
      "text/html": [
       "<div>\n",
       "        \n",
       "        \n",
       "            <div id=\"35dbde96-dc5a-4b74-9791-1364d38f6347\" class=\"plotly-graph-div\" style=\"height:600px; width:100%;\"></div>\n",
       "            <script type=\"text/javascript\">\n",
       "                require([\"plotly\"], function(Plotly) {\n",
       "                    window.PLOTLYENV=window.PLOTLYENV || {};\n",
       "                    \n",
       "                if (document.getElementById(\"35dbde96-dc5a-4b74-9791-1364d38f6347\")) {\n",
       "                    Plotly.newPlot(\n",
       "                        '35dbde96-dc5a-4b74-9791-1364d38f6347',\n",
       "                        [{\"customdata\": [[11226, 1897], [10453, 1737], [10458, 1537], [10457, 1504], [11221, 1489], [10467, 1389], [10456, 1386], [10468, 1382], [11207, 1337], [11233, 1301], [10452, 1184], [11213, 1168], [11212, 1029], [10031, 1015], [10032, 1014], [10459, 949], [11225, 946], [10460, 928], [11237, 928], [11216, 919], [10472, 880], [11203, 839], [10033, 815], [10451, 779], [10040, 702], [10027, 699], [10030, 658], [11208, 654], [10034, 605], [11215, 567], [11238, 560], [11220, 546], [10466, 534], [10462, 531], [11206, 498], [10035, 490], [11218, 471], [10455, 458], [11385, 418], [10026, 409], [11204, 389], [10454, 384], [11230, 372], [10029, 359], [11214, 355], [10025, 345], [11691, 304], [10463, 302], [11211, 297], [11222, 279], [10039, 265], [11232, 264], [11210, 258], [11367, 242], [11373, 237], [11377, 223], [11236, 207], [11223, 194], [11219, 193], [10002, 191], [10301, 190], [10011, 190], [10461, 181], [10474, 176], [10028, 174], [11217, 173], [11368, 168], [10009, 166], [10024, 164], [10304, 162], [11235, 159], [10469, 146], [10470, 142], [10012, 139], [11224, 139], [10003, 134], [11372, 133], [11418, 123], [11105, 122], [11229, 121], [11209, 113], [10019, 111], [11432, 107], [10303, 107], [10473, 106], [10001, 105], [11201, 101], [11106, 96], [10037, 96], [11249, 92], [11355, 92], [10128, 91], [11412, 91], [11375, 89], [10036, 85], [11435, 83], [11434, 83], [11205, 81], [10302, 81], [11433, 78], [11427, 76], [11102, 76], [11416, 75], [11413, 72], [11101, 72], [10465, 70], [11104, 68], [10014, 65], [10016, 65], [10310, 60], [10010, 59], [11374, 58], [11231, 55], [11369, 55], [11420, 55], [11423, 52], [10021, 52], [11692, 51], [11429, 51], [10023, 44], [11356, 44], [10314, 40], [11103, 40], [11414, 39], [11436, 38], [11419, 38], [11694, 36], [11421, 35], [11365, 34], [10013, 32], [10022, 32], [10312, 31], [11234, 31], [11415, 29], [11379, 25], [11228, 25], [10038, 24], [11378, 23], [11422, 22], [10306, 21], [11361, 20], [11354, 19], [10305, 18], [10044, 18], [11364, 17], [10471, 16], [10018, 13], [11358, 12], [10280, 12], [11693, 11], [10017, 10], [11239, 10], [11370, 8], [11428, 7], [11411, 7], [10129, 7], [11417, 6], [11357, 4], [10464, 3], [11366, 3], [10309, 2], [10475, 2], [10307, 1], [10005, 1], [11426, 1], [11360, 1]], \"hoverlabel\": {\"namelength\": 0}, \"hovertemplate\": \"<b>%{hovertext}</b><br><br>count=%{customdata[1]}<br>zip=%{customdata[0]}<br>long=%{lat}<br>lat=%{lon}\", \"hovertext\": [\"Brooklyn\", \"Bronx\", \"Bronx\", \"Bronx\", \"Brooklyn\", \"Bronx\", \"Bronx\", \"Bronx\", \"Brooklyn\", \"Brooklyn\", \"Bronx\", \"Brooklyn\", \"Brooklyn\", \"New York\", \"New York\", \"Bronx\", \"Brooklyn\", \"Bronx\", \"Brooklyn\", \"Brooklyn\", \"Bronx\", \"Brooklyn\", \"New York\", \"Bronx\", \"New York\", \"New York\", \"New York\", \"Brooklyn\", \"New York\", \"Brooklyn\", \"Brooklyn\", \"Brooklyn\", \"Bronx\", \"Bronx\", \"Brooklyn\", \"New York\", \"Brooklyn\", \"Bronx\", \"Ridgewood\", \"New York\", \"Brooklyn\", \"Bronx\", \"Brooklyn\", \"New York\", \"Brooklyn\", \"New York\", \"Far Rockaway\", \"Bronx\", \"Brooklyn\", \"Brooklyn\", \"New York\", \"Brooklyn\", \"Brooklyn\", \"Flushing\", \"Elmhurst\", \"Woodside\", \"Brooklyn\", \"Brooklyn\", \"Brooklyn\", \"New York\", \"Staten Island\", \"New York\", \"Bronx\", \"Bronx\", \"New York\", \"Brooklyn\", \"Corona\", \"New York\", \"New York\", \"Staten Island\", \"Brooklyn\", \"Bronx\", \"Bronx\", \"New York\", \"Brooklyn\", \"New York\", \"Jackson Heights\", \"Richmond Hill\", \"Astoria\", \"Brooklyn\", \"Brooklyn\", \"New York\", \"Jamaica\", \"Staten Island\", \"Bronx\", \"New York\", \"Brooklyn\", \"Astoria\", \"New York\", \"Brooklyn\", \"Flushing\", \"New York\", \"Saint Albans\", \"Forest Hills\", \"New York\", \"Jamaica\", \"Jamaica\", \"Brooklyn\", \"Staten Island\", \"Jamaica\", \"Queens Village\", \"Astoria\", \"Ozone Park\", \"Springfield Gardens\", \"Long Island City\", \"Bronx\", \"Sunnyside\", \"New York\", \"New York\", \"Staten Island\", \"New York\", \"Rego Park\", \"Brooklyn\", \"East Elmhurst\", \"South Ozone Park\", \"Hollis\", \"New York\", \"Arverne\", \"Queens Village\", \"New York\", \"College Point\", \"Staten Island\", \"Astoria\", \"Howard Beach\", \"Jamaica\", \"South Richmond Hill\", \"Rockaway Park\", \"Woodhaven\", \"Fresh Meadows\", \"New York\", \"New York\", \"Staten Island\", \"Brooklyn\", \"Kew Gardens\", \"Middle Village\", \"Brooklyn\", \"New York\", \"Maspeth\", \"Rosedale\", \"Staten Island\", \"Bayside\", \"Flushing\", \"Staten Island\", \"New York\", \"Oakland Gardens\", \"Bronx\", \"New York\", \"Flushing\", \"New York\", \"Far Rockaway\", \"New York\", \"Brooklyn\", \"East Elmhurst\", \"Queens Village\", \"Cambria Heights\", \"New York\", \"Ozone Park\", \"Whitestone\", \"Bronx\", \"Fresh Meadows\", \"Staten Island\", \"Bronx\", \"Staten Island\", \"New York\", \"Bellerose\", \"Bayside\"], \"lat\": [40.645255999999996, 40.853017, 40.864166, 40.846745, 40.691234, 40.872265000000006, 40.829676, 40.867107, 40.670874, 40.676938, 40.838745, 40.670937, 40.662191, 40.826201, 40.840686, 40.825432, 40.662892, 40.84095, 40.703355, 40.680398, 40.830409, 40.649059, 40.848764, 40.819728999999995, 40.858703999999996, 40.812665, 40.818151, 40.672666, 40.867653000000004, 40.667508000000005, 40.680145, 40.641436, 40.89095, 40.842172999999995, 40.702348, 40.802395000000004, 40.644552000000004, 40.815559, 40.703069, 40.802853000000006, 40.618944, 40.805968, 40.622994, 40.791585999999995, 40.598994, 40.798502, 40.60002, 40.881085999999996, 40.71209, 40.726302000000004, 40.826181, 40.655481, 40.627946, 40.728614, 40.736076000000004, 40.742869, 40.640527, 40.598141999999996, 40.632449, 40.717040000000004, 40.631775, 40.741012, 40.842917, 40.81321, 40.776777, 40.68209, 40.747106, 40.727093, 40.786387, 40.60787, 40.583803, 40.868643, 40.900628999999995, 40.72596, 40.576589, 40.732509, 40.750146, 40.698485, 40.774685999999996, 40.599256, 40.62327, 40.765714, 40.714144, 40.629448, 40.818514, 40.750741999999995, 40.695285999999996, 40.762012, 40.813385, 40.645099, 40.749463, 40.781894, 40.697188, 40.720535, 40.759510999999996, 40.700068, 40.674888, 40.694214, 40.631127, 40.696538000000004, 40.728235, 40.771285999999996, 40.683301, 40.670138, 40.745340999999996, 40.825727, 40.743796, 40.734718, 40.746179999999995, 40.63212, 40.739022, 40.724945, 40.6788, 40.762854, 40.673138, 40.714261, 40.76842, 40.592939, 40.708833, 40.776099, 40.785462, 40.606336999999996, 40.762968, 40.658188, 40.674146, 40.688688, 40.57649, 40.690870000000004, 40.738983000000005, 40.720665999999994, 40.759015000000005, 40.543116999999995, 40.618561, 40.706903000000004, 40.716028, 40.617563, 40.709677, 40.724096, 40.662538, 40.569394, 40.763177, 40.767969, 40.599021, 40.762174, 40.746718, 40.900819, 40.755101, 40.760521999999995, 40.707467, 40.596959000000005, 40.752159000000006, 40.645848, 40.763015, 40.719981, 40.693538000000004, 40.780751, 40.675534000000006, 40.784453000000006, 40.857017, 40.726137, 40.529749, 40.878522, 40.508274, 40.706019, 40.732239, 40.780386], \"legendgroup\": \"\", \"lon\": [-73.95553000000001, -73.91214000000001, -73.88880999999999, -73.89860999999999, -73.92636999999999, -73.86936999999999, -73.90856, -73.89916, -73.89424, -73.91858, -73.92234, -73.93459, -73.91328, -73.94879, -73.94154, -73.89327, -73.95509, -73.88036, -73.91993000000001, -73.94824, -73.86845, -73.93304, -73.93496, -73.9223, -73.92853000000001, -73.95499000000001, -73.94351, -73.87248000000001, -73.92, -73.9856, -73.96257, -74.01574000000001, -73.84702, -73.85862, -73.94288, -73.93359, -73.97595, -73.90771, -73.89285, -73.95470999999999, -73.98473, -73.91628, -73.96427, -73.94575, -73.99611, -73.96811, -73.75962, -73.90749, -73.95427, -73.94559, -73.9371, -74.00424, -73.94552, -73.82145, -73.87804, -73.90377, -73.90361999999999, -73.97229, -73.99629, -73.987, -74.09432, -74.00012, -73.83819, -73.88755, -73.9541, -73.97783000000001, -73.85838000000001, -73.97864, -73.97709, -74.08991, -73.95019, -73.84735, -73.86072, -73.99834, -73.99172, -73.98935, -73.88433, -73.83365, -73.90816, -73.94118, -74.0295, -73.9856, -73.79324, -74.16239, -73.85893, -73.99653, -73.98907, -73.93146999999999, -73.93616, -73.945032, -73.81940999999999, -73.95039, -73.75948000000001, -73.84581999999999, -73.99019, -73.80986, -73.7727, -73.96529, -74.13715, -73.78734, -73.74781999999999, -73.92461999999999, -73.8503, -73.75140999999999, -73.93907, -73.81752, -73.91949, -74.00532, -73.97759, -74.11551, -73.98205, -73.8609, -74.00254, -73.87051, -73.81443, -73.76824, -73.96045, -73.79568, -73.73903, -73.98285, -73.84366, -74.14513000000001, -73.91091, -73.84321, -73.79687, -73.82216, -73.84721, -73.85828000000001, -73.79209, -74.00525999999999, -73.96732, -74.17628, -73.9216, -73.82973, -73.87925, -74.01168, -74.00365, -73.90271, -73.73514, -74.11785, -73.77391999999999, -73.82496, -74.07503, -73.94917, -73.75994, -73.90347, -73.99337, -73.79612, -74.0178, -73.81978000000001, -73.97231, -73.87919000000001, -73.89052, -73.74127, -73.73574, -73.977182, -73.84476, -73.80922, -73.78903000000001, -73.79502, -74.21304, -73.82540999999999, -74.24387, -74.00858000000001, -73.72108, -73.78005], \"marker\": {\"color\": \"#636efa\", \"size\": [1897, 1737, 1537, 1504, 1489, 1389, 1386, 1382, 1337, 1301, 1184, 1168, 1029, 1015, 1014, 949, 946, 928, 928, 919, 880, 839, 815, 779, 702, 699, 658, 654, 605, 567, 560, 546, 534, 531, 498, 490, 471, 458, 418, 409, 389, 384, 372, 359, 355, 345, 304, 302, 297, 279, 265, 264, 258, 242, 237, 223, 207, 194, 193, 191, 190, 190, 181, 176, 174, 173, 168, 166, 164, 162, 159, 146, 142, 139, 139, 134, 133, 123, 122, 121, 113, 111, 107, 107, 106, 105, 101, 96, 96, 92, 92, 91, 91, 89, 85, 83, 83, 81, 81, 78, 76, 76, 75, 72, 72, 70, 68, 65, 65, 60, 59, 58, 55, 55, 55, 52, 52, 51, 51, 44, 44, 40, 40, 39, 38, 38, 36, 35, 34, 32, 32, 31, 31, 29, 25, 25, 24, 23, 22, 21, 20, 19, 18, 18, 17, 16, 13, 12, 12, 11, 10, 10, 8, 7, 7, 7, 6, 4, 3, 3, 2, 2, 1, 1, 1, 1], \"sizemode\": \"area\", \"sizeref\": 4.7425}, \"mode\": \"markers\", \"name\": \"\", \"showlegend\": false, \"subplot\": \"mapbox\", \"type\": \"scattermapbox\"}],\n",
       "                        {\"height\": 600, \"legend\": {\"itemsizing\": \"constant\", \"tracegroupgap\": 0}, \"mapbox\": {\"accesstoken\": \"pk.eyJ1IjoiYmNvaGVuOSIsImEiOiJjazMyYWF5OHYwYTZ3M25ubzFmMTRiNnNtIn0.8Kusg2VIJV3-cV2L2V7uHA\", \"center\": {\"lat\": 40.726114692771105, \"lon\": -73.9173353253012}, \"domain\": {\"x\": [0.0, 1.0], \"y\": [0.0, 1.0]}, \"style\": \"light\", \"zoom\": 8}, \"margin\": {\"b\": 0, \"l\": 0, \"r\": 0, \"t\": 100}, \"template\": {\"data\": {\"bar\": [{\"error_x\": {\"color\": \"#2a3f5f\"}, \"error_y\": {\"color\": \"#2a3f5f\"}, \"marker\": {\"line\": {\"color\": \"#E5ECF6\", \"width\": 0.5}}, \"type\": \"bar\"}], \"barpolar\": [{\"marker\": {\"line\": {\"color\": \"#E5ECF6\", \"width\": 0.5}}, \"type\": \"barpolar\"}], \"carpet\": [{\"aaxis\": {\"endlinecolor\": \"#2a3f5f\", \"gridcolor\": \"white\", \"linecolor\": \"white\", \"minorgridcolor\": \"white\", \"startlinecolor\": \"#2a3f5f\"}, \"baxis\": {\"endlinecolor\": \"#2a3f5f\", \"gridcolor\": \"white\", \"linecolor\": \"white\", \"minorgridcolor\": \"white\", \"startlinecolor\": \"#2a3f5f\"}, \"type\": \"carpet\"}], \"choropleth\": [{\"colorbar\": {\"outlinewidth\": 0, \"ticks\": \"\"}, \"type\": \"choropleth\"}], \"contour\": [{\"colorbar\": {\"outlinewidth\": 0, \"ticks\": \"\"}, \"colorscale\": [[0.0, \"#0d0887\"], [0.1111111111111111, \"#46039f\"], [0.2222222222222222, \"#7201a8\"], [0.3333333333333333, \"#9c179e\"], [0.4444444444444444, \"#bd3786\"], [0.5555555555555556, \"#d8576b\"], [0.6666666666666666, \"#ed7953\"], [0.7777777777777778, \"#fb9f3a\"], [0.8888888888888888, \"#fdca26\"], [1.0, \"#f0f921\"]], \"type\": \"contour\"}], \"contourcarpet\": [{\"colorbar\": {\"outlinewidth\": 0, \"ticks\": \"\"}, \"type\": \"contourcarpet\"}], \"heatmap\": [{\"colorbar\": {\"outlinewidth\": 0, \"ticks\": \"\"}, \"colorscale\": [[0.0, \"#0d0887\"], [0.1111111111111111, \"#46039f\"], [0.2222222222222222, \"#7201a8\"], [0.3333333333333333, \"#9c179e\"], [0.4444444444444444, \"#bd3786\"], [0.5555555555555556, \"#d8576b\"], [0.6666666666666666, \"#ed7953\"], [0.7777777777777778, \"#fb9f3a\"], [0.8888888888888888, \"#fdca26\"], [1.0, \"#f0f921\"]], \"type\": \"heatmap\"}], \"heatmapgl\": [{\"colorbar\": {\"outlinewidth\": 0, \"ticks\": \"\"}, \"colorscale\": [[0.0, \"#0d0887\"], [0.1111111111111111, \"#46039f\"], [0.2222222222222222, \"#7201a8\"], [0.3333333333333333, \"#9c179e\"], [0.4444444444444444, \"#bd3786\"], [0.5555555555555556, \"#d8576b\"], [0.6666666666666666, \"#ed7953\"], [0.7777777777777778, \"#fb9f3a\"], [0.8888888888888888, \"#fdca26\"], [1.0, \"#f0f921\"]], \"type\": \"heatmapgl\"}], \"histogram\": [{\"marker\": {\"colorbar\": {\"outlinewidth\": 0, \"ticks\": \"\"}}, \"type\": \"histogram\"}], \"histogram2d\": [{\"colorbar\": {\"outlinewidth\": 0, \"ticks\": \"\"}, \"colorscale\": [[0.0, \"#0d0887\"], [0.1111111111111111, \"#46039f\"], [0.2222222222222222, \"#7201a8\"], [0.3333333333333333, \"#9c179e\"], [0.4444444444444444, \"#bd3786\"], [0.5555555555555556, \"#d8576b\"], [0.6666666666666666, \"#ed7953\"], [0.7777777777777778, \"#fb9f3a\"], [0.8888888888888888, \"#fdca26\"], [1.0, \"#f0f921\"]], \"type\": \"histogram2d\"}], \"histogram2dcontour\": [{\"colorbar\": {\"outlinewidth\": 0, \"ticks\": \"\"}, \"colorscale\": [[0.0, \"#0d0887\"], [0.1111111111111111, \"#46039f\"], [0.2222222222222222, \"#7201a8\"], [0.3333333333333333, \"#9c179e\"], [0.4444444444444444, \"#bd3786\"], [0.5555555555555556, \"#d8576b\"], [0.6666666666666666, \"#ed7953\"], [0.7777777777777778, \"#fb9f3a\"], [0.8888888888888888, \"#fdca26\"], [1.0, \"#f0f921\"]], \"type\": \"histogram2dcontour\"}], \"mesh3d\": [{\"colorbar\": {\"outlinewidth\": 0, \"ticks\": \"\"}, \"type\": \"mesh3d\"}], \"parcoords\": [{\"line\": {\"colorbar\": {\"outlinewidth\": 0, \"ticks\": \"\"}}, \"type\": \"parcoords\"}], \"pie\": [{\"automargin\": true, \"type\": \"pie\"}], \"scatter\": [{\"marker\": {\"colorbar\": {\"outlinewidth\": 0, \"ticks\": \"\"}}, \"type\": \"scatter\"}], \"scatter3d\": [{\"line\": {\"colorbar\": {\"outlinewidth\": 0, \"ticks\": \"\"}}, \"marker\": {\"colorbar\": {\"outlinewidth\": 0, \"ticks\": \"\"}}, \"type\": \"scatter3d\"}], \"scattercarpet\": [{\"marker\": {\"colorbar\": {\"outlinewidth\": 0, \"ticks\": \"\"}}, \"type\": \"scattercarpet\"}], \"scattergeo\": [{\"marker\": {\"colorbar\": {\"outlinewidth\": 0, \"ticks\": \"\"}}, \"type\": \"scattergeo\"}], \"scattergl\": [{\"marker\": {\"colorbar\": {\"outlinewidth\": 0, \"ticks\": \"\"}}, \"type\": \"scattergl\"}], \"scattermapbox\": [{\"marker\": {\"colorbar\": {\"outlinewidth\": 0, \"ticks\": \"\"}}, \"type\": \"scattermapbox\"}], \"scatterpolar\": [{\"marker\": {\"colorbar\": {\"outlinewidth\": 0, \"ticks\": \"\"}}, \"type\": \"scatterpolar\"}], \"scatterpolargl\": [{\"marker\": {\"colorbar\": {\"outlinewidth\": 0, \"ticks\": \"\"}}, \"type\": \"scatterpolargl\"}], \"scatterternary\": [{\"marker\": {\"colorbar\": {\"outlinewidth\": 0, \"ticks\": \"\"}}, \"type\": \"scatterternary\"}], \"surface\": [{\"colorbar\": {\"outlinewidth\": 0, \"ticks\": \"\"}, \"colorscale\": [[0.0, \"#0d0887\"], [0.1111111111111111, \"#46039f\"], [0.2222222222222222, \"#7201a8\"], [0.3333333333333333, \"#9c179e\"], [0.4444444444444444, \"#bd3786\"], [0.5555555555555556, \"#d8576b\"], [0.6666666666666666, \"#ed7953\"], [0.7777777777777778, \"#fb9f3a\"], [0.8888888888888888, \"#fdca26\"], [1.0, \"#f0f921\"]], \"type\": \"surface\"}], \"table\": [{\"cells\": {\"fill\": {\"color\": \"#EBF0F8\"}, \"line\": {\"color\": \"white\"}}, \"header\": {\"fill\": {\"color\": \"#C8D4E3\"}, \"line\": {\"color\": \"white\"}}, \"type\": \"table\"}]}, \"layout\": {\"annotationdefaults\": {\"arrowcolor\": \"#2a3f5f\", \"arrowhead\": 0, \"arrowwidth\": 1}, \"coloraxis\": {\"colorbar\": {\"outlinewidth\": 0, \"ticks\": \"\"}}, \"colorscale\": {\"diverging\": [[0, \"#8e0152\"], [0.1, \"#c51b7d\"], [0.2, \"#de77ae\"], [0.3, \"#f1b6da\"], [0.4, \"#fde0ef\"], [0.5, \"#f7f7f7\"], [0.6, \"#e6f5d0\"], [0.7, \"#b8e186\"], [0.8, \"#7fbc41\"], [0.9, \"#4d9221\"], [1, \"#276419\"]], \"sequential\": [[0.0, \"#0d0887\"], [0.1111111111111111, \"#46039f\"], [0.2222222222222222, \"#7201a8\"], [0.3333333333333333, \"#9c179e\"], [0.4444444444444444, \"#bd3786\"], [0.5555555555555556, \"#d8576b\"], [0.6666666666666666, \"#ed7953\"], [0.7777777777777778, \"#fb9f3a\"], [0.8888888888888888, \"#fdca26\"], [1.0, \"#f0f921\"]], \"sequentialminus\": [[0.0, \"#0d0887\"], [0.1111111111111111, \"#46039f\"], [0.2222222222222222, \"#7201a8\"], [0.3333333333333333, \"#9c179e\"], [0.4444444444444444, \"#bd3786\"], [0.5555555555555556, \"#d8576b\"], [0.6666666666666666, \"#ed7953\"], [0.7777777777777778, \"#fb9f3a\"], [0.8888888888888888, \"#fdca26\"], [1.0, \"#f0f921\"]]}, \"colorway\": [\"#636efa\", \"#EF553B\", \"#00cc96\", \"#ab63fa\", \"#FFA15A\", \"#19d3f3\", \"#FF6692\", \"#B6E880\", \"#FF97FF\", \"#FECB52\"], \"font\": {\"color\": \"#2a3f5f\"}, \"geo\": {\"bgcolor\": \"white\", \"lakecolor\": \"white\", \"landcolor\": \"#E5ECF6\", \"showlakes\": true, \"showland\": true, \"subunitcolor\": \"white\"}, \"hoverlabel\": {\"align\": \"left\"}, \"hovermode\": \"closest\", \"mapbox\": {\"style\": \"light\"}, \"paper_bgcolor\": \"white\", \"plot_bgcolor\": \"#E5ECF6\", \"polar\": {\"angularaxis\": {\"gridcolor\": \"white\", \"linecolor\": \"white\", \"ticks\": \"\"}, \"bgcolor\": \"#E5ECF6\", \"radialaxis\": {\"gridcolor\": \"white\", \"linecolor\": \"white\", \"ticks\": \"\"}}, \"scene\": {\"xaxis\": {\"backgroundcolor\": \"#E5ECF6\", \"gridcolor\": \"white\", \"gridwidth\": 2, \"linecolor\": \"white\", \"showbackground\": true, \"ticks\": \"\", \"zerolinecolor\": \"white\"}, \"yaxis\": {\"backgroundcolor\": \"#E5ECF6\", \"gridcolor\": \"white\", \"gridwidth\": 2, \"linecolor\": \"white\", \"showbackground\": true, \"ticks\": \"\", \"zerolinecolor\": \"white\"}, \"zaxis\": {\"backgroundcolor\": \"#E5ECF6\", \"gridcolor\": \"white\", \"gridwidth\": 2, \"linecolor\": \"white\", \"showbackground\": true, \"ticks\": \"\", \"zerolinecolor\": \"white\"}}, \"shapedefaults\": {\"line\": {\"color\": \"#2a3f5f\"}}, \"ternary\": {\"aaxis\": {\"gridcolor\": \"white\", \"linecolor\": \"white\", \"ticks\": \"\"}, \"baxis\": {\"gridcolor\": \"white\", \"linecolor\": \"white\", \"ticks\": \"\"}, \"bgcolor\": \"#E5ECF6\", \"caxis\": {\"gridcolor\": \"white\", \"linecolor\": \"white\", \"ticks\": \"\"}}, \"title\": {\"x\": 0.05}, \"xaxis\": {\"automargin\": true, \"gridcolor\": \"white\", \"linecolor\": \"white\", \"ticks\": \"\", \"title\": {\"standoff\": 15}, \"zerolinecolor\": \"white\", \"zerolinewidth\": 2}, \"yaxis\": {\"automargin\": true, \"gridcolor\": \"white\", \"linecolor\": \"white\", \"ticks\": \"\", \"title\": {\"standoff\": 15}, \"zerolinecolor\": \"white\", \"zerolinewidth\": 2}}}, \"title\": {\"text\": \"Incidents per Zip\"}},\n",
       "                        {\"responsive\": true}\n",
       "                    ).then(function(){\n",
       "                            \n",
       "var gd = document.getElementById('35dbde96-dc5a-4b74-9791-1364d38f6347');\n",
       "var x = new MutationObserver(function (mutations, observer) {{\n",
       "        var display = window.getComputedStyle(gd).display;\n",
       "        if (!display || display === 'none') {{\n",
       "            console.log([gd, 'removed!']);\n",
       "            Plotly.purge(gd);\n",
       "            observer.disconnect();\n",
       "        }}\n",
       "}});\n",
       "\n",
       "// Listen for the removal of the full notebook cells\n",
       "var notebookContainer = gd.closest('#notebook-container');\n",
       "if (notebookContainer) {{\n",
       "    x.observe(notebookContainer, {childList: true});\n",
       "}}\n",
       "\n",
       "// Listen for the clearing of the current output cell\n",
       "var outputEl = gd.closest('.output');\n",
       "if (outputEl) {{\n",
       "    x.observe(outputEl, {childList: true});\n",
       "}}\n",
       "\n",
       "                        })\n",
       "                };\n",
       "                });\n",
       "            </script>\n",
       "        </div>"
      ]
     },
     "metadata": {},
     "output_type": "display_data"
    }
   ],
   "source": [
    "import plotly\n",
    "import plotly.express as px\n",
    "from plotly.offline import init_notebook_mode, iplot\n",
    "from plotly.graph_objs import *\n",
    "\n",
    "init_notebook_mode(connected=True)\n",
    "token = 'pk.eyJ1IjoiYmNvaGVuOSIsImEiOiJjazMyYWF5OHYwYTZ3M25ubzFmMTRiNnNtIn0.8Kusg2VIJV3-cV2L2V7uHA'\n",
    "px.set_mapbox_access_token(token) # You need a mapbox token to see the graph\n",
    "\n",
    "fig = px.scatter_mapbox(zipCounts, lat=\"long\", lon=\"lat\", hover_name=\"city\", hover_data=['zip','count'], # Yes, I flipped lat and long by accident\n",
    "                        size = \"count\")\n",
    "fig.update_layout(mapbox_style=\"light\")\n",
    "fig.update_layout(margin={\"r\":0,\"t\":100,\"l\":0,\"b\":0}, title = \"Incidents per Zip\")\n",
    "plotly.offline.iplot(fig)"
   ]
  },
  {
   "cell_type": "markdown",
   "metadata": {},
   "source": [
    "This graph shows the number of incidents in an area. The larger the circle, the more incidents To use this graph, simply click and drag to move around and use the mouse wheel to zoom in and out.\n"
   ]
  },
  {
   "cell_type": "markdown",
   "metadata": {},
   "source": [
    "Hovering over any of the circles shows which zip code it is agregating over, the name of the city, and the number of incidents there. This graph is good because of how much data it is showing. We see that there are definetly areas where there are a lot of housing incidents."
   ]
  },
  {
   "cell_type": "markdown",
   "metadata": {},
   "source": [
    "This is really important when it comes to renting an apartment. This graph indicates areas where buildings tend to have lots of problems. A small disclaimer with this graph is that it is possible that some areas have more incidents just because there are more people. This is why we can't make any reccomendations from this graph. "
   ]
  },
  {
   "cell_type": "markdown",
   "metadata": {},
   "source": [
    "Now let's try to see if there is anything problematic about how long each boroough takes to respond to incidents. If there is a borough that takes too long,that would indicate problems with how incidents are being dealt with.  "
   ]
  },
  {
   "cell_type": "code",
   "execution_count": 22,
   "metadata": {},
   "outputs": [],
   "source": [
    "inspection_date = df['inspectiondate']\n",
    "current_status_date = df['currentstatusdate']"
   ]
  },
  {
   "cell_type": "code",
   "execution_count": 23,
   "metadata": {},
   "outputs": [],
   "source": [
    "df['days_between'] = pd.to_timedelta(current_status_date - inspection_date, unit='d').dt.days\n",
    "closed_issues = df[df['currentstatus'] == 'VIOLATION CLOSED']"
   ]
  },
  {
   "cell_type": "code",
   "execution_count": 24,
   "metadata": {},
   "outputs": [
    {
     "data": {
      "text/html": [
       "<div>\n",
       "<style scoped>\n",
       "    .dataframe tbody tr th:only-of-type {\n",
       "        vertical-align: middle;\n",
       "    }\n",
       "\n",
       "    .dataframe tbody tr th {\n",
       "        vertical-align: top;\n",
       "    }\n",
       "\n",
       "    .dataframe thead th {\n",
       "        text-align: right;\n",
       "    }\n",
       "</style>\n",
       "<table border=\"1\" class=\"dataframe\">\n",
       "  <thead>\n",
       "    <tr style=\"text-align: right;\">\n",
       "      <th></th>\n",
       "      <th>days_between</th>\n",
       "      <th>boro</th>\n",
       "    </tr>\n",
       "  </thead>\n",
       "  <tbody>\n",
       "    <tr>\n",
       "      <th>0</th>\n",
       "      <td>8066</td>\n",
       "      <td>QUEENS</td>\n",
       "    </tr>\n",
       "    <tr>\n",
       "      <th>1</th>\n",
       "      <td>7568</td>\n",
       "      <td>QUEENS</td>\n",
       "    </tr>\n",
       "    <tr>\n",
       "      <th>2</th>\n",
       "      <td>7568</td>\n",
       "      <td>QUEENS</td>\n",
       "    </tr>\n",
       "    <tr>\n",
       "      <th>3</th>\n",
       "      <td>7566</td>\n",
       "      <td>QUEENS</td>\n",
       "    </tr>\n",
       "    <tr>\n",
       "      <th>4</th>\n",
       "      <td>11005</td>\n",
       "      <td>BROOKLYN</td>\n",
       "    </tr>\n",
       "  </tbody>\n",
       "</table>\n",
       "</div>"
      ],
      "text/plain": [
       "   days_between      boro\n",
       "0          8066    QUEENS\n",
       "1          7568    QUEENS\n",
       "2          7568    QUEENS\n",
       "3          7566    QUEENS\n",
       "4         11005  BROOKLYN"
      ]
     },
     "execution_count": 24,
     "metadata": {},
     "output_type": "execute_result"
    }
   ],
   "source": [
    "daysOpenDf = closed_issues[['days_between', 'boro']]\n",
    "daysOpenDf.head()"
   ]
  },
  {
   "cell_type": "code",
   "execution_count": 25,
   "metadata": {},
   "outputs": [],
   "source": [
    "daysOpenSeries = daysOpenDf.groupby('boro').median() #median to ignore outliers "
   ]
  },
  {
   "cell_type": "code",
   "execution_count": 26,
   "metadata": {
    "scrolled": true
   },
   "outputs": [
    {
     "data": {
      "text/plain": [
       "<matplotlib.axes._subplots.AxesSubplot at 0x1892cc4e400>"
      ]
     },
     "execution_count": 26,
     "metadata": {},
     "output_type": "execute_result"
    },
    {
     "data": {
      "image/png": "[encoded data removed]",
      "text/plain": [
       "<Figure size 432x288 with 1 Axes>"
      ]
     },
     "metadata": {
      "needs_background": "light"
     },
     "output_type": "display_data"
    }
   ],
   "source": [
    "daysOpenSeries.plot.bar()"
   ]
  },
  {
   "cell_type": "markdown",
   "metadata": {},
   "source": [
    "Staten Island seems to take the longest to repond to incidents. They also have the fewest number of incidents so this difference might not be significant. It's a pretty noteworthy observation that these numbers don't differ so much.\n",
    "Although we found that certain boros have more incidents, the way they are dealt with is consistant and reasonable. This is good news! All that should be addressed is why Queens and Brooklyn have so many more incidents.  "
   ]
  },
  {
   "cell_type": "markdown",
   "metadata": {},
   "source": [
    "### Summary"
   ]
  },
  {
   "cell_type": "markdown",
   "metadata": {},
   "source": [
    "Apartment Seekers: So are there any areas where a future resident should avoid? Probably not. The spread of incidents is about equal in all areas. \n",
    "Are there any things future residents should look for? We know that the most common incidents are problems with carbon monoxide detectors, paining, and plumbing. "
   ]
  },
  {
   "cell_type": "markdown",
   "metadata": {},
   "source": [
    "Owners: Be most prepared for inspections during the fall months, paying attention to the common incidents above."
   ]
  },
  {
   "cell_type": "markdown",
   "metadata": {},
   "source": [
    "City: Consider improving data collection by recording the incidents and not having duplicates in the dataset. One building should not have 1000 incidents. Consider using this data to build monitors to send alerts when the number of incidents in a category exeeds a threshold."
   ]
  },
  {
   "cell_type": "code",
   "execution_count": null,
   "metadata": {},
   "outputs": [],
   "source": []
  }
 ],
 "metadata": {
  "kernelspec": {
   "display_name": "Python 3",
   "language": "python",
   "name": "python3"
  },
  "language_info": {
   "codemirror_mode": {
    "name": "ipython",
    "version": 3
   },
   "file_extension": ".py",
   "mimetype": "text/x-python",
   "name": "python",
   "nbconvert_exporter": "python",
   "pygments_lexer": "ipython3",
   "version": "3.7.1"
  }
 },
 "nbformat": 4,
 "nbformat_minor": 2
}

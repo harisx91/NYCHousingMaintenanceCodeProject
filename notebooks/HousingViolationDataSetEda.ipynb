{
 "cells": [
  {
   "cell_type": "markdown",
   "metadata": {},
   "source": [
    "### Housing Violations Dataset Exploration\n"
   ]
  },
  {
   "cell_type": "markdown",
   "metadata": {},
   "source": [
    "Now that we have all of our data, we want to start finding trends and visualizing the data. We come into this asking some very elementary questions. At this point we just want to catergorize our data. We are going to want to see which boros have the most incidents and how long they take to respond to see if there are any problems in some boros but to do so we need to see the shape of our data"
   ]
  },
  {
   "cell_type": "code",
   "execution_count": 1,
   "metadata": {},
   "outputs": [],
   "source": [
    "import pandas as pd\n",
    "import matplotlib.pyplot as plt\n",
    "import numpy as np\n",
    "%matplotlib inline\n"
   ]
  },
  {
   "cell_type": "code",
   "execution_count": 3,
   "metadata": {},
   "outputs": [],
   "source": [
    "df = pd.read_csv('../data/clean.csv', parse_dates = ['inspectiondate',\n",
    "                                                     'currentstatusdate']).drop('newcorrectbydate',axis=1)"
   ]
  },
  {
   "cell_type": "code",
   "execution_count": 4,
   "metadata": {},
   "outputs": [
    {
     "data": {
      "text/plain": [
       "violationid              49377\n",
       "buildingid               49377\n",
       "boro                     49377\n",
       "zip                      49375\n",
       "inspectiondate           49377\n",
       "originalcorrectbydate    48724\n",
       "novdescription           49377\n",
       "class                    49377\n",
       "currentstatus            49377\n",
       "currentstatusdate        49377\n",
       "currentstatusdate        49377\n",
       "dtype: int64"
      ]
     },
     "execution_count": 4,
     "metadata": {},
     "output_type": "execute_result"
    }
   ],
   "source": [
    "df.count()"
   ]
  },
  {
   "cell_type": "markdown",
   "metadata": {},
   "source": [
    "So we see we have a lot of rows to work with. Now on a most basic level we want to see what the status of these violations are"
   ]
  },
  {
   "cell_type": "code",
   "execution_count": 5,
   "metadata": {},
   "outputs": [
    {
     "data": {
      "text/plain": [
       "VIOLATION CLOSED                            41426\n",
       "VIOLATION DISMISSED                          4113\n",
       "FIRST NO ACCESS TO RE- INSPECT VIOLATION     1428\n",
       "NOT COMPLIED WITH                            1274\n",
       "NOV SENT OUT                                  559\n",
       "DEFECT LETTER ISSUED                          175\n",
       "NOV CERTIFIED LATE                            171\n",
       "SECOND NO ACCESS TO RE-INSPECT VIOLATION      139\n",
       "VIOLATION WILL BE REINSPECTED                  23\n",
       "INVALID CERTIFICATION                          22\n",
       "INFO NOV SENT OUT                              21\n",
       "FALSE CERTIFICATION                            19\n",
       "NOTICE OF ISSUANCE SENT TO TENANT               3\n",
       "CIV14 MAILED                                    3\n",
       "VIOLATION REOPEN                                1\n",
       "Name: currentstatus, dtype: int64"
      ]
     },
     "execution_count": 5,
     "metadata": {},
     "output_type": "execute_result"
    }
   ],
   "source": [
    "statusCounts = df.currentstatus.value_counts()\n",
    "statusCounts"
   ]
  },
  {
   "cell_type": "markdown",
   "metadata": {},
   "source": [
    "Interestingly enough, most of the cases are closed. Now what can cause a violation to be closed? According to the dataset description... `The violation status is closed when the violation is observed/verified as corrected by HPD or as certified by the landlord.`"
   ]
  },
  {
   "cell_type": "markdown",
   "metadata": {},
   "source": [
    "This leads to a noteworthy first observation: *Most violations are in fact corrected for*"
   ]
  },
  {
   "cell_type": "markdown",
   "metadata": {},
   "source": [
    "Now of the ones that aren't... some have been dissmissed, meaning taken away with. Some were not complied with, and others are still in the early stages of processing. Let's normalize these numbers by turning them into percents so that they are easier to look at. "
   ]
  },
  {
   "cell_type": "code",
   "execution_count": 6,
   "metadata": {},
   "outputs": [
    {
     "data": {
      "text/plain": [
       "VIOLATION CLOSED                            83.897361\n",
       "VIOLATION DISMISSED                          8.329789\n",
       "FIRST NO ACCESS TO RE- INSPECT VIOLATION     2.892035\n",
       "NOT COMPLIED WITH                            2.580149\n",
       "NOV SENT OUT                                 1.132106\n",
       "DEFECT LETTER ISSUED                         0.354416\n",
       "NOV CERTIFIED LATE                           0.346315\n",
       "SECOND NO ACCESS TO RE-INSPECT VIOLATION     0.281508\n",
       "VIOLATION WILL BE REINSPECTED                0.046580\n",
       "INVALID CERTIFICATION                        0.044555\n",
       "INFO NOV SENT OUT                            0.042530\n",
       "FALSE CERTIFICATION                          0.038479\n",
       "NOTICE OF ISSUANCE SENT TO TENANT            0.006076\n",
       "CIV14 MAILED                                 0.006076\n",
       "VIOLATION REOPEN                             0.002025\n",
       "Name: currentstatus, dtype: float64"
      ]
     },
     "execution_count": 6,
     "metadata": {},
     "output_type": "execute_result"
    }
   ],
   "source": [
    "total = df.currentstatus.value_counts().sum()\n",
    "statusCounts/total * 100"
   ]
  },
  {
   "cell_type": "markdown",
   "metadata": {},
   "source": [
    "Viewing the numbers like this makes it really clear that most cases were closed, a whopping 80 percent."
   ]
  },
  {
   "cell_type": "markdown",
   "metadata": {},
   "source": [
    "Now this begs the obvious question: Why?\n",
    "Here are a couple of possibilities...\n",
    "1. Records tend to only be entered into the system when they are closed. \n",
    "2. We are looking at data from a very narrow time span."
   ]
  },
  {
   "cell_type": "markdown",
   "metadata": {},
   "source": [
    "Now 1 would be a data entry problem. 2 though we could really easily verify. Let's graph number of incidents per month...\n",
    "This is going to be scary though since we need to sort the data to construct a line plot. "
   ]
  },
  {
   "cell_type": "code",
   "execution_count": 7,
   "metadata": {},
   "outputs": [],
   "source": [
    "df['monthCurrentStatus'] = df.currentstatusdate.dt.to_period('M') #First we extract the months/year\n",
    "sorted_df = df.sort_values('monthCurrentStatus') # beware.... this is slow....That's why I got rid of days. "
   ]
  },
  {
   "cell_type": "code",
   "execution_count": 8,
   "metadata": {},
   "outputs": [
    {
     "data": {
      "text/plain": [
       "monthCurrentStatus\n",
       "2008-06    286\n",
       "2008-07     11\n",
       "2008-08     11\n",
       "2008-09     44\n",
       "2008-10     22\n",
       "Freq: M, dtype: int64"
      ]
     },
     "execution_count": 8,
     "metadata": {},
     "output_type": "execute_result"
    }
   ],
   "source": [
    "counts = sorted_df.groupby('monthCurrentStatus').count().sum(axis=1) #Yes we could use value_counts but then we have to resort\n",
    "counts.head()"
   ]
  },
  {
   "cell_type": "code",
   "execution_count": 9,
   "metadata": {},
   "outputs": [
    {
     "data": {
      "text/plain": [
       "Text(0.5, 1.0, 'Number of Incidents Statuses over Time')"
      ]
     },
     "execution_count": 9,
     "metadata": {},
     "output_type": "execute_result"
    },
    {
     "data": {
      "image/png": "[encoded data removed]",
      "text/plain": [
       "<Figure size 432x288 with 1 Axes>"
      ]
     },
     "metadata": {
      "needs_background": "light"
     },
     "output_type": "display_data"
    }
   ],
   "source": [
    "counts.plot()\n",
    "plt.title(\"Number of Incidents Statuses over Time\")"
   ]
  },
  {
   "cell_type": "markdown",
   "metadata": {},
   "source": [
    "Now we immediatly see that a lot our incidents were torwards the end of 2014 and less were reported since then. \n",
    "This doesn't iteself answer our original question of why are almost all the statuses closed but it seems like most of the data was entered during this period when the data was marked as completed."
   ]
  },
  {
   "cell_type": "markdown",
   "metadata": {},
   "source": [
    "Now this is really odd... This is why. Remember how at the botumn of the previous <a href = https://github.com/harisx91/NYCHousingMaintenanceCodeProject/blob/master/notebooks/HousingCleaning.ipynb> notebook </a> I said that the Socrata API was not giving us a random sample? We can prove it here..."
   ]
  },
  {
   "cell_type": "markdown",
   "metadata": {},
   "source": [
    "We have a count of how many incidents occured in 2016, 2017, and 2018 from the previous notebook Let's eyeglance (not using statistics) if the numbers match these. "
   ]
  },
  {
   "cell_type": "code",
   "execution_count": 20,
   "metadata": {},
   "outputs": [],
   "source": [
    "df_2016 = pd.read_csv('../data/inspection_2016.csv', parse_dates = ['inspectiondate'])\n",
    "df_2017 = pd.read_csv('../data/inspection_2017.csv', parse_dates = ['inspectiondate'])\n",
    "df_2018 = pd.read_csv('../data/inspection_2018.csv', parse_dates = ['inspectiondate'])\n",
    "df_2014 = pd.read_csv('../data/inspection_2014.csv', parse_dates = ['inspectiondate'])"
   ]
  },
  {
   "cell_type": "code",
   "execution_count": 21,
   "metadata": {},
   "outputs": [
    {
     "name": "stdout",
     "output_type": "stream",
     "text": [
      "There are 513534 records in 2016 \n",
      "There are 556883 records in 2017 \n",
      "There are 642849 records in 2018 \n",
      "There are 299592 records in 2014 \n"
     ]
    }
   ],
   "source": [
    "print('There are {:d} records in 2016 '.format(len(df_2016)))\n",
    "print('There are {:d} records in 2017 '.format(len(df_2017)))\n",
    "print('There are {:d} records in 2018 '.format(len(df_2018)))\n",
    "print('There are {:d} records in 2014 '.format(len(df_2014)))"
   ]
  },
  {
   "cell_type": "markdown",
   "metadata": {},
   "source": [
    "And by inspection on the graph... we can clearly see that this ratio does not hold. 2018 should have the most. Instead we have the increase in 2014. This is why in order to answer the question about what season incidents occur in we can't actually use this data. Lucky us, someone thought ahead and created all the data we need to evaluate this."
   ]
  },
  {
   "cell_type": "markdown",
   "metadata": {},
   "source": [
    "#### What season do most incidents occur in"
   ]
  },
  {
   "cell_type": "markdown",
   "metadata": {},
   "source": [
    "Let's create simple plots to try to visualize this"
   ]
  },
  {
   "cell_type": "code",
   "execution_count": 26,
   "metadata": {},
   "outputs": [
    {
     "data": {
      "text/plain": [
       "<matplotlib.axes._subplots.AxesSubplot at 0x2498e54eeb8>"
      ]
     },
     "execution_count": 26,
     "metadata": {},
     "output_type": "execute_result"
    },
    {
     "data": {
      "image/png": "[encoded data removed]",
      "text/plain": [
       "<Figure size 432x288 with 1 Axes>"
      ]
     },
     "metadata": {
      "needs_background": "light"
     },
     "output_type": "display_data"
    }
   ],
   "source": [
    "series = df_2018.inspectiondate.dt.to_period('M')\n",
    "sortedcounts = series.value_counts().sort_index()\n",
    "sortedcounts.plot()"
   ]
  },
  {
   "cell_type": "code",
   "execution_count": 23,
   "metadata": {},
   "outputs": [
    {
     "data": {
      "text/plain": [
       "<matplotlib.axes._subplots.AxesSubplot at 0x2498ff306d8>"
      ]
     },
     "execution_count": 23,
     "metadata": {},
     "output_type": "execute_result"
    },
    {
     "data": {
      "image/png": "[encoded data removed]",
      "text/plain": [
       "<Figure size 432x288 with 1 Axes>"
      ]
     },
     "metadata": {
      "needs_background": "light"
     },
     "output_type": "display_data"
    }
   ],
   "source": [
    "series = df_2017.inspectiondate.dt.to_period('M')\n",
    "sortedcounts = series.value_counts().sort_index()\n",
    "sortedcounts.plot()"
   ]
  },
  {
   "cell_type": "code",
   "execution_count": 24,
   "metadata": {},
   "outputs": [
    {
     "data": {
      "text/plain": [
       "<matplotlib.axes._subplots.AxesSubplot at 0x24995855358>"
      ]
     },
     "execution_count": 24,
     "metadata": {},
     "output_type": "execute_result"
    },
    {
     "data": {
      "image/png": "[encoded data removed]",
      "text/plain": [
       "<Figure size 432x288 with 1 Axes>"
      ]
     },
     "metadata": {
      "needs_background": "light"
     },
     "output_type": "display_data"
    }
   ],
   "source": [
    "series = df_2016.inspectiondate.dt.to_period('M')\n",
    "sortedcounts = series.value_counts().sort_index()\n",
    "sortedcounts.plot()"
   ]
  },
  {
   "cell_type": "markdown",
   "metadata": {},
   "source": [
    "It appears that most incidents are raised during the Fall, in either October and Novemeber"
   ]
  },
  {
   "cell_type": "markdown",
   "metadata": {},
   "source": [
    "Let's take 2016 as an example. ALthough it appears that November has an overwhelming majority of incidents, let's do a statistical test to see if it is possible that this is just do to chance. "
   ]
  },
  {
   "cell_type": "code",
   "execution_count": null,
   "metadata": {},
   "outputs": [],
   "source": []
  },
  {
   "cell_type": "code",
   "execution_count": null,
   "metadata": {},
   "outputs": [],
   "source": []
  },
  {
   "cell_type": "markdown",
   "metadata": {},
   "source": [
    "So now we contextualized our data a bit more... We know when the data was from and we know the what: that most of the rows show that the incidents were resolved. Let's now focus more on the what of how severe the incidents were and on the where. Where do most incidents take place? Also which areas are there the most severe incidents?"
   ]
  },
  {
   "cell_type": "code",
   "execution_count": 15,
   "metadata": {},
   "outputs": [
    {
     "data": {
      "text/plain": [
       "Text(0.5, 1.0, 'Incidents per boro')"
      ]
     },
     "execution_count": 15,
     "metadata": {},
     "output_type": "execute_result"
    },
    {
     "data": {
      "image/png": "[encoded data removed]",
      "text/plain": [
       "<Figure size 432x288 with 1 Axes>"
      ]
     },
     "metadata": {
      "needs_background": "light"
     },
     "output_type": "display_data"
    }
   ],
   "source": [
    "plt.bar(df['boro'].unique(), df['boro'].value_counts())\n",
    "plt.title(\"Incidents per boro\")"
   ]
  },
  {
   "cell_type": "markdown",
   "metadata": {},
   "source": [
    "Queens has the most number of incidents with Manhattan, the Bronx, and Staten Island significantly less.\n",
    "It's not just that there are more incidents though. The ratio of incidents between Queens and Brooklyn and the other boros is significantly more. We should investigate why this is? Is there something problematic about these buildings like are they older?"
   ]
  },
  {
   "cell_type": "markdown",
   "metadata": {},
   "source": [
    "It's also important though to see how severe these incidents are..."
   ]
  },
  {
   "cell_type": "code",
   "execution_count": 16,
   "metadata": {},
   "outputs": [
    {
     "data": {
      "text/plain": [
       "B    30404\n",
       "C     9325\n",
       "A     9086\n",
       "I      556\n",
       "Name: class, dtype: int64"
      ]
     },
     "execution_count": 16,
     "metadata": {},
     "output_type": "execute_result"
    }
   ],
   "source": [
    "df['class'].value_counts()"
   ]
  },
  {
   "cell_type": "code",
   "execution_count": 17,
   "metadata": {},
   "outputs": [
    {
     "data": {
      "text/plain": [
       "<matplotlib.axes._subplots.AxesSubplot at 0x1892cb03940>"
      ]
     },
     "execution_count": 17,
     "metadata": {},
     "output_type": "execute_result"
    },
    {
     "data": {
      "image/png": "[encoded data removed]",
      "text/plain": [
       "<Figure size 432x288 with 1 Axes>"
      ]
     },
     "metadata": {
      "needs_background": "light"
     },
     "output_type": "display_data"
    }
   ],
   "source": [
    "class_counts = df['class'].value_counts()\n",
    "class_counts.plot.bar()"
   ]
  },
  {
   "cell_type": "markdown",
   "metadata": {},
   "source": [
    "As we can see class B(which is medium severe) has the highest number. C is high severity and is about equal with A (low severity). I incidents aren't really violations but simply notifications. Now let's see if there are overly many severe incidents in any boros"
   ]
  },
  {
   "cell_type": "code",
   "execution_count": 19,
   "metadata": {},
   "outputs": [
    {
     "data": {
      "text/plain": [
       "boro           class\n",
       "BRONX          A         3188\n",
       "               B        10520\n",
       "               C         2826\n",
       "               I          106\n",
       "BROOKLYN       A         3477\n",
       "               B        11606\n",
       "               C         3739\n",
       "               I          238\n",
       "MANHATTAN      A         1716\n",
       "               B         5710\n",
       "               C         1820\n",
       "               I           90\n",
       "QUEENS         A          601\n",
       "               B         2069\n",
       "               C          802\n",
       "               I          116\n",
       "STATEN ISLAND  A          104\n",
       "               B          499\n",
       "               C          138\n",
       "               I            6\n",
       "dtype: int64"
      ]
     },
     "execution_count": 19,
     "metadata": {},
     "output_type": "execute_result"
    }
   ],
   "source": [
    "df.groupby(['boro','class']).size()"
   ]
  },
  {
   "cell_type": "markdown",
   "metadata": {},
   "source": [
    "Since Brooklyn has the highest number of incident, it makes sense that largest class incident happens there. "
   ]
  },
  {
   "cell_type": "markdown",
   "metadata": {},
   "source": [
    "It is easier to read if sorted"
   ]
  },
  {
   "cell_type": "code",
   "execution_count": 20,
   "metadata": {},
   "outputs": [
    {
     "data": {
      "text/plain": [
       "boro           class\n",
       "BROOKLYN       B        11606\n",
       "BRONX          B        10520\n",
       "MANHATTAN      B         5710\n",
       "BROOKLYN       C         3739\n",
       "               A         3477\n",
       "BRONX          A         3188\n",
       "               C         2826\n",
       "QUEENS         B         2069\n",
       "MANHATTAN      C         1820\n",
       "               A         1716\n",
       "QUEENS         C          802\n",
       "               A          601\n",
       "STATEN ISLAND  B          499\n",
       "BROOKLYN       I          238\n",
       "STATEN ISLAND  C          138\n",
       "QUEENS         I          116\n",
       "BRONX          I          106\n",
       "STATEN ISLAND  A          104\n",
       "MANHATTAN      I           90\n",
       "STATEN ISLAND  I            6\n",
       "dtype: int64"
      ]
     },
     "execution_count": 20,
     "metadata": {},
     "output_type": "execute_result"
    }
   ],
   "source": [
    "df.groupby(['boro','class']).size().sort_values(ascending=False)"
   ]
  },
  {
   "cell_type": "code",
   "execution_count": 21,
   "metadata": {},
   "outputs": [
    {
     "data": {
      "text/plain": [
       "<matplotlib.axes._subplots.AxesSubplot at 0x1892cb7e4e0>"
      ]
     },
     "execution_count": 21,
     "metadata": {},
     "output_type": "execute_result"
    },
    {
     "data": {
      "image/png": "[encoded data removed]",
      "text/plain": [
       "<Figure size 432x288 with 1 Axes>"
      ]
     },
     "metadata": {
      "needs_background": "light"
     },
     "output_type": "display_data"
    }
   ],
   "source": [
    "df.groupby(['boro','class']).size().plot.bar()"
   ]
  },
  {
   "cell_type": "markdown",
   "metadata": {},
   "source": [
    "We don't see any boro which violates this ratio of having more class B incidents. Because of this we don't feel a need to propose any immediate action "
   ]
  },
  {
   "cell_type": "markdown",
   "metadata": {},
   "source": [
    "Now let's try to see if there is anything problematic about how long each boro takes to respond to incidents"
   ]
  },
  {
   "cell_type": "code",
   "execution_count": 22,
   "metadata": {},
   "outputs": [],
   "source": [
    "inspection_date = df['inspectiondate']\n",
    "current_status_date = df['currentstatusdate']"
   ]
  },
  {
   "cell_type": "code",
   "execution_count": 23,
   "metadata": {},
   "outputs": [],
   "source": [
    "df['days_between'] = pd.to_timedelta(current_status_date - inspection_date, unit='d').dt.days\n",
    "closed_issues = df[df['currentstatus'] == 'VIOLATION CLOSED']"
   ]
  },
  {
   "cell_type": "code",
   "execution_count": 24,
   "metadata": {},
   "outputs": [
    {
     "data": {
      "text/html": [
       "<div>\n",
       "<style scoped>\n",
       "    .dataframe tbody tr th:only-of-type {\n",
       "        vertical-align: middle;\n",
       "    }\n",
       "\n",
       "    .dataframe tbody tr th {\n",
       "        vertical-align: top;\n",
       "    }\n",
       "\n",
       "    .dataframe thead th {\n",
       "        text-align: right;\n",
       "    }\n",
       "</style>\n",
       "<table border=\"1\" class=\"dataframe\">\n",
       "  <thead>\n",
       "    <tr style=\"text-align: right;\">\n",
       "      <th></th>\n",
       "      <th>days_between</th>\n",
       "      <th>boro</th>\n",
       "    </tr>\n",
       "  </thead>\n",
       "  <tbody>\n",
       "    <tr>\n",
       "      <th>0</th>\n",
       "      <td>8066</td>\n",
       "      <td>QUEENS</td>\n",
       "    </tr>\n",
       "    <tr>\n",
       "      <th>1</th>\n",
       "      <td>7568</td>\n",
       "      <td>QUEENS</td>\n",
       "    </tr>\n",
       "    <tr>\n",
       "      <th>2</th>\n",
       "      <td>7568</td>\n",
       "      <td>QUEENS</td>\n",
       "    </tr>\n",
       "    <tr>\n",
       "      <th>3</th>\n",
       "      <td>7566</td>\n",
       "      <td>QUEENS</td>\n",
       "    </tr>\n",
       "    <tr>\n",
       "      <th>4</th>\n",
       "      <td>11005</td>\n",
       "      <td>BROOKLYN</td>\n",
       "    </tr>\n",
       "  </tbody>\n",
       "</table>\n",
       "</div>"
      ],
      "text/plain": [
       "   days_between      boro\n",
       "0          8066    QUEENS\n",
       "1          7568    QUEENS\n",
       "2          7568    QUEENS\n",
       "3          7566    QUEENS\n",
       "4         11005  BROOKLYN"
      ]
     },
     "execution_count": 24,
     "metadata": {},
     "output_type": "execute_result"
    }
   ],
   "source": [
    "daysOpenDf = closed_issues[['days_between', 'boro']]\n",
    "daysOpenDf.head()"
   ]
  },
  {
   "cell_type": "code",
   "execution_count": 25,
   "metadata": {},
   "outputs": [],
   "source": [
    "daysOpenSeries = daysOpenDf.groupby('boro').median() #median to ignore outliers "
   ]
  },
  {
   "cell_type": "code",
   "execution_count": 26,
   "metadata": {},
   "outputs": [
    {
     "data": {
      "text/plain": [
       "<matplotlib.axes._subplots.AxesSubplot at 0x1892cc4e400>"
      ]
     },
     "execution_count": 26,
     "metadata": {},
     "output_type": "execute_result"
    },
    {
     "data": {
      "image/png": "[encoded data removed]",
      "text/plain": [
       "<Figure size 432x288 with 1 Axes>"
      ]
     },
     "metadata": {
      "needs_background": "light"
     },
     "output_type": "display_data"
    }
   ],
   "source": [
    "daysOpenSeries.plot.bar()"
   ]
  },
  {
   "cell_type": "markdown",
   "metadata": {},
   "source": [
    "Staten Island seems to take the longest to repond to incidents. They also have the fewest number of incidents so this difference might not be significant. It's a pretty noteworthy observation that these numbers don't differ so much.\n",
    "Although we found that certain boros have more incidents, the way they are dealt with is consistant and reasonable. All that should be addressed is why Queens and Brooklyn have so many more incidents.  "
   ]
  },
  {
   "cell_type": "code",
   "execution_count": null,
   "metadata": {},
   "outputs": [],
   "source": []
  }
 ],
 "metadata": {
  "kernelspec": {
   "display_name": "Python 3",
   "language": "python",
   "name": "python3"
  },
  "language_info": {
   "codemirror_mode": {
    "name": "ipython",
    "version": 3
   },
   "file_extension": ".py",
   "mimetype": "text/x-python",
   "name": "python",
   "nbconvert_exporter": "python",
   "pygments_lexer": "ipython3",
   "version": "3.7.1"
  }
 },
 "nbformat": 4,
 "nbformat_minor": 2
}

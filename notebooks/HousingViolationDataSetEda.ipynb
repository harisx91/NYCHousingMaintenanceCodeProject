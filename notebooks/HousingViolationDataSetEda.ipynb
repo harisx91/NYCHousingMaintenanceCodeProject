{
 "cells": [
  {
   "cell_type": "markdown",
   "metadata": {},
   "source": [
    "### Housing Violations Dataset Exploration\n"
   ]
  },
  {
   "cell_type": "markdown",
   "metadata": {},
   "source": [
    "Now that we have all of our data, we want to start finding trends and visualizing the data. We come into this asking some very elementary questions. At this point we just want to catergorize our data. We are going to want to see which boros have the most incidents and how long they take to respond to see if there are any problems in some boros but to do so we need to see the shape of our data"
   ]
  },
  {
   "cell_type": "code",
   "execution_count": 1,
   "metadata": {},
   "outputs": [],
   "source": [
    "import pandas as pd\n",
    "import matplotlib.pyplot as plt\n",
    "import numpy as np\n",
    "%matplotlib inline\n"
   ]
  },
  {
   "cell_type": "code",
   "execution_count": 3,
   "metadata": {},
   "outputs": [],
   "source": [
    "df = pd.read_csv('../data/clean.csv', parse_dates = ['inspectiondate',\n",
    "                                                     'currentstatusdate']).drop('newcorrectbydate',axis=1)"
   ]
  },
  {
   "cell_type": "code",
   "execution_count": 4,
   "metadata": {},
   "outputs": [
    {
     "data": {
      "text/plain": [
       "violationid              49377\n",
       "buildingid               49377\n",
       "boro                     49377\n",
       "zip                      49375\n",
       "inspectiondate           49377\n",
       "originalcorrectbydate    48724\n",
       "novdescription           49377\n",
       "class                    49377\n",
       "currentstatus            49377\n",
       "currentstatusdate        49377\n",
       "currentstatusdate        49377\n",
       "dtype: int64"
      ]
     },
     "execution_count": 4,
     "metadata": {},
     "output_type": "execute_result"
    }
   ],
   "source": [
    "df.count()"
   ]
  },
  {
   "cell_type": "markdown",
   "metadata": {},
   "source": [
    "So we see we have a lot of rows to work with. Now on a most basic level we want to see what the status of these violations are"
   ]
  },
  {
   "cell_type": "code",
   "execution_count": 5,
   "metadata": {},
   "outputs": [
    {
     "data": {
      "text/plain": [
       "VIOLATION CLOSED                            41426\n",
       "VIOLATION DISMISSED                          4113\n",
       "FIRST NO ACCESS TO RE- INSPECT VIOLATION     1428\n",
       "NOT COMPLIED WITH                            1274\n",
       "NOV SENT OUT                                  559\n",
       "DEFECT LETTER ISSUED                          175\n",
       "NOV CERTIFIED LATE                            171\n",
       "SECOND NO ACCESS TO RE-INSPECT VIOLATION      139\n",
       "VIOLATION WILL BE REINSPECTED                  23\n",
       "INVALID CERTIFICATION                          22\n",
       "INFO NOV SENT OUT                              21\n",
       "FALSE CERTIFICATION                            19\n",
       "NOTICE OF ISSUANCE SENT TO TENANT               3\n",
       "CIV14 MAILED                                    3\n",
       "VIOLATION REOPEN                                1\n",
       "Name: currentstatus, dtype: int64"
      ]
     },
     "execution_count": 5,
     "metadata": {},
     "output_type": "execute_result"
    }
   ],
   "source": [
    "statusCounts = df.currentstatus.value_counts()\n",
    "statusCounts"
   ]
  },
  {
   "cell_type": "markdown",
   "metadata": {},
   "source": [
    "Interestingly enough, most of the cases are closed. Now what can cause a violation to be closed? According to the dataset description... `The violation status is closed when the violation is observed/verified as corrected by HPD or as certified by the landlord.`"
   ]
  },
  {
   "cell_type": "markdown",
   "metadata": {},
   "source": [
    "This leads to a noteworthy first observation: *Most violations are in fact corrected for*"
   ]
  },
  {
   "cell_type": "markdown",
   "metadata": {},
   "source": [
    "Now of the ones that aren't... some have been dissmissed, meaning taken away with. Some were not complied with, and others are still in the early stages of processing. Let's normalize these numbers by turning them into percents so that they are easier to look at. "
   ]
  },
  {
   "cell_type": "code",
   "execution_count": 6,
   "metadata": {},
   "outputs": [
    {
     "data": {
      "text/plain": [
       "VIOLATION CLOSED                            83.897361\n",
       "VIOLATION DISMISSED                          8.329789\n",
       "FIRST NO ACCESS TO RE- INSPECT VIOLATION     2.892035\n",
       "NOT COMPLIED WITH                            2.580149\n",
       "NOV SENT OUT                                 1.132106\n",
       "DEFECT LETTER ISSUED                         0.354416\n",
       "NOV CERTIFIED LATE                           0.346315\n",
       "SECOND NO ACCESS TO RE-INSPECT VIOLATION     0.281508\n",
       "VIOLATION WILL BE REINSPECTED                0.046580\n",
       "INVALID CERTIFICATION                        0.044555\n",
       "INFO NOV SENT OUT                            0.042530\n",
       "FALSE CERTIFICATION                          0.038479\n",
       "NOTICE OF ISSUANCE SENT TO TENANT            0.006076\n",
       "CIV14 MAILED                                 0.006076\n",
       "VIOLATION REOPEN                             0.002025\n",
       "Name: currentstatus, dtype: float64"
      ]
     },
     "execution_count": 6,
     "metadata": {},
     "output_type": "execute_result"
    }
   ],
   "source": [
    "total = df.currentstatus.value_counts().sum()\n",
    "statusCounts/total * 100"
   ]
  },
  {
   "cell_type": "markdown",
   "metadata": {},
   "source": [
    "Viewing the numbers like this makes it really clear that most cases were closed, a whopping 80 percent."
   ]
  },
  {
   "cell_type": "markdown",
   "metadata": {},
   "source": [
    "Now this begs the obvious question: Why?\n",
    "Here are a couple of possibilities...\n",
    "1. Records tend to only be entered into the system when they are closed. \n",
    "2. We are looking at data from a very narrow time span."
   ]
  },
  {
   "cell_type": "markdown",
   "metadata": {},
   "source": [
    "Now 1 would be a data entry problem. 2 though we could really easily verify. Let's graph number of incidents per month...\n",
    "This is going to be scary though since we need to sort the data to construct a line plot. "
   ]
  },
  {
   "cell_type": "code",
   "execution_count": 7,
   "metadata": {},
   "outputs": [],
   "source": [
    "df['monthCurrentStatus'] = df.currentstatusdate.dt.to_period('M') #First we extract the months/year\n",
    "sorted_df = df.sort_values('monthCurrentStatus') # beware.... this is slow....That's why I got rid of days. "
   ]
  },
  {
   "cell_type": "code",
   "execution_count": 8,
   "metadata": {},
   "outputs": [
    {
     "data": {
      "text/plain": [
       "monthCurrentStatus\n",
       "2008-06    286\n",
       "2008-07     11\n",
       "2008-08     11\n",
       "2008-09     44\n",
       "2008-10     22\n",
       "Freq: M, dtype: int64"
      ]
     },
     "execution_count": 8,
     "metadata": {},
     "output_type": "execute_result"
    }
   ],
   "source": [
    "counts = sorted_df.groupby('monthCurrentStatus').count().sum(axis=1) #Yes we could use value_counts but then we have to resort\n",
    "counts.head()"
   ]
  },
  {
   "cell_type": "code",
   "execution_count": 9,
   "metadata": {},
   "outputs": [
    {
     "data": {
      "text/plain": [
       "Text(0.5, 1.0, 'Number of Incidents Statuses over Time')"
      ]
     },
     "execution_count": 9,
     "metadata": {},
     "output_type": "execute_result"
    },
    {
     "data": {
      "image/png": "[encoded data removed]",
      "text/plain": [
       "<Figure size 432x288 with 1 Axes>"
      ]
     },
     "metadata": {
      "needs_background": "light"
     },
     "output_type": "display_data"
    }
   ],
   "source": [
    "counts.plot()\n",
    "plt.title(\"Number of Incidents Statuses over Time\")"
   ]
  },
  {
   "cell_type": "markdown",
   "metadata": {},
   "source": [
    "Now we immediatly see that a lot our incidents were torwards the end of 2014 and less were reported since then. \n",
    "This doesn't iteself answer our original question of why are almost all the statuses closed but it seems like most of the data was entered during this period when the data was marked as completed."
   ]
  },
  {
   "cell_type": "markdown",
   "metadata": {},
   "source": [
    "Now this is really odd... This is why. Remember how at the botumn of the previous <a href = https://github.com/harisx91/NYCHousingMaintenanceCodeProject/blob/master/notebooks/HousingCleaning.ipynb> notebook </a> I said that the Socrata API was not giving us a random sample? We can prove it here..."
   ]
  },
  {
   "cell_type": "markdown",
   "metadata": {},
   "source": [
    "We have a count of how many incidents occured in 2016, 2017, and 2018 from the previous notebook Let's eyeglance (not using statistics) if the numbers match these. "
   ]
  },
  {
   "cell_type": "code",
   "execution_count": 20,
   "metadata": {},
   "outputs": [],
   "source": [
    "df_2016 = pd.read_csv('../data/inspection_2016.csv', parse_dates = ['inspectiondate'])\n",
    "df_2017 = pd.read_csv('../data/inspection_2017.csv', parse_dates = ['inspectiondate'])\n",
    "df_2018 = pd.read_csv('../data/inspection_2018.csv', parse_dates = ['inspectiondate'])\n",
    "df_2014 = pd.read_csv('../data/inspection_2014.csv', parse_dates = ['inspectiondate'])"
   ]
  },
  {
   "cell_type": "code",
   "execution_count": 21,
   "metadata": {},
   "outputs": [
    {
     "name": "stdout",
     "output_type": "stream",
     "text": [
      "There are 513534 records in 2016 \n",
      "There are 556883 records in 2017 \n",
      "There are 642849 records in 2018 \n",
      "There are 299592 records in 2014 \n"
     ]
    }
   ],
   "source": [
    "print('There are {:d} records in 2016 '.format(len(df_2016)))\n",
    "print('There are {:d} records in 2017 '.format(len(df_2017)))\n",
    "print('There are {:d} records in 2018 '.format(len(df_2018)))\n",
    "print('There are {:d} records in 2014 '.format(len(df_2014)))"
   ]
  },
  {
   "cell_type": "markdown",
   "metadata": {},
   "source": [
    "And by inspection on the graph... we can clearly see that this ratio does not hold. 2018 should have the most. Instead we have the increase in 2014. This is why in order to answer the question about what season incidents occur in we can't actually use this data. Lucky us, someone thought ahead and created all the data we need to evaluate this."
   ]
  },
  {
   "cell_type": "markdown",
   "metadata": {},
   "source": [
    "#### What season do most incidents occur in"
   ]
  },
  {
   "cell_type": "markdown",
   "metadata": {},
   "source": [
    "From the city's perspective, this is very important. It can help with planning how much staff is needed. From a building owner's viewpoint, it is important to know when issues arise so that they can be prepared to fix the issues."
   ]
  },
  {
   "cell_type": "markdown",
   "metadata": {},
   "source": [
    "Let's create simple plots to try to visualize this"
   ]
  },
  {
   "cell_type": "code",
   "execution_count": 26,
   "metadata": {},
   "outputs": [
    {
     "data": {
      "text/plain": [
       "<matplotlib.axes._subplots.AxesSubplot at 0x2498e54eeb8>"
      ]
     },
     "execution_count": 26,
     "metadata": {},
     "output_type": "execute_result"
    },
    {
     "data": {
      "image/png": "[encoded data removed]",
      "text/plain": [
       "<Figure size 432x288 with 1 Axes>"
      ]
     },
     "metadata": {
      "needs_background": "light"
     },
     "output_type": "display_data"
    }
   ],
   "source": [
    "series = df_2018.inspectiondate.dt.to_period('M')\n",
    "sortedcounts = series.value_counts().sort_index()\n",
    "sortedcounts.plot()"
   ]
  },
  {
   "cell_type": "code",
   "execution_count": 23,
   "metadata": {},
   "outputs": [
    {
     "data": {
      "text/plain": [
       "<matplotlib.axes._subplots.AxesSubplot at 0x2498ff306d8>"
      ]
     },
     "execution_count": 23,
     "metadata": {},
     "output_type": "execute_result"
    },
    {
     "data": {
      "image/png": "[encoded data removed]",
      "text/plain": [
       "<Figure size 432x288 with 1 Axes>"
      ]
     },
     "metadata": {
      "needs_background": "light"
     },
     "output_type": "display_data"
    }
   ],
   "source": [
    "series = df_2017.inspectiondate.dt.to_period('M')\n",
    "sortedcounts = series.value_counts().sort_index()\n",
    "sortedcounts.plot()"
   ]
  },
  {
   "cell_type": "code",
   "execution_count": 32,
   "metadata": {},
   "outputs": [
    {
     "data": {
      "text/plain": [
       "<matplotlib.axes._subplots.AxesSubplot at 0x24997e3c5f8>"
      ]
     },
     "execution_count": 32,
     "metadata": {},
     "output_type": "execute_result"
    },
    {
     "data": {
      "image/png": "[encoded data removed]",
      "text/plain": [
       "<Figure size 432x288 with 1 Axes>"
      ]
     },
     "metadata": {
      "needs_background": "light"
     },
     "output_type": "display_data"
    }
   ],
   "source": [
    "series = df_2016.inspectiondate.dt.to_period('M')\n",
    "sortedcounts = series.value_counts().sort_index()\n",
    "sortedcounts.plot()"
   ]
  },
  {
   "cell_type": "markdown",
   "metadata": {},
   "source": [
    "It appears that most incidents are raised during the Fall, in either October and Novemeber"
   ]
  },
  {
   "cell_type": "markdown",
   "metadata": {},
   "source": [
    "Let's take 2016 as an example. Although it appears that November has an overwhelming majority of incidents, we can do a statistical test to see if it is possible that this is just do to chance. "
   ]
  },
  {
   "cell_type": "markdown",
   "metadata": {},
   "source": [
    "Let's model this as a bernoulli random variable since there are 2 possibilities here. Either an inspection was in November or it wasn't. If all months had an equal number of incidents per month we would expect that each month would have 100/12 or 25/3 (8.3) percent of the incidents each month"
   ]
  },
  {
   "cell_type": "code",
   "execution_count": 33,
   "metadata": {},
   "outputs": [
    {
     "data": {
      "text/plain": [
       "0.1538612827972442"
      ]
     },
     "execution_count": 33,
     "metadata": {},
     "output_type": "execute_result"
    }
   ],
   "source": [
    "n = sortedcounts.sum()\n",
    "p = sortedcounts['2016-11']/n\n",
    "q = 1-p\n",
    "p"
   ]
  },
  {
   "cell_type": "markdown",
   "metadata": {},
   "source": [
    "We see that November had 15.4 percent of the votes... Almost twice as much as what we would expect the avg month to have.  \n",
    "Now let's see the Probability that we would get this 15.4 percent if really there was no significant difference. We can state this in another way with a hypothesis test. \n",
    "\n",
    "Our null hypthosis is there is no significant difference\n",
    "Our alternate hypothesis is that there is... That is, P(incident in November) >= 8.3%. \n"
   ]
  },
  {
   "cell_type": "markdown",
   "metadata": {},
   "source": [
    "An easy approach we can take is to make a confidence interval. This interval would give us a range of possible values that the true probability is."
   ]
  },
  {
   "cell_type": "markdown",
   "metadata": {},
   "source": [
    "We know from basic statistics we have the point estimator for target `p` with standord error `sqrt(pq/n`)`"
   ]
  },
  {
   "cell_type": "code",
   "execution_count": 38,
   "metadata": {},
   "outputs": [
    {
     "data": {
      "text/plain": [
       "0.000503501602425762"
      ]
     },
     "execution_count": 38,
     "metadata": {},
     "output_type": "execute_result"
    }
   ],
   "source": [
    "import math\n",
    "standordError = math.sqrt(p * q /n)\n",
    "standordError"
   ]
  },
  {
   "cell_type": "code",
   "execution_count": 39,
   "metadata": {},
   "outputs": [
    {
     "data": {
      "text/plain": [
       "(0.1528744196564897, 0.1548481459379987)"
      ]
     },
     "execution_count": 39,
     "metadata": {},
     "output_type": "execute_result"
    }
   ],
   "source": [
    "er = 1.96 * standordError\n",
    "lowerBound,upperBound = (p - er, p+er)\n",
    "lowerBound,upperBound\n"
   ]
  },
  {
   "cell_type": "markdown",
   "metadata": {},
   "source": [
    "These numbers tell us that there is a 95% chance that the true value is between .1528, and .1548. Since 8.3 is not in the interval, we can say with 95 percent accuracy that there is a significant difference and more incidents are indeed opened in November. Moreover, from how far away this range is from 8.3, it is pretty clear that there is a wide gap."
   ]
  },
  {
   "cell_type": "markdown",
   "metadata": {},
   "source": [
    "So what do we gain from knowing this? Firstly, we reccomend that the city have lots of staff around for inspecting buildings during this period. We also recomend that building owners look to correct the issues in their buildings before fall so that they can be prepared for inspections."
   ]
  },
  {
   "cell_type": "markdown",
   "metadata": {},
   "source": [
    "#### Where do incidents take place"
   ]
  },
  {
   "cell_type": "markdown",
   "metadata": {},
   "source": [
    "So now we contextualized our data a bit more... We know when the data was from and we know the what: that most of the rows show that the incidents were resolved. Let's now focus more on the what of how severe the incidents were and on the where. Where do most incidents take place? Also which areas are there the most severe incidents?"
   ]
  },
  {
   "cell_type": "code",
   "execution_count": 41,
   "metadata": {},
   "outputs": [
    {
     "data": {
      "text/plain": [
       "Text(0.5, 1.0, 'Incidents per boro')"
      ]
     },
     "execution_count": 41,
     "metadata": {},
     "output_type": "execute_result"
    },
    {
     "data": {
      "image/png": "[encoded data removed]",
      "text/plain": [
       "<Figure size 432x288 with 1 Axes>"
      ]
     },
     "metadata": {
      "needs_background": "light"
     },
     "output_type": "display_data"
    }
   ],
   "source": [
    "plt.bar(df['boro'].unique(), df['boro'].value_counts())\n",
    "plt.title(\"Incidents per boro\")"
   ]
  },
  {
   "cell_type": "markdown",
   "metadata": {},
   "source": [
    "Queens has the most number of incidents with Manhattan, the Bronx, and Staten Island significantly less.\n",
    "It's not just that there are more incidents though. The ratio of incidents between Queens and Brooklyn and the other boros is significantly more. We should investigate why this is? Is there something problematic about these buildings like are they older?"
   ]
  },
  {
   "cell_type": "markdown",
   "metadata": {},
   "source": [
    "It's also important though to see how severe these incidents are..."
   ]
  },
  {
   "cell_type": "code",
   "execution_count": 42,
   "metadata": {},
   "outputs": [
    {
     "data": {
      "text/plain": [
       "B    30359\n",
       "C     9301\n",
       "A     9064\n",
       "I      653\n",
       "Name: class, dtype: int64"
      ]
     },
     "execution_count": 42,
     "metadata": {},
     "output_type": "execute_result"
    }
   ],
   "source": [
    "df['class'].value_counts()"
   ]
  },
  {
   "cell_type": "code",
   "execution_count": 43,
   "metadata": {},
   "outputs": [
    {
     "data": {
      "text/plain": [
       "<matplotlib.axes._subplots.AxesSubplot at 0x2498e5d0518>"
      ]
     },
     "execution_count": 43,
     "metadata": {},
     "output_type": "execute_result"
    },
    {
     "data": {
      "image/png": "[encoded data removed]",
      "text/plain": [
       "<Figure size 432x288 with 1 Axes>"
      ]
     },
     "metadata": {
      "needs_background": "light"
     },
     "output_type": "display_data"
    }
   ],
   "source": [
    "class_counts = df['class'].value_counts()\n",
    "class_counts.plot.bar()"
   ]
  },
  {
   "cell_type": "markdown",
   "metadata": {},
   "source": [
    "As we can see class B(which is medium severe) has the highest number. C is high severity and is about equal with A (low severity). I incidents aren't really violations but simply notifications. Now let's see if there are overly many severe incidents in any boros"
   ]
  },
  {
   "cell_type": "code",
   "execution_count": 44,
   "metadata": {},
   "outputs": [
    {
     "data": {
      "text/plain": [
       "boro           class\n",
       "BRONX          A         3130\n",
       "               B        10473\n",
       "               C         2804\n",
       "               I          112\n",
       "BROOKLYN       A         3441\n",
       "               B        11409\n",
       "               C         3700\n",
       "               I          310\n",
       "MANHATTAN      A         1753\n",
       "               B         5770\n",
       "               C         1840\n",
       "               I           87\n",
       "QUEENS         A          642\n",
       "               B         2242\n",
       "               C          827\n",
       "               I          138\n",
       "STATEN ISLAND  A           98\n",
       "               B          465\n",
       "               C          130\n",
       "               I            6\n",
       "dtype: int64"
      ]
     },
     "execution_count": 44,
     "metadata": {},
     "output_type": "execute_result"
    }
   ],
   "source": [
    "df.groupby(['boro','class']).size()"
   ]
  },
  {
   "cell_type": "markdown",
   "metadata": {},
   "source": [
    "Since Brooklyn has the highest number of incident, it makes sense that largest class incident happens there. "
   ]
  },
  {
   "cell_type": "markdown",
   "metadata": {},
   "source": [
    "It is easier to read if sorted"
   ]
  },
  {
   "cell_type": "code",
   "execution_count": 45,
   "metadata": {},
   "outputs": [
    {
     "data": {
      "text/plain": [
       "boro           class\n",
       "BROOKLYN       B        11409\n",
       "BRONX          B        10473\n",
       "MANHATTAN      B         5770\n",
       "BROOKLYN       C         3700\n",
       "               A         3441\n",
       "BRONX          A         3130\n",
       "               C         2804\n",
       "QUEENS         B         2242\n",
       "MANHATTAN      C         1840\n",
       "               A         1753\n",
       "QUEENS         C          827\n",
       "               A          642\n",
       "STATEN ISLAND  B          465\n",
       "BROOKLYN       I          310\n",
       "QUEENS         I          138\n",
       "STATEN ISLAND  C          130\n",
       "BRONX          I          112\n",
       "STATEN ISLAND  A           98\n",
       "MANHATTAN      I           87\n",
       "STATEN ISLAND  I            6\n",
       "dtype: int64"
      ]
     },
     "execution_count": 45,
     "metadata": {},
     "output_type": "execute_result"
    }
   ],
   "source": [
    "df.groupby(['boro','class']).size().sort_values(ascending=False)"
   ]
  },
  {
   "cell_type": "code",
   "execution_count": 46,
   "metadata": {},
   "outputs": [
    {
     "data": {
      "text/plain": [
       "<matplotlib.axes._subplots.AxesSubplot at 0x2498e641898>"
      ]
     },
     "execution_count": 46,
     "metadata": {},
     "output_type": "execute_result"
    },
    {
     "data": {
      "image/png": "[encoded data removed]",
      "text/plain": [
       "<Figure size 432x288 with 1 Axes>"
      ]
     },
     "metadata": {
      "needs_background": "light"
     },
     "output_type": "display_data"
    }
   ],
   "source": [
    "df.groupby(['boro','class']).size().plot.bar()"
   ]
  },
  {
   "cell_type": "markdown",
   "metadata": {},
   "source": [
    "We don't see any boro which violates this ratio of having more class B incidents. Because of this we don't feel a need to propose any immediate action "
   ]
  },
  {
   "cell_type": "markdown",
   "metadata": {},
   "source": [
    "It might be usefull to see what this data looks like on a map. Let's create a map with dots representing how many incidents there were in certain zip codes. This will let us put more data into our graphs since the bar graph above already is bordering on the max number of bars"
   ]
  },
  {
   "cell_type": "code",
   "execution_count": 48,
   "metadata": {},
   "outputs": [],
   "source": [
    "zipCounts = pd.read_csv(r'../data/zip_count.csv')"
   ]
  },
  {
   "cell_type": "code",
   "execution_count": 51,
   "metadata": {},
   "outputs": [
    {
     "data": {
      "text/html": [
       "        <script type=\"text/javascript\">\n",
       "        window.PlotlyConfig = {MathJaxConfig: 'local'};\n",
       "        if (window.MathJax) {MathJax.Hub.Config({SVG: {font: \"STIX-Web\"}});}\n",
       "        if (typeof require !== 'undefined') {\n",
       "        require.undef(\"plotly\");\n",
       "        requirejs.config({\n",
       "            paths: {\n",
       "                'plotly': ['https://cdn.plot.ly/plotly-latest.min']\n",
       "            }\n",
       "        });\n",
       "        require(['plotly'], function(Plotly) {\n",
       "            window._Plotly = Plotly;\n",
       "        });\n",
       "        }\n",
       "        </script>\n",
       "        "
      ]
     },
     "metadata": {},
     "output_type": "display_data"
    },
    {
     "data": {
      "application/vnd.plotly.v1+json": {
       "config": {
        "linkText": "Export to plot.ly",
        "plotlyServerURL": "https://plot.ly",
        "showLink": false
       },
       "data": [
        {
         "customdata": [
          [
           11226,
           1898
          ],
          [
           10453,
           1736
          ],
          [
           10458,
           1536
          ],
          [
           10457,
           1504
          ],
          [
           11221,
           1489
          ],
          [
           10456,
           1394
          ],
          [
           10468,
           1390
          ],
          [
           10467,
           1390
          ],
          [
           11207,
           1338
          ],
          [
           11233,
           1303
          ],
          [
           10452,
           1169
          ],
          [
           11213,
           1168
          ],
          [
           11212,
           1029
          ],
          [
           10031,
           1014
          ],
          [
           10032,
           1013
          ],
          [
           10459,
           948
          ],
          [
           11225,
           946
          ],
          [
           10460,
           928
          ],
          [
           11237,
           926
          ],
          [
           11216,
           920
          ],
          [
           10472,
           880
          ],
          [
           11203,
           839
          ],
          [
           10033,
           815
          ],
          [
           10451,
           778
          ],
          [
           10040,
           702
          ],
          [
           10027,
           699
          ],
          [
           10030,
           657
          ],
          [
           11208,
           654
          ],
          [
           10034,
           605
          ],
          [
           11215,
           567
          ],
          [
           11238,
           560
          ],
          [
           11220,
           549
          ],
          [
           10466,
           534
          ],
          [
           10462,
           534
          ],
          [
           11206,
           498
          ],
          [
           10035,
           490
          ],
          [
           11218,
           470
          ],
          [
           10455,
           459
          ],
          [
           11385,
           418
          ],
          [
           10026,
           409
          ],
          [
           11204,
           389
          ],
          [
           10454,
           384
          ],
          [
           11230,
           372
          ],
          [
           10029,
           359
          ],
          [
           11214,
           355
          ],
          [
           10025,
           353
          ],
          [
           11691,
           304
          ],
          [
           10463,
           302
          ],
          [
           11211,
           297
          ],
          [
           11222,
           279
          ],
          [
           10039,
           265
          ],
          [
           11232,
           264
          ],
          [
           11210,
           258
          ],
          [
           11367,
           242
          ],
          [
           11373,
           233
          ],
          [
           11377,
           223
          ],
          [
           11236,
           207
          ],
          [
           11223,
           194
          ],
          [
           11219,
           194
          ],
          [
           10002,
           191
          ],
          [
           10011,
           190
          ],
          [
           10301,
           181
          ],
          [
           10461,
           177
          ],
          [
           10474,
           176
          ],
          [
           10028,
           174
          ],
          [
           11217,
           173
          ],
          [
           11368,
           168
          ],
          [
           10009,
           167
          ],
          [
           10024,
           164
          ],
          [
           10304,
           162
          ],
          [
           11235,
           160
          ],
          [
           10469,
           146
          ],
          [
           10470,
           142
          ],
          [
           11224,
           139
          ],
          [
           10012,
           139
          ],
          [
           10003,
           134
          ],
          [
           11372,
           133
          ],
          [
           11229,
           126
          ],
          [
           11418,
           123
          ],
          [
           11105,
           122
          ],
          [
           11209,
           113
          ],
          [
           10019,
           111
          ],
          [
           10303,
           107
          ],
          [
           11432,
           107
          ],
          [
           10473,
           106
          ],
          [
           10001,
           105
          ],
          [
           11201,
           101
          ],
          [
           11106,
           96
          ],
          [
           10037,
           94
          ],
          [
           11249,
           92
          ],
          [
           11412,
           91
          ],
          [
           11355,
           91
          ],
          [
           10128,
           91
          ],
          [
           11375,
           89
          ],
          [
           10036,
           85
          ],
          [
           11435,
           83
          ],
          [
           11434,
           83
          ],
          [
           11205,
           81
          ],
          [
           10302,
           81
          ],
          [
           11433,
           78
          ],
          [
           11102,
           76
          ],
          [
           11427,
           76
          ],
          [
           11416,
           75
          ],
          [
           11101,
           72
          ],
          [
           11413,
           72
          ],
          [
           10465,
           70
          ],
          [
           11104,
           68
          ],
          [
           10016,
           65
          ],
          [
           10014,
           65
          ],
          [
           10310,
           60
          ],
          [
           10010,
           59
          ],
          [
           11374,
           58
          ],
          [
           11231,
           55
          ],
          [
           11369,
           55
          ],
          [
           11420,
           55
          ],
          [
           10021,
           52
          ],
          [
           11423,
           51
          ],
          [
           11429,
           51
          ],
          [
           11692,
           51
          ],
          [
           10023,
           45
          ],
          [
           11356,
           44
          ],
          [
           11103,
           40
          ],
          [
           10314,
           40
          ],
          [
           11414,
           39
          ],
          [
           11436,
           39
          ],
          [
           11419,
           38
          ],
          [
           11694,
           36
          ],
          [
           11421,
           35
          ],
          [
           11365,
           34
          ],
          [
           10022,
           32
          ],
          [
           10013,
           32
          ],
          [
           10312,
           31
          ],
          [
           11234,
           31
          ],
          [
           11415,
           29
          ],
          [
           11228,
           25
          ],
          [
           11379,
           25
          ],
          [
           10038,
           24
          ],
          [
           11378,
           23
          ],
          [
           11422,
           22
          ],
          [
           10306,
           21
          ],
          [
           11361,
           20
          ],
          [
           11354,
           19
          ],
          [
           10305,
           18
          ],
          [
           10044,
           18
          ],
          [
           11364,
           17
          ],
          [
           10471,
           16
          ],
          [
           10018,
           13
          ],
          [
           10280,
           12
          ],
          [
           11693,
           11
          ],
          [
           11358,
           11
          ],
          [
           10017,
           10
          ],
          [
           11239,
           10
          ],
          [
           11370,
           8
          ],
          [
           11411,
           7
          ],
          [
           11428,
           7
          ],
          [
           10129,
           7
          ],
          [
           11417,
           6
          ],
          [
           11357,
           4
          ],
          [
           11366,
           3
          ],
          [
           10464,
           3
          ],
          [
           10309,
           2
          ],
          [
           10475,
           2
          ],
          [
           11426,
           1
          ],
          [
           10307,
           1
          ],
          [
           10005,
           1
          ],
          [
           11360,
           1
          ]
         ],
         "hoverlabel": {
          "namelength": 0
         },
         "hovertemplate": "<b>%{hovertext}</b><br><br>count=%{customdata[1]}<br>zip=%{customdata[0]}<br>long=%{lat}<br>lat=%{lon}",
         "hovertext": [
          "Brooklyn",
          "Bronx",
          "Bronx",
          "Bronx",
          "Brooklyn",
          "Bronx",
          "Bronx",
          "Bronx",
          "Brooklyn",
          "Brooklyn",
          "Bronx",
          "Brooklyn",
          "Brooklyn",
          "New York",
          "New York",
          "Bronx",
          "Brooklyn",
          "Bronx",
          "Brooklyn",
          "Brooklyn",
          "Bronx",
          "Brooklyn",
          "New York",
          "Bronx",
          "New York",
          "New York",
          "New York",
          "Brooklyn",
          "New York",
          "Brooklyn",
          "Brooklyn",
          "Brooklyn",
          "Bronx",
          "Bronx",
          "Brooklyn",
          "New York",
          "Brooklyn",
          "Bronx",
          "Ridgewood",
          "New York",
          "Brooklyn",
          "Bronx",
          "Brooklyn",
          "New York",
          "Brooklyn",
          "New York",
          "Far Rockaway",
          "Bronx",
          "Brooklyn",
          "Brooklyn",
          "New York",
          "Brooklyn",
          "Brooklyn",
          "Flushing",
          "Elmhurst",
          "Woodside",
          "Brooklyn",
          "Brooklyn",
          "Brooklyn",
          "New York",
          "New York",
          "Staten Island",
          "Bronx",
          "Bronx",
          "New York",
          "Brooklyn",
          "Corona",
          "New York",
          "New York",
          "Staten Island",
          "Brooklyn",
          "Bronx",
          "Bronx",
          "Brooklyn",
          "New York",
          "New York",
          "Jackson Heights",
          "Brooklyn",
          "Richmond Hill",
          "Astoria",
          "Brooklyn",
          "New York",
          "Staten Island",
          "Jamaica",
          "Bronx",
          "New York",
          "Brooklyn",
          "Astoria",
          "New York",
          "Brooklyn",
          "Saint Albans",
          "Flushing",
          "New York",
          "Forest Hills",
          "New York",
          "Jamaica",
          "Jamaica",
          "Brooklyn",
          "Staten Island",
          "Jamaica",
          "Astoria",
          "Queens Village",
          "Ozone Park",
          "Long Island City",
          "Springfield Gardens",
          "Bronx",
          "Sunnyside",
          "New York",
          "New York",
          "Staten Island",
          "New York",
          "Rego Park",
          "Brooklyn",
          "East Elmhurst",
          "South Ozone Park",
          "New York",
          "Hollis",
          "Queens Village",
          "Arverne",
          "New York",
          "College Point",
          "Astoria",
          "Staten Island",
          "Howard Beach",
          "Jamaica",
          "South Richmond Hill",
          "Rockaway Park",
          "Woodhaven",
          "Fresh Meadows",
          "New York",
          "New York",
          "Staten Island",
          "Brooklyn",
          "Kew Gardens",
          "Brooklyn",
          "Middle Village",
          "New York",
          "Maspeth",
          "Rosedale",
          "Staten Island",
          "Bayside",
          "Flushing",
          "Staten Island",
          "New York",
          "Oakland Gardens",
          "Bronx",
          "New York",
          "New York",
          "Far Rockaway",
          "Flushing",
          "New York",
          "Brooklyn",
          "East Elmhurst",
          "Cambria Heights",
          "Queens Village",
          "New York",
          "Ozone Park",
          "Whitestone",
          "Fresh Meadows",
          "Bronx",
          "Staten Island",
          "Bronx",
          "Bellerose",
          "Staten Island",
          "New York",
          "Bayside"
         ],
         "lat": [
          40.645255999999996,
          40.853017,
          40.864166,
          40.846745,
          40.691234,
          40.829676,
          40.867107,
          40.872265000000006,
          40.670874,
          40.676938,
          40.838745,
          40.670937,
          40.662191,
          40.826201,
          40.840686,
          40.825432,
          40.662892,
          40.84095,
          40.703355,
          40.680398,
          40.830409,
          40.649059,
          40.848764,
          40.819728999999995,
          40.858703999999996,
          40.812665,
          40.818151,
          40.672666,
          40.867653000000004,
          40.667508000000005,
          40.680145,
          40.641436,
          40.89095,
          40.842172999999995,
          40.702348,
          40.802395000000004,
          40.644552000000004,
          40.815559,
          40.703069,
          40.802853000000006,
          40.618944,
          40.805968,
          40.622994,
          40.791585999999995,
          40.598994,
          40.798502,
          40.60002,
          40.881085999999996,
          40.71209,
          40.726302000000004,
          40.826181,
          40.655481,
          40.627946,
          40.728614,
          40.736076000000004,
          40.742869,
          40.640527,
          40.598141999999996,
          40.632449,
          40.717040000000004,
          40.741012,
          40.631775,
          40.842917,
          40.81321,
          40.776777,
          40.68209,
          40.747106,
          40.727093,
          40.786387,
          40.60787,
          40.583803,
          40.868643,
          40.900628999999995,
          40.576589,
          40.72596,
          40.732509,
          40.750146,
          40.599256,
          40.698485,
          40.774685999999996,
          40.62327,
          40.765714,
          40.629448,
          40.714144,
          40.818514,
          40.750741999999995,
          40.695285999999996,
          40.762012,
          40.813385,
          40.645099,
          40.697188,
          40.749463,
          40.781894,
          40.720535,
          40.759510999999996,
          40.700068,
          40.674888,
          40.694214,
          40.631127,
          40.696538000000004,
          40.771285999999996,
          40.728235,
          40.683301,
          40.745340999999996,
          40.670138,
          40.825727,
          40.743796,
          40.746179999999995,
          40.734718,
          40.63212,
          40.739022,
          40.724945,
          40.6788,
          40.762854,
          40.673138,
          40.76842,
          40.714261,
          40.708833,
          40.592939,
          40.776099,
          40.785462,
          40.762968,
          40.606336999999996,
          40.658188,
          40.674146,
          40.688688,
          40.57649,
          40.690870000000004,
          40.738983000000005,
          40.759015000000005,
          40.720665999999994,
          40.543116999999995,
          40.618561,
          40.706903000000004,
          40.617563,
          40.716028,
          40.709677,
          40.724096,
          40.662538,
          40.569394,
          40.763177,
          40.767969,
          40.599021,
          40.762174,
          40.746718,
          40.900819,
          40.755101,
          40.707467,
          40.596959000000005,
          40.760521999999995,
          40.752159000000006,
          40.645848,
          40.763015,
          40.693538000000004,
          40.719981,
          40.780751,
          40.675534000000006,
          40.784453000000006,
          40.726137,
          40.857017,
          40.529749,
          40.878522,
          40.732239,
          40.508274,
          40.706019,
          40.780386
         ],
         "legendgroup": "",
         "lon": [
          -73.95553000000001,
          -73.91214000000001,
          -73.88880999999999,
          -73.89860999999999,
          -73.92636999999999,
          -73.90856,
          -73.89916,
          -73.86936999999999,
          -73.89424,
          -73.91858,
          -73.92234,
          -73.93459,
          -73.91328,
          -73.94879,
          -73.94154,
          -73.89327,
          -73.95509,
          -73.88036,
          -73.91993000000001,
          -73.94824,
          -73.86845,
          -73.93304,
          -73.93496,
          -73.9223,
          -73.92853000000001,
          -73.95499000000001,
          -73.94351,
          -73.87248000000001,
          -73.92,
          -73.9856,
          -73.96257,
          -74.01574000000001,
          -73.84702,
          -73.85862,
          -73.94288,
          -73.93359,
          -73.97595,
          -73.90771,
          -73.89285,
          -73.95470999999999,
          -73.98473,
          -73.91628,
          -73.96427,
          -73.94575,
          -73.99611,
          -73.96811,
          -73.75962,
          -73.90749,
          -73.95427,
          -73.94559,
          -73.9371,
          -74.00424,
          -73.94552,
          -73.82145,
          -73.87804,
          -73.90377,
          -73.90361999999999,
          -73.97229,
          -73.99629,
          -73.987,
          -74.00012,
          -74.09432,
          -73.83819,
          -73.88755,
          -73.9541,
          -73.97783000000001,
          -73.85838000000001,
          -73.97864,
          -73.97709,
          -74.08991,
          -73.95019,
          -73.84735,
          -73.86072,
          -73.99172,
          -73.99834,
          -73.98935,
          -73.88433,
          -73.94118,
          -73.83365,
          -73.90816,
          -74.0295,
          -73.9856,
          -74.16239,
          -73.79324,
          -73.85893,
          -73.99653,
          -73.98907,
          -73.93146999999999,
          -73.93616,
          -73.945032,
          -73.75948000000001,
          -73.81940999999999,
          -73.95039,
          -73.84581999999999,
          -73.99019,
          -73.80986,
          -73.7727,
          -73.96529,
          -74.13715,
          -73.78734,
          -73.92461999999999,
          -73.74781999999999,
          -73.8503,
          -73.93907,
          -73.75140999999999,
          -73.81752,
          -73.91949,
          -73.97759,
          -74.00532,
          -74.11551,
          -73.98205,
          -73.8609,
          -74.00254,
          -73.87051,
          -73.81443,
          -73.96045,
          -73.76824,
          -73.73903,
          -73.79568,
          -73.98285,
          -73.84366,
          -73.91091,
          -74.14513000000001,
          -73.84321,
          -73.79687,
          -73.82216,
          -73.84721,
          -73.85828000000001,
          -73.79209,
          -73.96732,
          -74.00525999999999,
          -74.17628,
          -73.9216,
          -73.82973,
          -74.01168,
          -73.87925,
          -74.00365,
          -73.90271,
          -73.73514,
          -74.11785,
          -73.77391999999999,
          -73.82496,
          -74.07503,
          -73.94917,
          -73.75994,
          -73.90347,
          -73.99337,
          -74.0178,
          -73.81978000000001,
          -73.79612,
          -73.97231,
          -73.87919000000001,
          -73.89052,
          -73.73574,
          -73.74127,
          -73.977182,
          -73.84476,
          -73.80922,
          -73.79502,
          -73.78903000000001,
          -74.21304,
          -73.82540999999999,
          -73.72108,
          -74.24387,
          -74.00858000000001,
          -73.78005
         ],
         "marker": {
          "color": "#636efa",
          "size": [
           1898,
           1736,
           1536,
           1504,
           1489,
           1394,
           1390,
           1390,
           1338,
           1303,
           1169,
           1168,
           1029,
           1014,
           1013,
           948,
           946,
           928,
           926,
           920,
           880,
           839,
           815,
           778,
           702,
           699,
           657,
           654,
           605,
           567,
           560,
           549,
           534,
           534,
           498,
           490,
           470,
           459,
           418,
           409,
           389,
           384,
           372,
           359,
           355,
           353,
           304,
           302,
           297,
           279,
           265,
           264,
           258,
           242,
           233,
           223,
           207,
           194,
           194,
           191,
           190,
           181,
           177,
           176,
           174,
           173,
           168,
           167,
           164,
           162,
           160,
           146,
           142,
           139,
           139,
           134,
           133,
           126,
           123,
           122,
           113,
           111,
           107,
           107,
           106,
           105,
           101,
           96,
           94,
           92,
           91,
           91,
           91,
           89,
           85,
           83,
           83,
           81,
           81,
           78,
           76,
           76,
           75,
           72,
           72,
           70,
           68,
           65,
           65,
           60,
           59,
           58,
           55,
           55,
           55,
           52,
           51,
           51,
           51,
           45,
           44,
           40,
           40,
           39,
           39,
           38,
           36,
           35,
           34,
           32,
           32,
           31,
           31,
           29,
           25,
           25,
           24,
           23,
           22,
           21,
           20,
           19,
           18,
           18,
           17,
           16,
           13,
           12,
           11,
           11,
           10,
           10,
           8,
           7,
           7,
           7,
           6,
           4,
           3,
           3,
           2,
           2,
           1,
           1,
           1,
           1
          ],
          "sizemode": "area",
          "sizeref": 4.745
         },
         "mode": "markers",
         "name": "",
         "showlegend": false,
         "subplot": "mapbox",
         "type": "scattermapbox"
        }
       ],
       "layout": {
        "height": 600,
        "legend": {
         "itemsizing": "constant",
         "tracegroupgap": 0
        },
        "mapbox": {
         "accesstoken": "pk.eyJ1IjoiYmNvaGVuOSIsImEiOiJjazMyYWF5OHYwYTZ3M25ubzFmMTRiNnNtIn0.8Kusg2VIJV3-cV2L2V7uHA",
         "center": {
          "lat": 40.726114692771105,
          "lon": -73.9173353253012
         },
         "domain": {
          "x": [
           0,
           1
          ],
          "y": [
           0,
           1
          ]
         },
         "style": "light",
         "zoom": 8
        },
        "margin": {
         "b": 0,
         "l": 0,
         "r": 0,
         "t": 100
        },
        "template": {
         "data": {
          "bar": [
           {
            "error_x": {
             "color": "#2a3f5f"
            },
            "error_y": {
             "color": "#2a3f5f"
            },
            "marker": {
             "line": {
              "color": "#E5ECF6",
              "width": 0.5
             }
            },
            "type": "bar"
           }
          ],
          "barpolar": [
           {
            "marker": {
             "line": {
              "color": "#E5ECF6",
              "width": 0.5
             }
            },
            "type": "barpolar"
           }
          ],
          "carpet": [
           {
            "aaxis": {
             "endlinecolor": "#2a3f5f",
             "gridcolor": "white",
             "linecolor": "white",
             "minorgridcolor": "white",
             "startlinecolor": "#2a3f5f"
            },
            "baxis": {
             "endlinecolor": "#2a3f5f",
             "gridcolor": "white",
             "linecolor": "white",
             "minorgridcolor": "white",
             "startlinecolor": "#2a3f5f"
            },
            "type": "carpet"
           }
          ],
          "choropleth": [
           {
            "colorbar": {
             "outlinewidth": 0,
             "ticks": ""
            },
            "type": "choropleth"
           }
          ],
          "contour": [
           {
            "colorbar": {
             "outlinewidth": 0,
             "ticks": ""
            },
            "colorscale": [
             [
              0,
              "#0d0887"
             ],
             [
              0.1111111111111111,
              "#46039f"
             ],
             [
              0.2222222222222222,
              "#7201a8"
             ],
             [
              0.3333333333333333,
              "#9c179e"
             ],
             [
              0.4444444444444444,
              "#bd3786"
             ],
             [
              0.5555555555555556,
              "#d8576b"
             ],
             [
              0.6666666666666666,
              "#ed7953"
             ],
             [
              0.7777777777777778,
              "#fb9f3a"
             ],
             [
              0.8888888888888888,
              "#fdca26"
             ],
             [
              1,
              "#f0f921"
             ]
            ],
            "type": "contour"
           }
          ],
          "contourcarpet": [
           {
            "colorbar": {
             "outlinewidth": 0,
             "ticks": ""
            },
            "type": "contourcarpet"
           }
          ],
          "heatmap": [
           {
            "colorbar": {
             "outlinewidth": 0,
             "ticks": ""
            },
            "colorscale": [
             [
              0,
              "#0d0887"
             ],
             [
              0.1111111111111111,
              "#46039f"
             ],
             [
              0.2222222222222222,
              "#7201a8"
             ],
             [
              0.3333333333333333,
              "#9c179e"
             ],
             [
              0.4444444444444444,
              "#bd3786"
             ],
             [
              0.5555555555555556,
              "#d8576b"
             ],
             [
              0.6666666666666666,
              "#ed7953"
             ],
             [
              0.7777777777777778,
              "#fb9f3a"
             ],
             [
              0.8888888888888888,
              "#fdca26"
             ],
             [
              1,
              "#f0f921"
             ]
            ],
            "type": "heatmap"
           }
          ],
          "heatmapgl": [
           {
            "colorbar": {
             "outlinewidth": 0,
             "ticks": ""
            },
            "colorscale": [
             [
              0,
              "#0d0887"
             ],
             [
              0.1111111111111111,
              "#46039f"
             ],
             [
              0.2222222222222222,
              "#7201a8"
             ],
             [
              0.3333333333333333,
              "#9c179e"
             ],
             [
              0.4444444444444444,
              "#bd3786"
             ],
             [
              0.5555555555555556,
              "#d8576b"
             ],
             [
              0.6666666666666666,
              "#ed7953"
             ],
             [
              0.7777777777777778,
              "#fb9f3a"
             ],
             [
              0.8888888888888888,
              "#fdca26"
             ],
             [
              1,
              "#f0f921"
             ]
            ],
            "type": "heatmapgl"
           }
          ],
          "histogram": [
           {
            "marker": {
             "colorbar": {
              "outlinewidth": 0,
              "ticks": ""
             }
            },
            "type": "histogram"
           }
          ],
          "histogram2d": [
           {
            "colorbar": {
             "outlinewidth": 0,
             "ticks": ""
            },
            "colorscale": [
             [
              0,
              "#0d0887"
             ],
             [
              0.1111111111111111,
              "#46039f"
             ],
             [
              0.2222222222222222,
              "#7201a8"
             ],
             [
              0.3333333333333333,
              "#9c179e"
             ],
             [
              0.4444444444444444,
              "#bd3786"
             ],
             [
              0.5555555555555556,
              "#d8576b"
             ],
             [
              0.6666666666666666,
              "#ed7953"
             ],
             [
              0.7777777777777778,
              "#fb9f3a"
             ],
             [
              0.8888888888888888,
              "#fdca26"
             ],
             [
              1,
              "#f0f921"
             ]
            ],
            "type": "histogram2d"
           }
          ],
          "histogram2dcontour": [
           {
            "colorbar": {
             "outlinewidth": 0,
             "ticks": ""
            },
            "colorscale": [
             [
              0,
              "#0d0887"
             ],
             [
              0.1111111111111111,
              "#46039f"
             ],
             [
              0.2222222222222222,
              "#7201a8"
             ],
             [
              0.3333333333333333,
              "#9c179e"
             ],
             [
              0.4444444444444444,
              "#bd3786"
             ],
             [
              0.5555555555555556,
              "#d8576b"
             ],
             [
              0.6666666666666666,
              "#ed7953"
             ],
             [
              0.7777777777777778,
              "#fb9f3a"
             ],
             [
              0.8888888888888888,
              "#fdca26"
             ],
             [
              1,
              "#f0f921"
             ]
            ],
            "type": "histogram2dcontour"
           }
          ],
          "mesh3d": [
           {
            "colorbar": {
             "outlinewidth": 0,
             "ticks": ""
            },
            "type": "mesh3d"
           }
          ],
          "parcoords": [
           {
            "line": {
             "colorbar": {
              "outlinewidth": 0,
              "ticks": ""
             }
            },
            "type": "parcoords"
           }
          ],
          "pie": [
           {
            "automargin": true,
            "type": "pie"
           }
          ],
          "scatter": [
           {
            "marker": {
             "colorbar": {
              "outlinewidth": 0,
              "ticks": ""
             }
            },
            "type": "scatter"
           }
          ],
          "scatter3d": [
           {
            "line": {
             "colorbar": {
              "outlinewidth": 0,
              "ticks": ""
             }
            },
            "marker": {
             "colorbar": {
              "outlinewidth": 0,
              "ticks": ""
             }
            },
            "type": "scatter3d"
           }
          ],
          "scattercarpet": [
           {
            "marker": {
             "colorbar": {
              "outlinewidth": 0,
              "ticks": ""
             }
            },
            "type": "scattercarpet"
           }
          ],
          "scattergeo": [
           {
            "marker": {
             "colorbar": {
              "outlinewidth": 0,
              "ticks": ""
             }
            },
            "type": "scattergeo"
           }
          ],
          "scattergl": [
           {
            "marker": {
             "colorbar": {
              "outlinewidth": 0,
              "ticks": ""
             }
            },
            "type": "scattergl"
           }
          ],
          "scattermapbox": [
           {
            "marker": {
             "colorbar": {
              "outlinewidth": 0,
              "ticks": ""
             }
            },
            "type": "scattermapbox"
           }
          ],
          "scatterpolar": [
           {
            "marker": {
             "colorbar": {
              "outlinewidth": 0,
              "ticks": ""
             }
            },
            "type": "scatterpolar"
           }
          ],
          "scatterpolargl": [
           {
            "marker": {
             "colorbar": {
              "outlinewidth": 0,
              "ticks": ""
             }
            },
            "type": "scatterpolargl"
           }
          ],
          "scatterternary": [
           {
            "marker": {
             "colorbar": {
              "outlinewidth": 0,
              "ticks": ""
             }
            },
            "type": "scatterternary"
           }
          ],
          "surface": [
           {
            "colorbar": {
             "outlinewidth": 0,
             "ticks": ""
            },
            "colorscale": [
             [
              0,
              "#0d0887"
             ],
             [
              0.1111111111111111,
              "#46039f"
             ],
             [
              0.2222222222222222,
              "#7201a8"
             ],
             [
              0.3333333333333333,
              "#9c179e"
             ],
             [
              0.4444444444444444,
              "#bd3786"
             ],
             [
              0.5555555555555556,
              "#d8576b"
             ],
             [
              0.6666666666666666,
              "#ed7953"
             ],
             [
              0.7777777777777778,
              "#fb9f3a"
             ],
             [
              0.8888888888888888,
              "#fdca26"
             ],
             [
              1,
              "#f0f921"
             ]
            ],
            "type": "surface"
           }
          ],
          "table": [
           {
            "cells": {
             "fill": {
              "color": "#EBF0F8"
             },
             "line": {
              "color": "white"
             }
            },
            "header": {
             "fill": {
              "color": "#C8D4E3"
             },
             "line": {
              "color": "white"
             }
            },
            "type": "table"
           }
          ]
         },
         "layout": {
          "annotationdefaults": {
           "arrowcolor": "#2a3f5f",
           "arrowhead": 0,
           "arrowwidth": 1
          },
          "coloraxis": {
           "colorbar": {
            "outlinewidth": 0,
            "ticks": ""
           }
          },
          "colorscale": {
           "diverging": [
            [
             0,
             "#8e0152"
            ],
            [
             0.1,
             "#c51b7d"
            ],
            [
             0.2,
             "#de77ae"
            ],
            [
             0.3,
             "#f1b6da"
            ],
            [
             0.4,
             "#fde0ef"
            ],
            [
             0.5,
             "#f7f7f7"
            ],
            [
             0.6,
             "#e6f5d0"
            ],
            [
             0.7,
             "#b8e186"
            ],
            [
             0.8,
             "#7fbc41"
            ],
            [
             0.9,
             "#4d9221"
            ],
            [
             1,
             "#276419"
            ]
           ],
           "sequential": [
            [
             0,
             "#0d0887"
            ],
            [
             0.1111111111111111,
             "#46039f"
            ],
            [
             0.2222222222222222,
             "#7201a8"
            ],
            [
             0.3333333333333333,
             "#9c179e"
            ],
            [
             0.4444444444444444,
             "#bd3786"
            ],
            [
             0.5555555555555556,
             "#d8576b"
            ],
            [
             0.6666666666666666,
             "#ed7953"
            ],
            [
             0.7777777777777778,
             "#fb9f3a"
            ],
            [
             0.8888888888888888,
             "#fdca26"
            ],
            [
             1,
             "#f0f921"
            ]
           ],
           "sequentialminus": [
            [
             0,
             "#0d0887"
            ],
            [
             0.1111111111111111,
             "#46039f"
            ],
            [
             0.2222222222222222,
             "#7201a8"
            ],
            [
             0.3333333333333333,
             "#9c179e"
            ],
            [
             0.4444444444444444,
             "#bd3786"
            ],
            [
             0.5555555555555556,
             "#d8576b"
            ],
            [
             0.6666666666666666,
             "#ed7953"
            ],
            [
             0.7777777777777778,
             "#fb9f3a"
            ],
            [
             0.8888888888888888,
             "#fdca26"
            ],
            [
             1,
             "#f0f921"
            ]
           ]
          },
          "colorway": [
           "#636efa",
           "#EF553B",
           "#00cc96",
           "#ab63fa",
           "#FFA15A",
           "#19d3f3",
           "#FF6692",
           "#B6E880",
           "#FF97FF",
           "#FECB52"
          ],
          "font": {
           "color": "#2a3f5f"
          },
          "geo": {
           "bgcolor": "white",
           "lakecolor": "white",
           "landcolor": "#E5ECF6",
           "showlakes": true,
           "showland": true,
           "subunitcolor": "white"
          },
          "hoverlabel": {
           "align": "left"
          },
          "hovermode": "closest",
          "mapbox": {
           "style": "light"
          },
          "paper_bgcolor": "white",
          "plot_bgcolor": "#E5ECF6",
          "polar": {
           "angularaxis": {
            "gridcolor": "white",
            "linecolor": "white",
            "ticks": ""
           },
           "bgcolor": "#E5ECF6",
           "radialaxis": {
            "gridcolor": "white",
            "linecolor": "white",
            "ticks": ""
           }
          },
          "scene": {
           "xaxis": {
            "backgroundcolor": "#E5ECF6",
            "gridcolor": "white",
            "gridwidth": 2,
            "linecolor": "white",
            "showbackground": true,
            "ticks": "",
            "zerolinecolor": "white"
           },
           "yaxis": {
            "backgroundcolor": "#E5ECF6",
            "gridcolor": "white",
            "gridwidth": 2,
            "linecolor": "white",
            "showbackground": true,
            "ticks": "",
            "zerolinecolor": "white"
           },
           "zaxis": {
            "backgroundcolor": "#E5ECF6",
            "gridcolor": "white",
            "gridwidth": 2,
            "linecolor": "white",
            "showbackground": true,
            "ticks": "",
            "zerolinecolor": "white"
           }
          },
          "shapedefaults": {
           "line": {
            "color": "#2a3f5f"
           }
          },
          "ternary": {
           "aaxis": {
            "gridcolor": "white",
            "linecolor": "white",
            "ticks": ""
           },
           "baxis": {
            "gridcolor": "white",
            "linecolor": "white",
            "ticks": ""
           },
           "bgcolor": "#E5ECF6",
           "caxis": {
            "gridcolor": "white",
            "linecolor": "white",
            "ticks": ""
           }
          },
          "title": {
           "x": 0.05
          },
          "xaxis": {
           "automargin": true,
           "gridcolor": "white",
           "linecolor": "white",
           "ticks": "",
           "title": {
            "standoff": 15
           },
           "zerolinecolor": "white",
           "zerolinewidth": 2
          },
          "yaxis": {
           "automargin": true,
           "gridcolor": "white",
           "linecolor": "white",
           "ticks": "",
           "title": {
            "standoff": 15
           },
           "zerolinecolor": "white",
           "zerolinewidth": 2
          }
         }
        },
        "title": {
         "text": "Incidents per Zip"
        }
       }
      },
      "text/html": [
       "<div>\n",
       "        \n",
       "        \n",
       "            <div id=\"d0669af2-e683-404c-9aef-04a0e70a6090\" class=\"plotly-graph-div\" style=\"height:600px; width:100%;\"></div>\n",
       "            <script type=\"text/javascript\">\n",
       "                require([\"plotly\"], function(Plotly) {\n",
       "                    window.PLOTLYENV=window.PLOTLYENV || {};\n",
       "                    \n",
       "                if (document.getElementById(\"d0669af2-e683-404c-9aef-04a0e70a6090\")) {\n",
       "                    Plotly.newPlot(\n",
       "                        'd0669af2-e683-404c-9aef-04a0e70a6090',\n",
       "                        [{\"customdata\": [[11226, 1898], [10453, 1736], [10458, 1536], [10457, 1504], [11221, 1489], [10456, 1394], [10468, 1390], [10467, 1390], [11207, 1338], [11233, 1303], [10452, 1169], [11213, 1168], [11212, 1029], [10031, 1014], [10032, 1013], [10459, 948], [11225, 946], [10460, 928], [11237, 926], [11216, 920], [10472, 880], [11203, 839], [10033, 815], [10451, 778], [10040, 702], [10027, 699], [10030, 657], [11208, 654], [10034, 605], [11215, 567], [11238, 560], [11220, 549], [10466, 534], [10462, 534], [11206, 498], [10035, 490], [11218, 470], [10455, 459], [11385, 418], [10026, 409], [11204, 389], [10454, 384], [11230, 372], [10029, 359], [11214, 355], [10025, 353], [11691, 304], [10463, 302], [11211, 297], [11222, 279], [10039, 265], [11232, 264], [11210, 258], [11367, 242], [11373, 233], [11377, 223], [11236, 207], [11223, 194], [11219, 194], [10002, 191], [10011, 190], [10301, 181], [10461, 177], [10474, 176], [10028, 174], [11217, 173], [11368, 168], [10009, 167], [10024, 164], [10304, 162], [11235, 160], [10469, 146], [10470, 142], [11224, 139], [10012, 139], [10003, 134], [11372, 133], [11229, 126], [11418, 123], [11105, 122], [11209, 113], [10019, 111], [10303, 107], [11432, 107], [10473, 106], [10001, 105], [11201, 101], [11106, 96], [10037, 94], [11249, 92], [11412, 91], [11355, 91], [10128, 91], [11375, 89], [10036, 85], [11435, 83], [11434, 83], [11205, 81], [10302, 81], [11433, 78], [11102, 76], [11427, 76], [11416, 75], [11101, 72], [11413, 72], [10465, 70], [11104, 68], [10016, 65], [10014, 65], [10310, 60], [10010, 59], [11374, 58], [11231, 55], [11369, 55], [11420, 55], [10021, 52], [11423, 51], [11429, 51], [11692, 51], [10023, 45], [11356, 44], [11103, 40], [10314, 40], [11414, 39], [11436, 39], [11419, 38], [11694, 36], [11421, 35], [11365, 34], [10022, 32], [10013, 32], [10312, 31], [11234, 31], [11415, 29], [11228, 25], [11379, 25], [10038, 24], [11378, 23], [11422, 22], [10306, 21], [11361, 20], [11354, 19], [10305, 18], [10044, 18], [11364, 17], [10471, 16], [10018, 13], [10280, 12], [11693, 11], [11358, 11], [10017, 10], [11239, 10], [11370, 8], [11411, 7], [11428, 7], [10129, 7], [11417, 6], [11357, 4], [11366, 3], [10464, 3], [10309, 2], [10475, 2], [11426, 1], [10307, 1], [10005, 1], [11360, 1]], \"hoverlabel\": {\"namelength\": 0}, \"hovertemplate\": \"<b>%{hovertext}</b><br><br>count=%{customdata[1]}<br>zip=%{customdata[0]}<br>long=%{lat}<br>lat=%{lon}\", \"hovertext\": [\"Brooklyn\", \"Bronx\", \"Bronx\", \"Bronx\", \"Brooklyn\", \"Bronx\", \"Bronx\", \"Bronx\", \"Brooklyn\", \"Brooklyn\", \"Bronx\", \"Brooklyn\", \"Brooklyn\", \"New York\", \"New York\", \"Bronx\", \"Brooklyn\", \"Bronx\", \"Brooklyn\", \"Brooklyn\", \"Bronx\", \"Brooklyn\", \"New York\", \"Bronx\", \"New York\", \"New York\", \"New York\", \"Brooklyn\", \"New York\", \"Brooklyn\", \"Brooklyn\", \"Brooklyn\", \"Bronx\", \"Bronx\", \"Brooklyn\", \"New York\", \"Brooklyn\", \"Bronx\", \"Ridgewood\", \"New York\", \"Brooklyn\", \"Bronx\", \"Brooklyn\", \"New York\", \"Brooklyn\", \"New York\", \"Far Rockaway\", \"Bronx\", \"Brooklyn\", \"Brooklyn\", \"New York\", \"Brooklyn\", \"Brooklyn\", \"Flushing\", \"Elmhurst\", \"Woodside\", \"Brooklyn\", \"Brooklyn\", \"Brooklyn\", \"New York\", \"New York\", \"Staten Island\", \"Bronx\", \"Bronx\", \"New York\", \"Brooklyn\", \"Corona\", \"New York\", \"New York\", \"Staten Island\", \"Brooklyn\", \"Bronx\", \"Bronx\", \"Brooklyn\", \"New York\", \"New York\", \"Jackson Heights\", \"Brooklyn\", \"Richmond Hill\", \"Astoria\", \"Brooklyn\", \"New York\", \"Staten Island\", \"Jamaica\", \"Bronx\", \"New York\", \"Brooklyn\", \"Astoria\", \"New York\", \"Brooklyn\", \"Saint Albans\", \"Flushing\", \"New York\", \"Forest Hills\", \"New York\", \"Jamaica\", \"Jamaica\", \"Brooklyn\", \"Staten Island\", \"Jamaica\", \"Astoria\", \"Queens Village\", \"Ozone Park\", \"Long Island City\", \"Springfield Gardens\", \"Bronx\", \"Sunnyside\", \"New York\", \"New York\", \"Staten Island\", \"New York\", \"Rego Park\", \"Brooklyn\", \"East Elmhurst\", \"South Ozone Park\", \"New York\", \"Hollis\", \"Queens Village\", \"Arverne\", \"New York\", \"College Point\", \"Astoria\", \"Staten Island\", \"Howard Beach\", \"Jamaica\", \"South Richmond Hill\", \"Rockaway Park\", \"Woodhaven\", \"Fresh Meadows\", \"New York\", \"New York\", \"Staten Island\", \"Brooklyn\", \"Kew Gardens\", \"Brooklyn\", \"Middle Village\", \"New York\", \"Maspeth\", \"Rosedale\", \"Staten Island\", \"Bayside\", \"Flushing\", \"Staten Island\", \"New York\", \"Oakland Gardens\", \"Bronx\", \"New York\", \"New York\", \"Far Rockaway\", \"Flushing\", \"New York\", \"Brooklyn\", \"East Elmhurst\", \"Cambria Heights\", \"Queens Village\", \"New York\", \"Ozone Park\", \"Whitestone\", \"Fresh Meadows\", \"Bronx\", \"Staten Island\", \"Bronx\", \"Bellerose\", \"Staten Island\", \"New York\", \"Bayside\"], \"lat\": [40.645255999999996, 40.853017, 40.864166, 40.846745, 40.691234, 40.829676, 40.867107, 40.872265000000006, 40.670874, 40.676938, 40.838745, 40.670937, 40.662191, 40.826201, 40.840686, 40.825432, 40.662892, 40.84095, 40.703355, 40.680398, 40.830409, 40.649059, 40.848764, 40.819728999999995, 40.858703999999996, 40.812665, 40.818151, 40.672666, 40.867653000000004, 40.667508000000005, 40.680145, 40.641436, 40.89095, 40.842172999999995, 40.702348, 40.802395000000004, 40.644552000000004, 40.815559, 40.703069, 40.802853000000006, 40.618944, 40.805968, 40.622994, 40.791585999999995, 40.598994, 40.798502, 40.60002, 40.881085999999996, 40.71209, 40.726302000000004, 40.826181, 40.655481, 40.627946, 40.728614, 40.736076000000004, 40.742869, 40.640527, 40.598141999999996, 40.632449, 40.717040000000004, 40.741012, 40.631775, 40.842917, 40.81321, 40.776777, 40.68209, 40.747106, 40.727093, 40.786387, 40.60787, 40.583803, 40.868643, 40.900628999999995, 40.576589, 40.72596, 40.732509, 40.750146, 40.599256, 40.698485, 40.774685999999996, 40.62327, 40.765714, 40.629448, 40.714144, 40.818514, 40.750741999999995, 40.695285999999996, 40.762012, 40.813385, 40.645099, 40.697188, 40.749463, 40.781894, 40.720535, 40.759510999999996, 40.700068, 40.674888, 40.694214, 40.631127, 40.696538000000004, 40.771285999999996, 40.728235, 40.683301, 40.745340999999996, 40.670138, 40.825727, 40.743796, 40.746179999999995, 40.734718, 40.63212, 40.739022, 40.724945, 40.6788, 40.762854, 40.673138, 40.76842, 40.714261, 40.708833, 40.592939, 40.776099, 40.785462, 40.762968, 40.606336999999996, 40.658188, 40.674146, 40.688688, 40.57649, 40.690870000000004, 40.738983000000005, 40.759015000000005, 40.720665999999994, 40.543116999999995, 40.618561, 40.706903000000004, 40.617563, 40.716028, 40.709677, 40.724096, 40.662538, 40.569394, 40.763177, 40.767969, 40.599021, 40.762174, 40.746718, 40.900819, 40.755101, 40.707467, 40.596959000000005, 40.760521999999995, 40.752159000000006, 40.645848, 40.763015, 40.693538000000004, 40.719981, 40.780751, 40.675534000000006, 40.784453000000006, 40.726137, 40.857017, 40.529749, 40.878522, 40.732239, 40.508274, 40.706019, 40.780386], \"legendgroup\": \"\", \"lon\": [-73.95553000000001, -73.91214000000001, -73.88880999999999, -73.89860999999999, -73.92636999999999, -73.90856, -73.89916, -73.86936999999999, -73.89424, -73.91858, -73.92234, -73.93459, -73.91328, -73.94879, -73.94154, -73.89327, -73.95509, -73.88036, -73.91993000000001, -73.94824, -73.86845, -73.93304, -73.93496, -73.9223, -73.92853000000001, -73.95499000000001, -73.94351, -73.87248000000001, -73.92, -73.9856, -73.96257, -74.01574000000001, -73.84702, -73.85862, -73.94288, -73.93359, -73.97595, -73.90771, -73.89285, -73.95470999999999, -73.98473, -73.91628, -73.96427, -73.94575, -73.99611, -73.96811, -73.75962, -73.90749, -73.95427, -73.94559, -73.9371, -74.00424, -73.94552, -73.82145, -73.87804, -73.90377, -73.90361999999999, -73.97229, -73.99629, -73.987, -74.00012, -74.09432, -73.83819, -73.88755, -73.9541, -73.97783000000001, -73.85838000000001, -73.97864, -73.97709, -74.08991, -73.95019, -73.84735, -73.86072, -73.99172, -73.99834, -73.98935, -73.88433, -73.94118, -73.83365, -73.90816, -74.0295, -73.9856, -74.16239, -73.79324, -73.85893, -73.99653, -73.98907, -73.93146999999999, -73.93616, -73.945032, -73.75948000000001, -73.81940999999999, -73.95039, -73.84581999999999, -73.99019, -73.80986, -73.7727, -73.96529, -74.13715, -73.78734, -73.92461999999999, -73.74781999999999, -73.8503, -73.93907, -73.75140999999999, -73.81752, -73.91949, -73.97759, -74.00532, -74.11551, -73.98205, -73.8609, -74.00254, -73.87051, -73.81443, -73.96045, -73.76824, -73.73903, -73.79568, -73.98285, -73.84366, -73.91091, -74.14513000000001, -73.84321, -73.79687, -73.82216, -73.84721, -73.85828000000001, -73.79209, -73.96732, -74.00525999999999, -74.17628, -73.9216, -73.82973, -74.01168, -73.87925, -74.00365, -73.90271, -73.73514, -74.11785, -73.77391999999999, -73.82496, -74.07503, -73.94917, -73.75994, -73.90347, -73.99337, -74.0178, -73.81978000000001, -73.79612, -73.97231, -73.87919000000001, -73.89052, -73.73574, -73.74127, -73.977182, -73.84476, -73.80922, -73.79502, -73.78903000000001, -74.21304, -73.82540999999999, -73.72108, -74.24387, -74.00858000000001, -73.78005], \"marker\": {\"color\": \"#636efa\", \"size\": [1898, 1736, 1536, 1504, 1489, 1394, 1390, 1390, 1338, 1303, 1169, 1168, 1029, 1014, 1013, 948, 946, 928, 926, 920, 880, 839, 815, 778, 702, 699, 657, 654, 605, 567, 560, 549, 534, 534, 498, 490, 470, 459, 418, 409, 389, 384, 372, 359, 355, 353, 304, 302, 297, 279, 265, 264, 258, 242, 233, 223, 207, 194, 194, 191, 190, 181, 177, 176, 174, 173, 168, 167, 164, 162, 160, 146, 142, 139, 139, 134, 133, 126, 123, 122, 113, 111, 107, 107, 106, 105, 101, 96, 94, 92, 91, 91, 91, 89, 85, 83, 83, 81, 81, 78, 76, 76, 75, 72, 72, 70, 68, 65, 65, 60, 59, 58, 55, 55, 55, 52, 51, 51, 51, 45, 44, 40, 40, 39, 39, 38, 36, 35, 34, 32, 32, 31, 31, 29, 25, 25, 24, 23, 22, 21, 20, 19, 18, 18, 17, 16, 13, 12, 11, 11, 10, 10, 8, 7, 7, 7, 6, 4, 3, 3, 2, 2, 1, 1, 1, 1], \"sizemode\": \"area\", \"sizeref\": 4.745}, \"mode\": \"markers\", \"name\": \"\", \"showlegend\": false, \"subplot\": \"mapbox\", \"type\": \"scattermapbox\"}],\n",
       "                        {\"height\": 600, \"legend\": {\"itemsizing\": \"constant\", \"tracegroupgap\": 0}, \"mapbox\": {\"accesstoken\": \"pk.eyJ1IjoiYmNvaGVuOSIsImEiOiJjazMyYWF5OHYwYTZ3M25ubzFmMTRiNnNtIn0.8Kusg2VIJV3-cV2L2V7uHA\", \"center\": {\"lat\": 40.726114692771105, \"lon\": -73.9173353253012}, \"domain\": {\"x\": [0.0, 1.0], \"y\": [0.0, 1.0]}, \"style\": \"light\", \"zoom\": 8}, \"margin\": {\"b\": 0, \"l\": 0, \"r\": 0, \"t\": 100}, \"template\": {\"data\": {\"bar\": [{\"error_x\": {\"color\": \"#2a3f5f\"}, \"error_y\": {\"color\": \"#2a3f5f\"}, \"marker\": {\"line\": {\"color\": \"#E5ECF6\", \"width\": 0.5}}, \"type\": \"bar\"}], \"barpolar\": [{\"marker\": {\"line\": {\"color\": \"#E5ECF6\", \"width\": 0.5}}, \"type\": \"barpolar\"}], \"carpet\": [{\"aaxis\": {\"endlinecolor\": \"#2a3f5f\", \"gridcolor\": \"white\", \"linecolor\": \"white\", \"minorgridcolor\": \"white\", \"startlinecolor\": \"#2a3f5f\"}, \"baxis\": {\"endlinecolor\": \"#2a3f5f\", \"gridcolor\": \"white\", \"linecolor\": \"white\", \"minorgridcolor\": \"white\", \"startlinecolor\": \"#2a3f5f\"}, \"type\": \"carpet\"}], \"choropleth\": [{\"colorbar\": {\"outlinewidth\": 0, \"ticks\": \"\"}, \"type\": \"choropleth\"}], \"contour\": [{\"colorbar\": {\"outlinewidth\": 0, \"ticks\": \"\"}, \"colorscale\": [[0.0, \"#0d0887\"], [0.1111111111111111, \"#46039f\"], [0.2222222222222222, \"#7201a8\"], [0.3333333333333333, \"#9c179e\"], [0.4444444444444444, \"#bd3786\"], [0.5555555555555556, \"#d8576b\"], [0.6666666666666666, \"#ed7953\"], [0.7777777777777778, \"#fb9f3a\"], [0.8888888888888888, \"#fdca26\"], [1.0, \"#f0f921\"]], \"type\": \"contour\"}], \"contourcarpet\": [{\"colorbar\": {\"outlinewidth\": 0, \"ticks\": \"\"}, \"type\": \"contourcarpet\"}], \"heatmap\": [{\"colorbar\": {\"outlinewidth\": 0, \"ticks\": \"\"}, \"colorscale\": [[0.0, \"#0d0887\"], [0.1111111111111111, \"#46039f\"], [0.2222222222222222, \"#7201a8\"], [0.3333333333333333, \"#9c179e\"], [0.4444444444444444, \"#bd3786\"], [0.5555555555555556, \"#d8576b\"], [0.6666666666666666, \"#ed7953\"], [0.7777777777777778, \"#fb9f3a\"], [0.8888888888888888, \"#fdca26\"], [1.0, \"#f0f921\"]], \"type\": \"heatmap\"}], \"heatmapgl\": [{\"colorbar\": {\"outlinewidth\": 0, \"ticks\": \"\"}, \"colorscale\": [[0.0, \"#0d0887\"], [0.1111111111111111, \"#46039f\"], [0.2222222222222222, \"#7201a8\"], [0.3333333333333333, \"#9c179e\"], [0.4444444444444444, \"#bd3786\"], [0.5555555555555556, \"#d8576b\"], [0.6666666666666666, \"#ed7953\"], [0.7777777777777778, \"#fb9f3a\"], [0.8888888888888888, \"#fdca26\"], [1.0, \"#f0f921\"]], \"type\": \"heatmapgl\"}], \"histogram\": [{\"marker\": {\"colorbar\": {\"outlinewidth\": 0, \"ticks\": \"\"}}, \"type\": \"histogram\"}], \"histogram2d\": [{\"colorbar\": {\"outlinewidth\": 0, \"ticks\": \"\"}, \"colorscale\": [[0.0, \"#0d0887\"], [0.1111111111111111, \"#46039f\"], [0.2222222222222222, \"#7201a8\"], [0.3333333333333333, \"#9c179e\"], [0.4444444444444444, \"#bd3786\"], [0.5555555555555556, \"#d8576b\"], [0.6666666666666666, \"#ed7953\"], [0.7777777777777778, \"#fb9f3a\"], [0.8888888888888888, \"#fdca26\"], [1.0, \"#f0f921\"]], \"type\": \"histogram2d\"}], \"histogram2dcontour\": [{\"colorbar\": {\"outlinewidth\": 0, \"ticks\": \"\"}, \"colorscale\": [[0.0, \"#0d0887\"], [0.1111111111111111, \"#46039f\"], [0.2222222222222222, \"#7201a8\"], [0.3333333333333333, \"#9c179e\"], [0.4444444444444444, \"#bd3786\"], [0.5555555555555556, \"#d8576b\"], [0.6666666666666666, \"#ed7953\"], [0.7777777777777778, \"#fb9f3a\"], [0.8888888888888888, \"#fdca26\"], [1.0, \"#f0f921\"]], \"type\": \"histogram2dcontour\"}], \"mesh3d\": [{\"colorbar\": {\"outlinewidth\": 0, \"ticks\": \"\"}, \"type\": \"mesh3d\"}], \"parcoords\": [{\"line\": {\"colorbar\": {\"outlinewidth\": 0, \"ticks\": \"\"}}, \"type\": \"parcoords\"}], \"pie\": [{\"automargin\": true, \"type\": \"pie\"}], \"scatter\": [{\"marker\": {\"colorbar\": {\"outlinewidth\": 0, \"ticks\": \"\"}}, \"type\": \"scatter\"}], \"scatter3d\": [{\"line\": {\"colorbar\": {\"outlinewidth\": 0, \"ticks\": \"\"}}, \"marker\": {\"colorbar\": {\"outlinewidth\": 0, \"ticks\": \"\"}}, \"type\": \"scatter3d\"}], \"scattercarpet\": [{\"marker\": {\"colorbar\": {\"outlinewidth\": 0, \"ticks\": \"\"}}, \"type\": \"scattercarpet\"}], \"scattergeo\": [{\"marker\": {\"colorbar\": {\"outlinewidth\": 0, \"ticks\": \"\"}}, \"type\": \"scattergeo\"}], \"scattergl\": [{\"marker\": {\"colorbar\": {\"outlinewidth\": 0, \"ticks\": \"\"}}, \"type\": \"scattergl\"}], \"scattermapbox\": [{\"marker\": {\"colorbar\": {\"outlinewidth\": 0, \"ticks\": \"\"}}, \"type\": \"scattermapbox\"}], \"scatterpolar\": [{\"marker\": {\"colorbar\": {\"outlinewidth\": 0, \"ticks\": \"\"}}, \"type\": \"scatterpolar\"}], \"scatterpolargl\": [{\"marker\": {\"colorbar\": {\"outlinewidth\": 0, \"ticks\": \"\"}}, \"type\": \"scatterpolargl\"}], \"scatterternary\": [{\"marker\": {\"colorbar\": {\"outlinewidth\": 0, \"ticks\": \"\"}}, \"type\": \"scatterternary\"}], \"surface\": [{\"colorbar\": {\"outlinewidth\": 0, \"ticks\": \"\"}, \"colorscale\": [[0.0, \"#0d0887\"], [0.1111111111111111, \"#46039f\"], [0.2222222222222222, \"#7201a8\"], [0.3333333333333333, \"#9c179e\"], [0.4444444444444444, \"#bd3786\"], [0.5555555555555556, \"#d8576b\"], [0.6666666666666666, \"#ed7953\"], [0.7777777777777778, \"#fb9f3a\"], [0.8888888888888888, \"#fdca26\"], [1.0, \"#f0f921\"]], \"type\": \"surface\"}], \"table\": [{\"cells\": {\"fill\": {\"color\": \"#EBF0F8\"}, \"line\": {\"color\": \"white\"}}, \"header\": {\"fill\": {\"color\": \"#C8D4E3\"}, \"line\": {\"color\": \"white\"}}, \"type\": \"table\"}]}, \"layout\": {\"annotationdefaults\": {\"arrowcolor\": \"#2a3f5f\", \"arrowhead\": 0, \"arrowwidth\": 1}, \"coloraxis\": {\"colorbar\": {\"outlinewidth\": 0, \"ticks\": \"\"}}, \"colorscale\": {\"diverging\": [[0, \"#8e0152\"], [0.1, \"#c51b7d\"], [0.2, \"#de77ae\"], [0.3, \"#f1b6da\"], [0.4, \"#fde0ef\"], [0.5, \"#f7f7f7\"], [0.6, \"#e6f5d0\"], [0.7, \"#b8e186\"], [0.8, \"#7fbc41\"], [0.9, \"#4d9221\"], [1, \"#276419\"]], \"sequential\": [[0.0, \"#0d0887\"], [0.1111111111111111, \"#46039f\"], [0.2222222222222222, \"#7201a8\"], [0.3333333333333333, \"#9c179e\"], [0.4444444444444444, \"#bd3786\"], [0.5555555555555556, \"#d8576b\"], [0.6666666666666666, \"#ed7953\"], [0.7777777777777778, \"#fb9f3a\"], [0.8888888888888888, \"#fdca26\"], [1.0, \"#f0f921\"]], \"sequentialminus\": [[0.0, \"#0d0887\"], [0.1111111111111111, \"#46039f\"], [0.2222222222222222, \"#7201a8\"], [0.3333333333333333, \"#9c179e\"], [0.4444444444444444, \"#bd3786\"], [0.5555555555555556, \"#d8576b\"], [0.6666666666666666, \"#ed7953\"], [0.7777777777777778, \"#fb9f3a\"], [0.8888888888888888, \"#fdca26\"], [1.0, \"#f0f921\"]]}, \"colorway\": [\"#636efa\", \"#EF553B\", \"#00cc96\", \"#ab63fa\", \"#FFA15A\", \"#19d3f3\", \"#FF6692\", \"#B6E880\", \"#FF97FF\", \"#FECB52\"], \"font\": {\"color\": \"#2a3f5f\"}, \"geo\": {\"bgcolor\": \"white\", \"lakecolor\": \"white\", \"landcolor\": \"#E5ECF6\", \"showlakes\": true, \"showland\": true, \"subunitcolor\": \"white\"}, \"hoverlabel\": {\"align\": \"left\"}, \"hovermode\": \"closest\", \"mapbox\": {\"style\": \"light\"}, \"paper_bgcolor\": \"white\", \"plot_bgcolor\": \"#E5ECF6\", \"polar\": {\"angularaxis\": {\"gridcolor\": \"white\", \"linecolor\": \"white\", \"ticks\": \"\"}, \"bgcolor\": \"#E5ECF6\", \"radialaxis\": {\"gridcolor\": \"white\", \"linecolor\": \"white\", \"ticks\": \"\"}}, \"scene\": {\"xaxis\": {\"backgroundcolor\": \"#E5ECF6\", \"gridcolor\": \"white\", \"gridwidth\": 2, \"linecolor\": \"white\", \"showbackground\": true, \"ticks\": \"\", \"zerolinecolor\": \"white\"}, \"yaxis\": {\"backgroundcolor\": \"#E5ECF6\", \"gridcolor\": \"white\", \"gridwidth\": 2, \"linecolor\": \"white\", \"showbackground\": true, \"ticks\": \"\", \"zerolinecolor\": \"white\"}, \"zaxis\": {\"backgroundcolor\": \"#E5ECF6\", \"gridcolor\": \"white\", \"gridwidth\": 2, \"linecolor\": \"white\", \"showbackground\": true, \"ticks\": \"\", \"zerolinecolor\": \"white\"}}, \"shapedefaults\": {\"line\": {\"color\": \"#2a3f5f\"}}, \"ternary\": {\"aaxis\": {\"gridcolor\": \"white\", \"linecolor\": \"white\", \"ticks\": \"\"}, \"baxis\": {\"gridcolor\": \"white\", \"linecolor\": \"white\", \"ticks\": \"\"}, \"bgcolor\": \"#E5ECF6\", \"caxis\": {\"gridcolor\": \"white\", \"linecolor\": \"white\", \"ticks\": \"\"}}, \"title\": {\"x\": 0.05}, \"xaxis\": {\"automargin\": true, \"gridcolor\": \"white\", \"linecolor\": \"white\", \"ticks\": \"\", \"title\": {\"standoff\": 15}, \"zerolinecolor\": \"white\", \"zerolinewidth\": 2}, \"yaxis\": {\"automargin\": true, \"gridcolor\": \"white\", \"linecolor\": \"white\", \"ticks\": \"\", \"title\": {\"standoff\": 15}, \"zerolinecolor\": \"white\", \"zerolinewidth\": 2}}}, \"title\": {\"text\": \"Incidents per Zip\"}},\n",
       "                        {\"responsive\": true}\n",
       "                    ).then(function(){\n",
       "                            \n",
       "var gd = document.getElementById('d0669af2-e683-404c-9aef-04a0e70a6090');\n",
       "var x = new MutationObserver(function (mutations, observer) {{\n",
       "        var display = window.getComputedStyle(gd).display;\n",
       "        if (!display || display === 'none') {{\n",
       "            console.log([gd, 'removed!']);\n",
       "            Plotly.purge(gd);\n",
       "            observer.disconnect();\n",
       "        }}\n",
       "}});\n",
       "\n",
       "// Listen for the removal of the full notebook cells\n",
       "var notebookContainer = gd.closest('#notebook-container');\n",
       "if (notebookContainer) {{\n",
       "    x.observe(notebookContainer, {childList: true});\n",
       "}}\n",
       "\n",
       "// Listen for the clearing of the current output cell\n",
       "var outputEl = gd.closest('.output');\n",
       "if (outputEl) {{\n",
       "    x.observe(outputEl, {childList: true});\n",
       "}}\n",
       "\n",
       "                        })\n",
       "                };\n",
       "                });\n",
       "            </script>\n",
       "        </div>"
      ]
     },
     "metadata": {},
     "output_type": "display_data"
    }
   ],
   "source": [
    "import plotly\n",
    "import plotly.express as px\n",
    "from plotly.offline import init_notebook_mode, iplot\n",
    "from plotly.graph_objs import *\n",
    "\n",
    "init_notebook_mode(connected=True)\n",
    "token = ''\n",
    "#px.set_mapbox_access_token(token) # You need a mapbox token to see the graph\n",
    "\n",
    "fig = px.scatter_mapbox(zipCounts, lat=\"long\", lon=\"lat\", hover_name=\"city\", hover_data=['zip','count'], # Yes, I flipped lat and long by accident\n",
    "                        size = \"count\")\n",
    "fig.update_layout(mapbox_style=\"light\")\n",
    "fig.update_layout(margin={\"r\":0,\"t\":100,\"l\":0,\"b\":0}, title = \"Incidents per Zip\")\n",
    "plotly.offline.iplot(fig)"
   ]
  },
  {
   "cell_type": "markdown",
   "metadata": {},
   "source": [
    "This graph shows the number of incidents in an area. The larger the circle, the more incidents To use this graph, simply click and drag to move around and use the mouse wheel to zoom in and out.\n"
   ]
  },
  {
   "cell_type": "markdown",
   "metadata": {},
   "source": [
    "Hovering over any of the circles shows which zip code it is agregating over, the name of the city, and the number of incidents there. This graph is good because of how much data it is showing. We see that there are definetly areas where there are a lot of housing incidents."
   ]
  },
  {
   "cell_type": "markdown",
   "metadata": {},
   "source": [
    "This is really important when it comes to renting an apartment. This graph indicates areas where buildings tend to have lots of problems. A small disclaimer with this graph is that it is possible that some areas have more incidents just because there are more people. This is why we can't make any reccomendations from this graph. "
   ]
  },
  {
   "cell_type": "markdown",
   "metadata": {},
   "source": [
    "Now let's try to see if there is anything problematic about how long each boroough takes to respond to incidents. If there is a borough that takes too long,that would indicate problems with how incidents are being dealt with.  "
   ]
  },
  {
   "cell_type": "code",
   "execution_count": 22,
   "metadata": {},
   "outputs": [],
   "source": [
    "inspection_date = df['inspectiondate']\n",
    "current_status_date = df['currentstatusdate']"
   ]
  },
  {
   "cell_type": "code",
   "execution_count": 23,
   "metadata": {},
   "outputs": [],
   "source": [
    "df['days_between'] = pd.to_timedelta(current_status_date - inspection_date, unit='d').dt.days\n",
    "closed_issues = df[df['currentstatus'] == 'VIOLATION CLOSED']"
   ]
  },
  {
   "cell_type": "code",
   "execution_count": 24,
   "metadata": {},
   "outputs": [
    {
     "data": {
      "text/html": [
       "<div>\n",
       "<style scoped>\n",
       "    .dataframe tbody tr th:only-of-type {\n",
       "        vertical-align: middle;\n",
       "    }\n",
       "\n",
       "    .dataframe tbody tr th {\n",
       "        vertical-align: top;\n",
       "    }\n",
       "\n",
       "    .dataframe thead th {\n",
       "        text-align: right;\n",
       "    }\n",
       "</style>\n",
       "<table border=\"1\" class=\"dataframe\">\n",
       "  <thead>\n",
       "    <tr style=\"text-align: right;\">\n",
       "      <th></th>\n",
       "      <th>days_between</th>\n",
       "      <th>boro</th>\n",
       "    </tr>\n",
       "  </thead>\n",
       "  <tbody>\n",
       "    <tr>\n",
       "      <th>0</th>\n",
       "      <td>8066</td>\n",
       "      <td>QUEENS</td>\n",
       "    </tr>\n",
       "    <tr>\n",
       "      <th>1</th>\n",
       "      <td>7568</td>\n",
       "      <td>QUEENS</td>\n",
       "    </tr>\n",
       "    <tr>\n",
       "      <th>2</th>\n",
       "      <td>7568</td>\n",
       "      <td>QUEENS</td>\n",
       "    </tr>\n",
       "    <tr>\n",
       "      <th>3</th>\n",
       "      <td>7566</td>\n",
       "      <td>QUEENS</td>\n",
       "    </tr>\n",
       "    <tr>\n",
       "      <th>4</th>\n",
       "      <td>11005</td>\n",
       "      <td>BROOKLYN</td>\n",
       "    </tr>\n",
       "  </tbody>\n",
       "</table>\n",
       "</div>"
      ],
      "text/plain": [
       "   days_between      boro\n",
       "0          8066    QUEENS\n",
       "1          7568    QUEENS\n",
       "2          7568    QUEENS\n",
       "3          7566    QUEENS\n",
       "4         11005  BROOKLYN"
      ]
     },
     "execution_count": 24,
     "metadata": {},
     "output_type": "execute_result"
    }
   ],
   "source": [
    "daysOpenDf = closed_issues[['days_between', 'boro']]\n",
    "daysOpenDf.head()"
   ]
  },
  {
   "cell_type": "code",
   "execution_count": 25,
   "metadata": {},
   "outputs": [],
   "source": [
    "daysOpenSeries = daysOpenDf.groupby('boro').median() #median to ignore outliers "
   ]
  },
  {
   "cell_type": "code",
   "execution_count": 26,
   "metadata": {},
   "outputs": [
    {
     "data": {
      "text/plain": [
       "<matplotlib.axes._subplots.AxesSubplot at 0x1892cc4e400>"
      ]
     },
     "execution_count": 26,
     "metadata": {},
     "output_type": "execute_result"
    },
    {
     "data": {
      "image/png": "[encoded data removed]",
      "text/plain": [
       "<Figure size 432x288 with 1 Axes>"
      ]
     },
     "metadata": {
      "needs_background": "light"
     },
     "output_type": "display_data"
    }
   ],
   "source": [
    "daysOpenSeries.plot.bar()"
   ]
  },
  {
   "cell_type": "markdown",
   "metadata": {},
   "source": [
    "Staten Island seems to take the longest to repond to incidents. They also have the fewest number of incidents so this difference might not be significant. It's a pretty noteworthy observation that these numbers don't differ so much.\n",
    "Although we found that certain boros have more incidents, the way they are dealt with is consistant and reasonable. This is good news! All that should be addressed is why Queens and Brooklyn have so many more incidents.  "
   ]
  },
  {
   "cell_type": "code",
   "execution_count": null,
   "metadata": {},
   "outputs": [],
   "source": []
  }
 ],
 "metadata": {
  "kernelspec": {
   "display_name": "Python 3",
   "language": "python",
   "name": "python3"
  },
  "language_info": {
   "codemirror_mode": {
    "name": "ipython",
    "version": 3
   },
   "file_extension": ".py",
   "mimetype": "text/x-python",
   "name": "python",
   "nbconvert_exporter": "python",
   "pygments_lexer": "ipython3",
   "version": "3.7.1"
  }
 },
 "nbformat": 4,
 "nbformat_minor": 2
}

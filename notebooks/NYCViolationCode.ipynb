{
 "cells": [
  {
   "cell_type": "code",
   "execution_count": 31,
   "metadata": {},
   "outputs": [
    {
     "ename": "ImportError",
     "evalue": "cannot import name 'gkey'",
     "output_type": "error",
     "traceback": [
      "\u001b[0;31m---------------------------------------------------------------------------\u001b[0m",
      "\u001b[0;31mImportError\u001b[0m                               Traceback (most recent call last)",
      "\u001b[0;32m<ipython-input-31-6ed54238b014>\u001b[0m in \u001b[0;36m<module>\u001b[0;34m()\u001b[0m\n\u001b[1;32m      9\u001b[0m \u001b[0;34m\u001b[0m\u001b[0m\n\u001b[1;32m     10\u001b[0m \u001b[0;31m# Google developer API key\u001b[0m\u001b[0;34m\u001b[0m\u001b[0;34m\u001b[0m\u001b[0m\n\u001b[0;32m---> 11\u001b[0;31m \u001b[0;32mfrom\u001b[0m \u001b[0mconfig\u001b[0m \u001b[0;32mimport\u001b[0m \u001b[0mgkey\u001b[0m\u001b[0;34m\u001b[0m\u001b[0m\n\u001b[0m",
      "\u001b[0;31mImportError\u001b[0m: cannot import name 'gkey'"
     ]
    }
   ],
   "source": [
    "import pandas as pd\n",
    "import matplotlib.pyplot as plt\n",
    "import numpy as np\n",
    "%matplotlib inline\n",
    "import gmaps\n",
    "# Dependencies\n",
    "import requests\n",
    "import json\n",
    "\n",
    "# Google developer API key\n",
    "from config import gkey"
   ]
  },
  {
   "cell_type": "code",
   "execution_count": 25,
   "metadata": {},
   "outputs": [],
   "source": [
    "df = pd.read_csv(\"https://data.cityofnewyork.us/resource/wvxf-dwi5.csv?$limit=50000\")"
   ]
  },
  {
   "cell_type": "code",
   "execution_count": 26,
   "metadata": {},
   "outputs": [
    {
     "data": {
      "text/html": [
       "<div>\n",
       "<style scoped>\n",
       "    .dataframe tbody tr th:only-of-type {\n",
       "        vertical-align: middle;\n",
       "    }\n",
       "\n",
       "    .dataframe tbody tr th {\n",
       "        vertical-align: top;\n",
       "    }\n",
       "\n",
       "    .dataframe thead th {\n",
       "        text-align: right;\n",
       "    }\n",
       "</style>\n",
       "<table border=\"1\" class=\"dataframe\">\n",
       "  <thead>\n",
       "    <tr style=\"text-align: right;\">\n",
       "      <th></th>\n",
       "      <th>violationid</th>\n",
       "      <th>buildingid</th>\n",
       "      <th>registrationid</th>\n",
       "      <th>boroid</th>\n",
       "      <th>boro</th>\n",
       "      <th>housenumber</th>\n",
       "      <th>lowhousenumber</th>\n",
       "      <th>highhousenumber</th>\n",
       "      <th>streetname</th>\n",
       "      <th>streetcode</th>\n",
       "      <th>...</th>\n",
       "      <th>novtype</th>\n",
       "      <th>violationstatus</th>\n",
       "      <th>latitude</th>\n",
       "      <th>longitude</th>\n",
       "      <th>communityboard</th>\n",
       "      <th>councildistrict</th>\n",
       "      <th>censustract</th>\n",
       "      <th>bin</th>\n",
       "      <th>bbl</th>\n",
       "      <th>nta</th>\n",
       "    </tr>\n",
       "  </thead>\n",
       "  <tbody>\n",
       "    <tr>\n",
       "      <th>0</th>\n",
       "      <td>10000009</td>\n",
       "      <td>265980</td>\n",
       "      <td>301467</td>\n",
       "      <td>3</td>\n",
       "      <td>BROOKLYN</td>\n",
       "      <td>355</td>\n",
       "      <td>355</td>\n",
       "      <td>355</td>\n",
       "      <td>EAST 48 STREET</td>\n",
       "      <td>36930</td>\n",
       "      <td>...</td>\n",
       "      <td>Original</td>\n",
       "      <td>Close</td>\n",
       "      <td>40.653217</td>\n",
       "      <td>-73.932480</td>\n",
       "      <td>17.0</td>\n",
       "      <td>41.0</td>\n",
       "      <td>870.0</td>\n",
       "      <td>3102071.0</td>\n",
       "      <td>3.046740e+09</td>\n",
       "      <td>East Flatbush-Farragut</td>\n",
       "    </tr>\n",
       "    <tr>\n",
       "      <th>1</th>\n",
       "      <td>10000011</td>\n",
       "      <td>73852</td>\n",
       "      <td>226626</td>\n",
       "      <td>2</td>\n",
       "      <td>BRONX</td>\n",
       "      <td>1123</td>\n",
       "      <td>1123</td>\n",
       "      <td>1123</td>\n",
       "      <td>EAST TREMONT AVENUE</td>\n",
       "      <td>29620</td>\n",
       "      <td>...</td>\n",
       "      <td>Original</td>\n",
       "      <td>Close</td>\n",
       "      <td>40.839954</td>\n",
       "      <td>-73.876599</td>\n",
       "      <td>6.0</td>\n",
       "      <td>15.0</td>\n",
       "      <td>220.0</td>\n",
       "      <td>2042428.0</td>\n",
       "      <td>2.040040e+09</td>\n",
       "      <td>East Tremont</td>\n",
       "    </tr>\n",
       "    <tr>\n",
       "      <th>2</th>\n",
       "      <td>10000012</td>\n",
       "      <td>80102</td>\n",
       "      <td>211704</td>\n",
       "      <td>2</td>\n",
       "      <td>BRONX</td>\n",
       "      <td>751</td>\n",
       "      <td>751</td>\n",
       "      <td>751</td>\n",
       "      <td>GERARD AVENUE</td>\n",
       "      <td>35020</td>\n",
       "      <td>...</td>\n",
       "      <td>Original</td>\n",
       "      <td>Close</td>\n",
       "      <td>40.824692</td>\n",
       "      <td>-73.926605</td>\n",
       "      <td>4.0</td>\n",
       "      <td>8.0</td>\n",
       "      <td>63.0</td>\n",
       "      <td>2002971.0</td>\n",
       "      <td>2.024820e+09</td>\n",
       "      <td>West Concourse</td>\n",
       "    </tr>\n",
       "    <tr>\n",
       "      <th>3</th>\n",
       "      <td>10000014</td>\n",
       "      <td>268639</td>\n",
       "      <td>350942</td>\n",
       "      <td>3</td>\n",
       "      <td>BROOKLYN</td>\n",
       "      <td>54</td>\n",
       "      <td>54</td>\n",
       "      <td>54</td>\n",
       "      <td>EAST 52 STREET</td>\n",
       "      <td>37080</td>\n",
       "      <td>...</td>\n",
       "      <td>Original</td>\n",
       "      <td>Close</td>\n",
       "      <td>40.659731</td>\n",
       "      <td>-73.929295</td>\n",
       "      <td>17.0</td>\n",
       "      <td>41.0</td>\n",
       "      <td>878.0</td>\n",
       "      <td>3099672.0</td>\n",
       "      <td>3.046050e+09</td>\n",
       "      <td>Prospect Lefferts Gardens-Wingate</td>\n",
       "    </tr>\n",
       "    <tr>\n",
       "      <th>4</th>\n",
       "      <td>10000017</td>\n",
       "      <td>268167</td>\n",
       "      <td>300713</td>\n",
       "      <td>3</td>\n",
       "      <td>BROOKLYN</td>\n",
       "      <td>146</td>\n",
       "      <td>146</td>\n",
       "      <td>146</td>\n",
       "      <td>EAST 52 STREET</td>\n",
       "      <td>37080</td>\n",
       "      <td>...</td>\n",
       "      <td>Original</td>\n",
       "      <td>Close</td>\n",
       "      <td>40.657615</td>\n",
       "      <td>-73.929067</td>\n",
       "      <td>17.0</td>\n",
       "      <td>41.0</td>\n",
       "      <td>878.0</td>\n",
       "      <td>3100214.0</td>\n",
       "      <td>3.046210e+09</td>\n",
       "      <td>Prospect Lefferts Gardens-Wingate</td>\n",
       "    </tr>\n",
       "  </tbody>\n",
       "</table>\n",
       "<p>5 rows × 40 columns</p>\n",
       "</div>"
      ],
      "text/plain": [
       "   violationid  buildingid  registrationid  boroid      boro housenumber  \\\n",
       "0     10000009      265980          301467       3  BROOKLYN         355   \n",
       "1     10000011       73852          226626       2     BRONX        1123   \n",
       "2     10000012       80102          211704       2     BRONX         751   \n",
       "3     10000014      268639          350942       3  BROOKLYN          54   \n",
       "4     10000017      268167          300713       3  BROOKLYN         146   \n",
       "\n",
       "  lowhousenumber highhousenumber           streetname  streetcode  \\\n",
       "0            355             355       EAST 48 STREET       36930   \n",
       "1           1123            1123  EAST TREMONT AVENUE       29620   \n",
       "2            751             751        GERARD AVENUE       35020   \n",
       "3             54              54       EAST 52 STREET       37080   \n",
       "4            146             146       EAST 52 STREET       37080   \n",
       "\n",
       "                 ...                   novtype violationstatus   latitude  \\\n",
       "0                ...                  Original           Close  40.653217   \n",
       "1                ...                  Original           Close  40.839954   \n",
       "2                ...                  Original           Close  40.824692   \n",
       "3                ...                  Original           Close  40.659731   \n",
       "4                ...                  Original           Close  40.657615   \n",
       "\n",
       "   longitude  communityboard councildistrict censustract        bin  \\\n",
       "0 -73.932480            17.0            41.0       870.0  3102071.0   \n",
       "1 -73.876599             6.0            15.0       220.0  2042428.0   \n",
       "2 -73.926605             4.0             8.0        63.0  2002971.0   \n",
       "3 -73.929295            17.0            41.0       878.0  3099672.0   \n",
       "4 -73.929067            17.0            41.0       878.0  3100214.0   \n",
       "\n",
       "            bbl                                nta  \n",
       "0  3.046740e+09             East Flatbush-Farragut  \n",
       "1  2.040040e+09                       East Tremont  \n",
       "2  2.024820e+09                     West Concourse  \n",
       "3  3.046050e+09  Prospect Lefferts Gardens-Wingate  \n",
       "4  3.046210e+09  Prospect Lefferts Gardens-Wingate  \n",
       "\n",
       "[5 rows x 40 columns]"
      ]
     },
     "execution_count": 26,
     "metadata": {},
     "output_type": "execute_result"
    }
   ],
   "source": [
    "df.head()"
   ]
  },
  {
   "cell_type": "code",
   "execution_count": 27,
   "metadata": {},
   "outputs": [
    {
     "name": "stdout",
     "output_type": "stream",
     "text": [
      "<class 'pandas.core.frame.DataFrame'>\n",
      "RangeIndex: 50000 entries, 0 to 49999\n",
      "Data columns (total 40 columns):\n",
      "violationid              50000 non-null int64\n",
      "buildingid               50000 non-null int64\n",
      "registrationid           50000 non-null int64\n",
      "boroid                   50000 non-null int64\n",
      "boro                     50000 non-null object\n",
      "housenumber              50000 non-null object\n",
      "lowhousenumber           49992 non-null object\n",
      "highhousenumber          50000 non-null object\n",
      "streetname               50000 non-null object\n",
      "streetcode               50000 non-null int64\n",
      "zip                      49999 non-null float64\n",
      "apartment                41561 non-null object\n",
      "story                    48093 non-null object\n",
      "block                    50000 non-null int64\n",
      "lot                      50000 non-null int64\n",
      "class                    50000 non-null object\n",
      "inspectiondate           50000 non-null object\n",
      "approveddate             50000 non-null object\n",
      "originalcertifybydate    49440 non-null object\n",
      "originalcorrectbydate    49440 non-null object\n",
      "newcertifybydate         507 non-null object\n",
      "newcorrectbydate         507 non-null object\n",
      "certifieddate            8902 non-null object\n",
      "ordernumber              50000 non-null int64\n",
      "novid                    50000 non-null int64\n",
      "novdescription           50000 non-null object\n",
      "novissueddate            49440 non-null object\n",
      "currentstatusid          50000 non-null int64\n",
      "currentstatus            50000 non-null object\n",
      "currentstatusdate        50000 non-null object\n",
      "novtype                  49440 non-null object\n",
      "violationstatus          50000 non-null object\n",
      "latitude                 49990 non-null float64\n",
      "longitude                49990 non-null float64\n",
      "communityboard           49990 non-null float64\n",
      "councildistrict          49990 non-null float64\n",
      "censustract              49990 non-null float64\n",
      "bin                      49919 non-null float64\n",
      "bbl                      49919 non-null float64\n",
      "nta                      49990 non-null object\n",
      "dtypes: float64(8), int64(10), object(22)\n",
      "memory usage: 15.3+ MB\n"
     ]
    }
   ],
   "source": [
    "df.info()"
   ]
  },
  {
   "cell_type": "code",
   "execution_count": 28,
   "metadata": {},
   "outputs": [],
   "source": [
    "#df.loc[:,'zip'] = df['zip'].astype(str)"
   ]
  },
  {
   "cell_type": "code",
   "execution_count": 29,
   "metadata": {},
   "outputs": [],
   "source": [
    "#locations = df[[\"latitude\", \"longitude\", 'zip']].head(30)\n",
    "#violations = df[\"violationid\"].astype(float)\n",
    "\n",
    "# Store latitude and longitude in locations\n",
    "locations = df[[\"latitude\", \"longitude\"]].astype(float)\n",
    "\n",
    "# Fill NaN values and convert to float\n",
    "violations = df[\"violationid\"].astype(float)"
   ]
  },
  {
   "cell_type": "code",
   "execution_count": 33,
   "metadata": {},
   "outputs": [],
   "source": [
    "# Plot Heatmap\n",
    "#fig = gmaps.figure()\n",
    "\n",
    "# Create heat layer\n",
    "#heat_layer = gmaps.heatmap_layer(locations, weights=violations, \n",
    "#                                 dissipating=False, max_intensity=10, And\n",
    "#                                point_radius=1)\n",
    "\n",
    "\n",
    "# Add layer\n",
    "#fig.add_layer(heat_layer)\n",
    "\n",
    "# Display figure\n",
    "#fig"
   ]
  },
  {
   "cell_type": "code",
   "execution_count": null,
   "metadata": {},
   "outputs": [],
   "source": [
    "#fig = gmaps.figure(map_type=\"HYBRID\")\n",
    "\n",
    "# Create heat layer\n",
    "#heat_layer = gmaps.heatmap_layer(locations, weights=rating, \n",
    "                                 dissipating=False, max_intensity=10,\n",
    "                                 point_radius=1)\n",
    "\n",
    "#fig.add_layer(heat_layer)\n",
    "#fig"
   ]
  },
  {
   "cell_type": "code",
   "execution_count": 40,
   "metadata": {},
   "outputs": [],
   "source": [
    "import os\n"
   ]
  },
  {
   "cell_type": "code",
   "execution_count": 45,
   "metadata": {},
   "outputs": [
    {
     "ename": "KeyError",
     "evalue": "'PROJ_LIB'",
     "output_type": "error",
     "traceback": [
      "\u001b[0;31m---------------------------------------------------------------------------\u001b[0m",
      "\u001b[0;31mKeyError\u001b[0m                                  Traceback (most recent call last)",
      "\u001b[0;32m<ipython-input-45-2c40a60b19e9>\u001b[0m in \u001b[0;36m<module>\u001b[0;34m()\u001b[0m\n\u001b[0;32m----> 1\u001b[0;31m \u001b[0;32mfrom\u001b[0m \u001b[0mmpl_toolkits\u001b[0m\u001b[0;34m.\u001b[0m\u001b[0mbasemap\u001b[0m \u001b[0;32mimport\u001b[0m \u001b[0mBasemap\u001b[0m\u001b[0;34m\u001b[0m\u001b[0m\n\u001b[0m\u001b[1;32m      2\u001b[0m \u001b[0;32mimport\u001b[0m \u001b[0mnumpy\u001b[0m \u001b[0;32mas\u001b[0m \u001b[0mnp\u001b[0m\u001b[0;34m\u001b[0m\u001b[0m\n\u001b[1;32m      3\u001b[0m \u001b[0;32mimport\u001b[0m \u001b[0mmatplotlib\u001b[0m\u001b[0;34m.\u001b[0m\u001b[0mpyplot\u001b[0m \u001b[0;32mas\u001b[0m \u001b[0mplt\u001b[0m\u001b[0;34m\u001b[0m\u001b[0m\n",
      "\u001b[0;32m~/anaconda3/lib/python3.6/site-packages/mpl_toolkits/basemap/__init__.py\u001b[0m in \u001b[0;36m<module>\u001b[0;34m()\u001b[0m\n\u001b[1;32m    153\u001b[0m \u001b[0;34m\u001b[0m\u001b[0m\n\u001b[1;32m    154\u001b[0m \u001b[0;31m# create dictionary that maps epsg codes to Basemap kwargs.\u001b[0m\u001b[0;34m\u001b[0m\u001b[0;34m\u001b[0m\u001b[0m\n\u001b[0;32m--> 155\u001b[0;31m \u001b[0mpyproj_datadir\u001b[0m \u001b[0;34m=\u001b[0m \u001b[0mos\u001b[0m\u001b[0;34m.\u001b[0m\u001b[0menviron\u001b[0m\u001b[0;34m[\u001b[0m\u001b[0;34m'PROJ_LIB'\u001b[0m\u001b[0;34m]\u001b[0m\u001b[0;34m\u001b[0m\u001b[0m\n\u001b[0m\u001b[1;32m    156\u001b[0m \u001b[0mepsgf\u001b[0m \u001b[0;34m=\u001b[0m \u001b[0mopen\u001b[0m\u001b[0;34m(\u001b[0m\u001b[0mos\u001b[0m\u001b[0;34m.\u001b[0m\u001b[0mpath\u001b[0m\u001b[0;34m.\u001b[0m\u001b[0mjoin\u001b[0m\u001b[0;34m(\u001b[0m\u001b[0mpyproj_datadir\u001b[0m\u001b[0;34m,\u001b[0m\u001b[0;34m'epsg'\u001b[0m\u001b[0;34m)\u001b[0m\u001b[0;34m)\u001b[0m\u001b[0;34m\u001b[0m\u001b[0m\n\u001b[1;32m    157\u001b[0m \u001b[0mepsg_dict\u001b[0m\u001b[0;34m=\u001b[0m\u001b[0;34m{\u001b[0m\u001b[0;34m}\u001b[0m\u001b[0;34m\u001b[0m\u001b[0m\n",
      "\u001b[0;32m~/anaconda3/lib/python3.6/os.py\u001b[0m in \u001b[0;36m__getitem__\u001b[0;34m(self, key)\u001b[0m\n\u001b[1;32m    667\u001b[0m         \u001b[0;32mexcept\u001b[0m \u001b[0mKeyError\u001b[0m\u001b[0;34m:\u001b[0m\u001b[0;34m\u001b[0m\u001b[0m\n\u001b[1;32m    668\u001b[0m             \u001b[0;31m# raise KeyError with the original key value\u001b[0m\u001b[0;34m\u001b[0m\u001b[0;34m\u001b[0m\u001b[0m\n\u001b[0;32m--> 669\u001b[0;31m             \u001b[0;32mraise\u001b[0m \u001b[0mKeyError\u001b[0m\u001b[0;34m(\u001b[0m\u001b[0mkey\u001b[0m\u001b[0;34m)\u001b[0m \u001b[0;32mfrom\u001b[0m \u001b[0;32mNone\u001b[0m\u001b[0;34m\u001b[0m\u001b[0m\n\u001b[0m\u001b[1;32m    670\u001b[0m         \u001b[0;32mreturn\u001b[0m \u001b[0mself\u001b[0m\u001b[0;34m.\u001b[0m\u001b[0mdecodevalue\u001b[0m\u001b[0;34m(\u001b[0m\u001b[0mvalue\u001b[0m\u001b[0;34m)\u001b[0m\u001b[0;34m\u001b[0m\u001b[0m\n\u001b[1;32m    671\u001b[0m \u001b[0;34m\u001b[0m\u001b[0m\n",
      "\u001b[0;31mKeyError\u001b[0m: 'PROJ_LIB'"
     ]
    }
   ],
   "source": [
    "from mpl_toolkits.basemap import Basemap\n",
    "import numpy as np\n",
    "import matplotlib.pyplot as plt\n"
   ]
  },
  {
   "cell_type": "code",
   "execution_count": 46,
   "metadata": {},
   "outputs": [
    {
     "name": "stdout",
     "output_type": "stream",
     "text": [
      "environ({'TERM_PROGRAM': 'Apple_Terminal', 'SHELL': '/bin/bash', 'TERM': 'xterm-color', 'TMPDIR': '/var/folders/q5/nqy0fkcd4zggwwj6v_bl5znh0000gn/T/', 'TERM_PROGRAM_VERSION': '433', 'TERM_SESSION_ID': '9CC5DFDE-AE9E-461D-A720-5DB0A976D74D', 'USER': 'harisx91', 'SSH_AUTH_SOCK': '/private/tmp/com.apple.launchd.uBuwS2q9Z7/Listeners', 'PATH': '/Users/harisx91/anaconda3/bin:/Users/harisx91/anaconda3/bin:/usr/local/bin:/usr/bin:/bin:/usr/sbin:/sbin', 'LaunchInstanceID': 'E26E652A-A613-4490-A559-637CC828FB64', 'PWD': '/Users/harisx91', 'LANG': 'en_US.UTF-8', 'XPC_FLAGS': '0x0', 'XPC_SERVICE_NAME': '0', 'SHLVL': '1', 'HOME': '/Users/harisx91', 'LOGNAME': 'harisx91', 'SECURITYSESSIONID': '186b9', '_': '/Users/harisx91/anaconda3/bin/jupyter', 'JPY_PARENT_PID': '35769', 'CLICOLOR': '1', 'PAGER': 'cat', 'GIT_PAGER': 'cat', 'MPLBACKEND': 'module://ipykernel.pylab.backend_inline'})\n"
     ]
    }
   ],
   "source": [
    "print (os.environ)"
   ]
  },
  {
   "cell_type": "code",
   "execution_count": 47,
   "metadata": {},
   "outputs": [
    {
     "ename": "NameError",
     "evalue": "name 'Basemap' is not defined",
     "output_type": "error",
     "traceback": [
      "\u001b[0;31m---------------------------------------------------------------------------\u001b[0m",
      "\u001b[0;31mNameError\u001b[0m                                 Traceback (most recent call last)",
      "\u001b[0;32m<ipython-input-47-89cdae907031>\u001b[0m in \u001b[0;36m<module>\u001b[0;34m()\u001b[0m\n\u001b[1;32m      8\u001b[0m \u001b[0;34m\u001b[0m\u001b[0m\n\u001b[1;32m      9\u001b[0m \u001b[0;31m# A basic map\u001b[0m\u001b[0;34m\u001b[0m\u001b[0;34m\u001b[0m\u001b[0m\n\u001b[0;32m---> 10\u001b[0;31m \u001b[0mm\u001b[0m\u001b[0;34m=\u001b[0m\u001b[0mBasemap\u001b[0m\u001b[0;34m(\u001b[0m\u001b[0mllcrnrlon\u001b[0m\u001b[0;34m=\u001b[0m\u001b[0;34m-\u001b[0m\u001b[0;36m160\u001b[0m\u001b[0;34m,\u001b[0m \u001b[0mllcrnrlat\u001b[0m\u001b[0;34m=\u001b[0m\u001b[0;34m-\u001b[0m\u001b[0;36m75\u001b[0m\u001b[0;34m,\u001b[0m\u001b[0murcrnrlon\u001b[0m\u001b[0;34m=\u001b[0m\u001b[0;36m160\u001b[0m\u001b[0;34m,\u001b[0m\u001b[0murcrnrlat\u001b[0m\u001b[0;34m=\u001b[0m\u001b[0;36m80\u001b[0m\u001b[0;34m)\u001b[0m\u001b[0;34m\u001b[0m\u001b[0m\n\u001b[0m\u001b[1;32m     11\u001b[0m \u001b[0mm\u001b[0m\u001b[0;34m.\u001b[0m\u001b[0mdrawmapboundary\u001b[0m\u001b[0;34m(\u001b[0m\u001b[0mfill_color\u001b[0m\u001b[0;34m=\u001b[0m\u001b[0;34m'#A6CAE0'\u001b[0m\u001b[0;34m,\u001b[0m \u001b[0mlinewidth\u001b[0m\u001b[0;34m=\u001b[0m\u001b[0;36m0\u001b[0m\u001b[0;34m)\u001b[0m\u001b[0;34m\u001b[0m\u001b[0m\n\u001b[1;32m     12\u001b[0m \u001b[0mm\u001b[0m\u001b[0;34m.\u001b[0m\u001b[0mfillcontinents\u001b[0m\u001b[0;34m(\u001b[0m\u001b[0mcolor\u001b[0m\u001b[0;34m=\u001b[0m\u001b[0;34m'grey'\u001b[0m\u001b[0;34m,\u001b[0m \u001b[0malpha\u001b[0m\u001b[0;34m=\u001b[0m\u001b[0;36m0.7\u001b[0m\u001b[0;34m,\u001b[0m \u001b[0mlake_color\u001b[0m\u001b[0;34m=\u001b[0m\u001b[0;34m'grey'\u001b[0m\u001b[0;34m)\u001b[0m\u001b[0;34m\u001b[0m\u001b[0m\n",
      "\u001b[0;31mNameError\u001b[0m: name 'Basemap' is not defined"
     ]
    }
   ],
   "source": [
    " \n",
    "# Make a data frame with the GPS of a few cities:\n",
    "data = pd.DataFrame({\n",
    "'lat':[-58, 2, 145, 30.32, -4.03, -73.57, 36.82, -38.5],\n",
    "'lon':[-34, 49, -38, 59.93, 5.33, 45.52, -1.29, -12.97],\n",
    "'name':['Buenos Aires', 'Paris', 'melbourne', 'St Petersbourg', 'Abidjan', 'Montreal', 'Nairobi', 'Salvador']\n",
    "})\n",
    " \n",
    "# A basic map\n",
    "m=Basemap(llcrnrlon=-160, llcrnrlat=-75,urcrnrlon=160,urcrnrlat=80)\n",
    "m.drawmapboundary(fill_color='#A6CAE0', linewidth=0)\n",
    "m.fillcontinents(color='grey', alpha=0.7, lake_color='grey')\n",
    "m.drawcoastlines(linewidth=0.1, color=\"white\")\n",
    " \n",
    "# Add a marker per city of the data frame!\n",
    "m.plot(data['lat'], data['lon'], linestyle='none', marker=\"o\", markersize=16, alpha=0.6, c=\"orange\", markeredgecolor=\"black\", markeredgewidth=1)"
   ]
  },
  {
   "cell_type": "code",
   "execution_count": null,
   "metadata": {},
   "outputs": [],
   "source": []
  }
 ],
 "metadata": {
  "kernelspec": {
   "display_name": "Python 3",
   "language": "python",
   "name": "python3"
  },
  "language_info": {
   "codemirror_mode": {
    "name": "ipython",
    "version": 3
   },
   "file_extension": ".py",
   "mimetype": "text/x-python",
   "name": "python",
   "nbconvert_exporter": "python",
   "pygments_lexer": "ipython3",
   "version": "3.6.5"
  }
 },
 "nbformat": 4,
 "nbformat_minor": 2
}

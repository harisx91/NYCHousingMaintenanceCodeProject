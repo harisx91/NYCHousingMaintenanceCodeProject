{
 "cells": [
  {
   "cell_type": "markdown",
   "metadata": {},
   "source": [
    "### Elham Bahrami\n",
    "### 12/14/2019\n",
    "### Final Project"
   ]
  },
  {
   "cell_type": "markdown",
   "metadata": {},
   "source": [
    "I am going to see which how incident classes are changed over the years, to make the analyz more understandable I used downlaoded bewlow data sets for years from 2012 to 2018 and then concatenate them.<br> After that I am going to see how incident classes are over the years and also how they are in terms of status!"
   ]
  },
  {
   "cell_type": "code",
   "execution_count": 267,
   "metadata": {},
   "outputs": [],
   "source": [
    "import pandas as pd\n",
    "import matplotlib.pyplot as plt\n",
    "import numpy as np"
   ]
  },
  {
   "cell_type": "code",
   "execution_count": 390,
   "metadata": {},
   "outputs": [],
   "source": [
    "df_2018 = pd.read_csv('https://data.cityofnewyork.us/resource/wvxf-dwi5.csv?$query=Select%20inspectiondate,class,boro,currentstatus,currentstatusdate%20where%20inspectiondate%20between%20%272018-01-01T12:00:00%27%20and%20%272018-12-31T23:59:00%27%20limit%20900000')"
   ]
  },
  {
   "cell_type": "code",
   "execution_count": 391,
   "metadata": {},
   "outputs": [],
   "source": [
    "df_2017 = pd.read_csv('https://data.cityofnewyork.us/resource/wvxf-dwi5.csv?$query=Select%20inspectiondate,class,boro,currentstatus,currentstatusdate%20where%20inspectiondate%20between%20%272017-01-01T12:00:00%27%20and%20%272017-12-31T23:59:00%27%20limit%20900000')"
   ]
  },
  {
   "cell_type": "code",
   "execution_count": 392,
   "metadata": {},
   "outputs": [],
   "source": [
    "df_2016 = pd.read_csv('https://data.cityofnewyork.us/resource/wvxf-dwi5.csv?$query=Select%20inspectiondate,class,boro,currentstatus,currentstatusdate%20where%20inspectiondate%20between%20%272016-01-01T12:00:00%27%20and%20%272016-12-31T23:59:00%27%20limit%20900000')"
   ]
  },
  {
   "cell_type": "code",
   "execution_count": 399,
   "metadata": {},
   "outputs": [],
   "source": [
    "df_2015 = pd.read_csv('https://data.cityofnewyork.us/resource/wvxf-dwi5.csv?$query=Select%20inspectiondate,class,boro,currentstatus,currentstatusdate%20where%20inspectiondate%20between%20%272015-01-01T12:00:00%27%20and%20%272015-12-31T23:59:00%27%20limit%20900000')"
   ]
  },
  {
   "cell_type": "code",
   "execution_count": 393,
   "metadata": {},
   "outputs": [],
   "source": [
    "df_2014 = pd.read_csv('https://data.cityofnewyork.us/resource/wvxf-dwi5.csv?$query=Select%20inspectiondate,class,boro,currentstatus,currentstatusdate%20where%20inspectiondate%20between%20%272014-01-01T12:00:00%27%20and%20%272014-12-31T23:59:00%27%20limit%20900000')"
   ]
  },
  {
   "cell_type": "code",
   "execution_count": 400,
   "metadata": {},
   "outputs": [],
   "source": [
    "df_2013 = pd.read_csv('https://data.cityofnewyork.us/resource/wvxf-dwi5.csv?$query=Select%20inspectiondate,class,boro,currentstatus,currentstatusdate%20where%20inspectiondate%20between%20%272013-01-01T12:00:00%27%20and%20%272013-12-31T23:59:00%27%20limit%20900000')"
   ]
  },
  {
   "cell_type": "code",
   "execution_count": 402,
   "metadata": {},
   "outputs": [],
   "source": [
    "df_2012 = pd.read_csv('https://data.cityofnewyork.us/resource/wvxf-dwi5.csv?$query=Select%20inspectiondate,class,boro,currentstatus,currentstatusdate%20where%20inspectiondate%20between%20%272012-01-01T12:00:00%27%20and%20%272012-12-31T23:59:00%27%20limit%20900000')"
   ]
  },
  {
   "cell_type": "markdown",
   "metadata": {},
   "source": [
    "Now it is better to concatenate the data sets."
   ]
  },
  {
   "cell_type": "code",
   "execution_count": 526,
   "metadata": {},
   "outputs": [],
   "source": [
    "df = pd.concat([df_2012, df_2013, df_2014,df_2015, df_2016, df_2017, df_2018])"
   ]
  },
  {
   "cell_type": "markdown",
   "metadata": {},
   "source": [
    "boro is not the right name for Borough, so in order to make it more undrestanable we change it to borough"
   ]
  },
  {
   "cell_type": "code",
   "execution_count": 445,
   "metadata": {},
   "outputs": [],
   "source": [
    "df.rename(columns={'boro': 'borough'}, inplace=True)"
   ]
  },
  {
   "cell_type": "code",
   "execution_count": 447,
   "metadata": {},
   "outputs": [],
   "source": [
    "df['inspectiondate'] = pd.to_datetime(df['inspectiondate'])"
   ]
  },
  {
   "cell_type": "code",
   "execution_count": 448,
   "metadata": {},
   "outputs": [],
   "source": [
    "df['year'] = df.inspectiondate.dt.to_period('Y')"
   ]
  },
  {
   "cell_type": "markdown",
   "metadata": {},
   "source": [
    "Let's see how many incident we have per class per year, Benjamin ploted number of incidents each year and they goes up each year, before we go to see how the classes changes over the years, let's have a glance how the numbers of incidents are each class over the years."
   ]
  },
  {
   "cell_type": "code",
   "execution_count": 511,
   "metadata": {
    "scrolled": true
   },
   "outputs": [
    {
     "data": {
      "text/plain": [
       "year  class\n",
       "2012  A         54913\n",
       "      B        178451\n",
       "      C         56724\n",
       "      I          1173\n",
       "2013  A         67412\n",
       "      B        221219\n",
       "      C         89438\n",
       "      I          1627\n",
       "2014  A         67622\n",
       "      B        236104\n",
       "      C         92285\n",
       "      I          1223\n",
       "2015  A         95127\n",
       "      B        249947\n",
       "      C         90872\n",
       "      I        114210\n",
       "2016  A         92759\n",
       "      B        264723\n",
       "      C         93054\n",
       "      I         62998\n",
       "2017  A        124632\n",
       "      B        285201\n",
       "      C         97402\n",
       "      I         49648\n",
       "2018  A        139015\n",
       "      B        324454\n",
       "      C        104749\n",
       "      I         74632\n",
       "dtype: int64"
      ]
     },
     "execution_count": 511,
     "metadata": {},
     "output_type": "execute_result"
    }
   ],
   "source": [
    "df.groupby(['year', 'class']).size()"
   ]
  },
  {
   "cell_type": "markdown",
   "metadata": {},
   "source": [
    "Also see it in one plot!"
   ]
  },
  {
   "cell_type": "code",
   "execution_count": 465,
   "metadata": {},
   "outputs": [
    {
     "data": {
      "text/plain": [
       "Text(0,0.5,'incident')"
      ]
     },
     "execution_count": 465,
     "metadata": {},
     "output_type": "execute_result"
    },
    {
     "data": {
      "image/png": "[encoded data removed]",
      "text/plain": [
       "<Figure size 432x288 with 1 Axes>"
      ]
     },
     "metadata": {
      "needs_background": "light"
     },
     "output_type": "display_data"
    }
   ],
   "source": [
    "df.groupby(['year', 'class']).size().plot.bar()\n",
    "plt.title('Incident Per year-class')\n",
    "plt.xlabel('year-class')\n",
    "plt.ylabel('incident')"
   ]
  },
  {
   "cell_type": "markdown",
   "metadata": {},
   "source": [
    "In order to see the difference and the changes I need to put the result of previuos cell to a dataframe and go for it."
   ]
  },
  {
   "cell_type": "code",
   "execution_count": 470,
   "metadata": {},
   "outputs": [],
   "source": [
    "f = df.groupby(['year', 'class']).size()\n",
    "f = f.reset_index().set_index('year')\n",
    "f = pd.DataFrame(f)\n",
    "f['difff'] = f.iloc[:,1\n",
    "      ].pct_change(periods=4)"
   ]
  },
  {
   "cell_type": "code",
   "execution_count": 503,
   "metadata": {},
   "outputs": [
    {
     "data": {
      "text/html": [
       "<div>\n",
       "<style scoped>\n",
       "    .dataframe tbody tr th:only-of-type {\n",
       "        vertical-align: middle;\n",
       "    }\n",
       "\n",
       "    .dataframe tbody tr th {\n",
       "        vertical-align: top;\n",
       "    }\n",
       "\n",
       "    .dataframe thead th {\n",
       "        text-align: right;\n",
       "    }\n",
       "</style>\n",
       "<table border=\"1\" class=\"dataframe\">\n",
       "  <thead>\n",
       "    <tr style=\"text-align: right;\">\n",
       "      <th></th>\n",
       "      <th>class</th>\n",
       "      <th>0</th>\n",
       "      <th>difff</th>\n",
       "    </tr>\n",
       "    <tr>\n",
       "      <th>year</th>\n",
       "      <th></th>\n",
       "      <th></th>\n",
       "      <th></th>\n",
       "    </tr>\n",
       "  </thead>\n",
       "  <tbody>\n",
       "    <tr>\n",
       "      <th>2012</th>\n",
       "      <td>A</td>\n",
       "      <td>54913</td>\n",
       "      <td>NaN</td>\n",
       "    </tr>\n",
       "    <tr>\n",
       "      <th>2012</th>\n",
       "      <td>B</td>\n",
       "      <td>178451</td>\n",
       "      <td>NaN</td>\n",
       "    </tr>\n",
       "    <tr>\n",
       "      <th>2012</th>\n",
       "      <td>C</td>\n",
       "      <td>56724</td>\n",
       "      <td>NaN</td>\n",
       "    </tr>\n",
       "    <tr>\n",
       "      <th>2012</th>\n",
       "      <td>I</td>\n",
       "      <td>1173</td>\n",
       "      <td>NaN</td>\n",
       "    </tr>\n",
       "    <tr>\n",
       "      <th>2013</th>\n",
       "      <td>A</td>\n",
       "      <td>67412</td>\n",
       "      <td>0.227615</td>\n",
       "    </tr>\n",
       "    <tr>\n",
       "      <th>2013</th>\n",
       "      <td>B</td>\n",
       "      <td>221219</td>\n",
       "      <td>0.239662</td>\n",
       "    </tr>\n",
       "    <tr>\n",
       "      <th>2013</th>\n",
       "      <td>C</td>\n",
       "      <td>89438</td>\n",
       "      <td>0.576722</td>\n",
       "    </tr>\n",
       "    <tr>\n",
       "      <th>2013</th>\n",
       "      <td>I</td>\n",
       "      <td>1627</td>\n",
       "      <td>0.387042</td>\n",
       "    </tr>\n",
       "    <tr>\n",
       "      <th>2014</th>\n",
       "      <td>A</td>\n",
       "      <td>67622</td>\n",
       "      <td>0.003115</td>\n",
       "    </tr>\n",
       "    <tr>\n",
       "      <th>2014</th>\n",
       "      <td>B</td>\n",
       "      <td>236104</td>\n",
       "      <td>0.067286</td>\n",
       "    </tr>\n",
       "    <tr>\n",
       "      <th>2014</th>\n",
       "      <td>C</td>\n",
       "      <td>92285</td>\n",
       "      <td>0.031832</td>\n",
       "    </tr>\n",
       "    <tr>\n",
       "      <th>2014</th>\n",
       "      <td>I</td>\n",
       "      <td>1223</td>\n",
       "      <td>-0.248310</td>\n",
       "    </tr>\n",
       "    <tr>\n",
       "      <th>2015</th>\n",
       "      <td>A</td>\n",
       "      <td>95127</td>\n",
       "      <td>0.406746</td>\n",
       "    </tr>\n",
       "    <tr>\n",
       "      <th>2015</th>\n",
       "      <td>B</td>\n",
       "      <td>249947</td>\n",
       "      <td>0.058631</td>\n",
       "    </tr>\n",
       "    <tr>\n",
       "      <th>2015</th>\n",
       "      <td>C</td>\n",
       "      <td>90872</td>\n",
       "      <td>-0.015311</td>\n",
       "    </tr>\n",
       "    <tr>\n",
       "      <th>2015</th>\n",
       "      <td>I</td>\n",
       "      <td>114210</td>\n",
       "      <td>92.385119</td>\n",
       "    </tr>\n",
       "    <tr>\n",
       "      <th>2016</th>\n",
       "      <td>A</td>\n",
       "      <td>92759</td>\n",
       "      <td>-0.024893</td>\n",
       "    </tr>\n",
       "    <tr>\n",
       "      <th>2016</th>\n",
       "      <td>B</td>\n",
       "      <td>264723</td>\n",
       "      <td>0.059117</td>\n",
       "    </tr>\n",
       "    <tr>\n",
       "      <th>2016</th>\n",
       "      <td>C</td>\n",
       "      <td>93054</td>\n",
       "      <td>0.024012</td>\n",
       "    </tr>\n",
       "    <tr>\n",
       "      <th>2016</th>\n",
       "      <td>I</td>\n",
       "      <td>62998</td>\n",
       "      <td>-0.448402</td>\n",
       "    </tr>\n",
       "    <tr>\n",
       "      <th>2017</th>\n",
       "      <td>A</td>\n",
       "      <td>124632</td>\n",
       "      <td>0.343611</td>\n",
       "    </tr>\n",
       "    <tr>\n",
       "      <th>2017</th>\n",
       "      <td>B</td>\n",
       "      <td>285201</td>\n",
       "      <td>0.077356</td>\n",
       "    </tr>\n",
       "    <tr>\n",
       "      <th>2017</th>\n",
       "      <td>C</td>\n",
       "      <td>97402</td>\n",
       "      <td>0.046726</td>\n",
       "    </tr>\n",
       "    <tr>\n",
       "      <th>2017</th>\n",
       "      <td>I</td>\n",
       "      <td>49648</td>\n",
       "      <td>-0.211911</td>\n",
       "    </tr>\n",
       "    <tr>\n",
       "      <th>2018</th>\n",
       "      <td>A</td>\n",
       "      <td>139015</td>\n",
       "      <td>0.115404</td>\n",
       "    </tr>\n",
       "    <tr>\n",
       "      <th>2018</th>\n",
       "      <td>B</td>\n",
       "      <td>324454</td>\n",
       "      <td>0.137633</td>\n",
       "    </tr>\n",
       "    <tr>\n",
       "      <th>2018</th>\n",
       "      <td>C</td>\n",
       "      <td>104749</td>\n",
       "      <td>0.075430</td>\n",
       "    </tr>\n",
       "    <tr>\n",
       "      <th>2018</th>\n",
       "      <td>I</td>\n",
       "      <td>74632</td>\n",
       "      <td>0.503223</td>\n",
       "    </tr>\n",
       "  </tbody>\n",
       "</table>\n",
       "</div>"
      ],
      "text/plain": [
       "     class       0      difff\n",
       "year                         \n",
       "2012     A   54913        NaN\n",
       "2012     B  178451        NaN\n",
       "2012     C   56724        NaN\n",
       "2012     I    1173        NaN\n",
       "2013     A   67412   0.227615\n",
       "2013     B  221219   0.239662\n",
       "2013     C   89438   0.576722\n",
       "2013     I    1627   0.387042\n",
       "2014     A   67622   0.003115\n",
       "2014     B  236104   0.067286\n",
       "2014     C   92285   0.031832\n",
       "2014     I    1223  -0.248310\n",
       "2015     A   95127   0.406746\n",
       "2015     B  249947   0.058631\n",
       "2015     C   90872  -0.015311\n",
       "2015     I  114210  92.385119\n",
       "2016     A   92759  -0.024893\n",
       "2016     B  264723   0.059117\n",
       "2016     C   93054   0.024012\n",
       "2016     I   62998  -0.448402\n",
       "2017     A  124632   0.343611\n",
       "2017     B  285201   0.077356\n",
       "2017     C   97402   0.046726\n",
       "2017     I   49648  -0.211911\n",
       "2018     A  139015   0.115404\n",
       "2018     B  324454   0.137633\n",
       "2018     C  104749   0.075430\n",
       "2018     I   74632   0.503223"
      ]
     },
     "execution_count": 503,
     "metadata": {},
     "output_type": "execute_result"
    }
   ],
   "source": [
    "f"
   ]
  },
  {
   "cell_type": "markdown",
   "metadata": {},
   "source": [
    "Now let's see which the max and min for each."
   ]
  },
  {
   "cell_type": "code",
   "execution_count": 510,
   "metadata": {},
   "outputs": [
    {
     "data": {
      "text/html": [
       "<div>\n",
       "<style scoped>\n",
       "    .dataframe tbody tr th:only-of-type {\n",
       "        vertical-align: middle;\n",
       "    }\n",
       "\n",
       "    .dataframe tbody tr th {\n",
       "        vertical-align: top;\n",
       "    }\n",
       "\n",
       "    .dataframe thead tr th {\n",
       "        text-align: left;\n",
       "    }\n",
       "\n",
       "    .dataframe thead tr:last-of-type th {\n",
       "        text-align: right;\n",
       "    }\n",
       "</style>\n",
       "<table border=\"1\" class=\"dataframe\">\n",
       "  <thead>\n",
       "    <tr>\n",
       "      <th></th>\n",
       "      <th colspan=\"2\" halign=\"left\">difff</th>\n",
       "    </tr>\n",
       "    <tr>\n",
       "      <th></th>\n",
       "      <th>min</th>\n",
       "      <th>max</th>\n",
       "    </tr>\n",
       "    <tr>\n",
       "      <th>class</th>\n",
       "      <th></th>\n",
       "      <th></th>\n",
       "    </tr>\n",
       "  </thead>\n",
       "  <tbody>\n",
       "    <tr>\n",
       "      <th>A</th>\n",
       "      <td>-0.024893</td>\n",
       "      <td>0.406746</td>\n",
       "    </tr>\n",
       "    <tr>\n",
       "      <th>B</th>\n",
       "      <td>0.058631</td>\n",
       "      <td>0.239662</td>\n",
       "    </tr>\n",
       "    <tr>\n",
       "      <th>C</th>\n",
       "      <td>-0.015311</td>\n",
       "      <td>0.576722</td>\n",
       "    </tr>\n",
       "    <tr>\n",
       "      <th>I</th>\n",
       "      <td>-0.448402</td>\n",
       "      <td>92.385119</td>\n",
       "    </tr>\n",
       "  </tbody>\n",
       "</table>\n",
       "</div>"
      ],
      "text/plain": [
       "          difff           \n",
       "            min        max\n",
       "class                     \n",
       "A     -0.024893   0.406746\n",
       "B      0.058631   0.239662\n",
       "C     -0.015311   0.576722\n",
       "I     -0.448402  92.385119"
      ]
     },
     "execution_count": 510,
     "metadata": {},
     "output_type": "execute_result"
    }
   ],
   "source": [
    "f.groupby('class').agg({'difff':['min','max']})"
   ]
  },
  {
   "cell_type": "markdown",
   "metadata": {},
   "source": [
    "Even though the number of inident B is the highest one but its maximum of the changes is the lowest, for Incident I is the highest one since it does not have that number maybe it is not worth it to investigate more details but the changes of incident C is markable and need more attentions!"
   ]
  },
  {
   "cell_type": "markdown",
   "metadata": {},
   "source": [
    "Maybe it is the time to see which borough has the highest number of closed cases and see the ratio of it for the incident classes.\n",
    "Benjamin did for dissmised and not-closed and I realized that it's worth it to look the same for closed cased."
   ]
  },
  {
   "cell_type": "code",
   "execution_count": 517,
   "metadata": {},
   "outputs": [
    {
     "data": {
      "text/plain": [
       "VIOLATION CLOSED                            1646537\n",
       "VIOLATION DISMISSED                          917473\n",
       "NOV SENT OUT                                 429576\n",
       "INFO NOV SENT OUT                             91528\n",
       "NOT COMPLIED WITH                             90011\n",
       "FIRST NO ACCESS TO RE- INSPECT VIOLATION      80191\n",
       "NOV CERTIFIED LATE                            26354\n",
       "INVALID CERTIFICATION                         20997\n",
       "SECOND NO ACCESS TO RE-INSPECT VIOLATION       7705\n",
       "DEFECT LETTER ISSUED                           6915\n",
       "VIOLATION WILL BE REINSPECTED                  4132\n",
       "FALSE CERTIFICATION                            3291\n",
       "CERTIFICATION POSTPONMENT DENIED               3041\n",
       "CERTIFICATION POSTPONMENT GRANTED              2517\n",
       "CIV14 MAILED                                    785\n",
       "NOV CERTIFIED ON TIME                           355\n",
       "VIOLATION REOPEN                                129\n",
       "VIOLATION OPEN                                   76\n",
       "COMPLIED IN ACCESS AREA                           1\n",
       "Name: currentstatus, dtype: int64"
      ]
     },
     "execution_count": 517,
     "metadata": {},
     "output_type": "execute_result"
    }
   ],
   "source": [
    "df.currentstatus.value_counts()"
   ]
  },
  {
   "cell_type": "code",
   "execution_count": 450,
   "metadata": {},
   "outputs": [],
   "source": [
    "closed = df[df['currentstatus']== 'VIOLATION CLOSED']"
   ]
  },
  {
   "cell_type": "code",
   "execution_count": null,
   "metadata": {},
   "outputs": [],
   "source": [
    "closed = df[df['currentstatus']== 'VIOLATION CLOSED']"
   ]
  },
  {
   "cell_type": "code",
   "execution_count": 451,
   "metadata": {},
   "outputs": [
    {
     "data": {
      "text/plain": [
       "borough\n",
       "BRONX            560933\n",
       "BROOKLYN         593020\n",
       "MANHATTAN        358464\n",
       "QUEENS           111106\n",
       "STATEN ISLAND     23014\n",
       "dtype: int64"
      ]
     },
     "execution_count": 451,
     "metadata": {},
     "output_type": "execute_result"
    }
   ],
   "source": [
    "closed.groupby(['borough']).size()"
   ]
  },
  {
   "cell_type": "code",
   "execution_count": 513,
   "metadata": {},
   "outputs": [
    {
     "data": {
      "text/plain": [
       "B    896317\n",
       "C    433977\n",
       "A    310250\n",
       "I      5993\n",
       "Name: class, dtype: int64"
      ]
     },
     "execution_count": 513,
     "metadata": {},
     "output_type": "execute_result"
    }
   ],
   "source": [
    "closed['class'].value_counts()"
   ]
  },
  {
   "cell_type": "markdown",
   "metadata": {},
   "source": [
    "So class B which is meidum sever off incident has the highest number of closed cases!"
   ]
  },
  {
   "cell_type": "markdown",
   "metadata": {},
   "source": [
    "The Bronx has the highest number of closed cases!"
   ]
  },
  {
   "cell_type": "markdown",
   "metadata": {},
   "source": [
    "Let's see how they are for dissmised case!"
   ]
  },
  {
   "cell_type": "code",
   "execution_count": 518,
   "metadata": {},
   "outputs": [],
   "source": [
    "dismissed = df[df['currentstatus']== 'VIOLATION DISMISSED']"
   ]
  },
  {
   "cell_type": "code",
   "execution_count": 527,
   "metadata": {},
   "outputs": [
    {
     "data": {
      "text/plain": [
       "BRONX            325958\n",
       "BROOKLYN         285601\n",
       "MANHATTAN        191809\n",
       "QUEENS           105612\n",
       "STATEN ISLAND      8493\n",
       "Name: borough, dtype: int64"
      ]
     },
     "execution_count": 527,
     "metadata": {},
     "output_type": "execute_result"
    }
   ],
   "source": [
    "dismissed['borough'].value_counts()"
   ]
  },
  {
   "cell_type": "code",
   "execution_count": 520,
   "metadata": {},
   "outputs": [
    {
     "data": {
      "text/plain": [
       "B    433415\n",
       "I    206394\n",
       "A    179521\n",
       "C     98143\n",
       "Name: class, dtype: int64"
      ]
     },
     "execution_count": 520,
     "metadata": {},
     "output_type": "execute_result"
    }
   ],
   "source": [
    "dissmised['class'].value_counts()"
   ]
  },
  {
   "cell_type": "markdown",
   "metadata": {},
   "source": [
    "The same result for the dissmised cases"
   ]
  },
  {
   "cell_type": "code",
   "execution_count": 524,
   "metadata": {},
   "outputs": [
    {
     "data": {
      "text/plain": [
       "BRONX           -234975\n",
       "BROOKLYN        -307419\n",
       "MANHATTAN       -166655\n",
       "QUEENS            -5494\n",
       "STATEN ISLAND    -14521\n",
       "Name: borough, dtype: int64"
      ]
     },
     "execution_count": 524,
     "metadata": {},
     "output_type": "execute_result"
    }
   ],
   "source": [
    "d = dismissed['borough'].value_counts()- closed['borough'].value_counts()\n",
    "d"
   ]
  },
  {
   "cell_type": "markdown",
   "metadata": {},
   "source": [
    "As we can see in each borough number of closed cases are more than dissmised cases."
   ]
  },
  {
   "cell_type": "code",
   "execution_count": null,
   "metadata": {},
   "outputs": [],
   "source": []
  }
 ],
 "metadata": {
  "kernelspec": {
   "display_name": "Python 3",
   "language": "python",
   "name": "python3"
  },
  "language_info": {
   "codemirror_mode": {
    "name": "ipython",
    "version": 3
   },
   "file_extension": ".py",
   "mimetype": "text/x-python",
   "name": "python",
   "nbconvert_exporter": "python",
   "pygments_lexer": "ipython3",
   "version": "3.7.2"
  }
 },
 "nbformat": 4,
 "nbformat_minor": 2
}
